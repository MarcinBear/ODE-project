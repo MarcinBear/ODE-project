{
 "cells": [
  {
   "cell_type": "markdown",
   "metadata": {},
   "source": [
    "# $$\\text{Dynamika rzutu w koszykówce}$$\n",
    "$$\\text{Mikołaj Langner, Marcin Miśkiewicz}$$\n",
    "$$\\scriptstyle \\text{Wydział Matematyki Politechniki Wrocławskiej}$$"
   ]
  },
  {
   "cell_type": "markdown",
   "metadata": {},
   "source": [
    "## $\\text{Abstrakt}$\n",
    "\n",
    "___\n",
    "\n",
    "<span style='font-size:larger;font-family:\"Didot\"'>\n",
    "Przedmiotem niniejszego projektu jest Lorem ipsum dolor sit amet, consectetur adipiscing elit. Aenean feugiat quam eu dui viverra tempus. Pellentesque consectetur eros sit amet felis consectetur maximus in non ex. Proin nec dui ac ipsum interdum mattis. Class aptent taciti sociosqu ad litora torquent per conubia nostra, per inceptos himenaeos. Cras et pretium ipsum, sed venenatis magna. Nulla sodales ipsum sed orci fermentum pharetra. In hac habitasse platea  </span>"
   ]
  },
  {
   "cell_type": "markdown",
   "metadata": {},
   "source": [
    "## $\\text{1. Wprowadzenie}$ \n",
    "\n",
    "___\n",
    "\n",
    "<span style='font-size:larger;font-family:\"Didot\"'>\n",
    "    \n",
    "Lorem ipsum dolor sit amet, consectetur adipiscing elit. Aenean feugiat quam eu dui viverra tempus. Pellentesque consectetur eros sit amet felis consectetur maximus [[1]](#references) in non ex. Proin nec dui ac ipsum interdum mattis. Class aptent taciti sociosqu ad litora torquent per conubia nostra, per inceptos himenaeos. Cras et pretium ipsum, sed venenatis magna. [[2]](#references) Nulla sodales ipsum sed orci fermentum pharetra. In hac habitasse plate  </span>"
   ]
  },
  {
   "cell_type": "code",
   "execution_count": null,
   "metadata": {},
   "outputs": [],
   "source": []
  },
  {
   "cell_type": "code",
   "execution_count": null,
   "metadata": {},
   "outputs": [],
   "source": []
  },
  {
   "cell_type": "code",
   "execution_count": null,
   "metadata": {},
   "outputs": [],
   "source": []
  },
  {
   "cell_type": "markdown",
   "metadata": {},
   "source": [
    "### $$\\scriptstyle \\text{BIBLIOGRAFIA}$$ <a id='references'></a>\n",
    "\n",
    "___\n",
    "\n",
    "<span style='font-size:larger;font-family:\"Didot\"'>  \n",
    "    \n",
    "[[1]](url_here) Research paper 1 \n",
    "    \n",
    "[[2]](url_here) Research paper 2 \n",
    "    \n",
    "[[3]](url_here) Research paper 3\n",
    "    \n",
    "[[4]](url_here) Research paper 4\n",
    "    \n",
    "[[5]](url_here) Research paper 5\n",
    "    \n",
    "[[6]](url_here) Research paper 6 \n",
    "\n",
    "</span>\n"
   ]
  },
  {
   "cell_type": "markdown",
   "metadata": {},
   "source": [
    "$\\begin{align} \\tag*{styczeń 2021} \\end{align}$"
   ]
  },
  {
   "cell_type": "code",
   "execution_count": null,
   "metadata": {},
   "outputs": [],
   "source": []
  },
  {
   "cell_type": "code",
   "execution_count": null,
   "metadata": {},
   "outputs": [],
   "source": []
  },
  {
   "cell_type": "code",
   "execution_count": null,
   "metadata": {},
   "outputs": [],
   "source": []
  },
  {
   "cell_type": "code",
   "execution_count": null,
   "metadata": {},
   "outputs": [],
   "source": []
  },
  {
   "cell_type": "code",
   "execution_count": null,
   "metadata": {},
   "outputs": [],
   "source": []
  },
  {
   "cell_type": "code",
   "execution_count": null,
   "metadata": {},
   "outputs": [],
   "source": []
  },
  {
   "cell_type": "markdown",
   "metadata": {},
   "source": [
    "<a id='another_cell'></a>"
   ]
  },
  {
   "cell_type": "code",
   "execution_count": null,
   "metadata": {},
   "outputs": [],
   "source": []
  }
 ],
 "metadata": {
  "kernelspec": {
   "display_name": "Julia 1.5.2",
   "language": "julia",
   "name": "julia-1.5"
  },
  "language_info": {
   "file_extension": ".jl",
   "mimetype": "application/julia",
   "name": "julia",
   "version": "1.5.2"
  }
 },
 "nbformat": 4,
 "nbformat_minor": 4
}
