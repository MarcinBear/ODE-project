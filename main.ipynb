{
 "cells": [
  {
   "cell_type": "markdown",
   "metadata": {},
   "source": [
    "$\\begin{align} \\tag*{styczeń 2021} \\end{align}$"
   ]
  },
  {
   "cell_type": "markdown",
   "metadata": {},
   "source": [
    "# $$\\text{Dynamika rzutu w koszykówce}$$\n",
    "$$\\text{Mikołaj Langner, Marcin Miśkiewicz}$$\n",
    "$$\\scriptstyle \\text{Wydział Matematyki Politechniki Wrocławskiej}$$"
   ]
  },
  {
   "cell_type": "markdown",
   "metadata": {},
   "source": [
    "## $\\text{Abstrakt}$\n",
    "\n",
    "___\n",
    "\n",
    "<span style='font-size:larger;font-family:\"Didot\"'>\n",
    "Przedmiotem niniejszego projektu jest analiza trajektorii lotu piłki do koszykówki w sytuacji oddania rzutu osobistego. Przeprowadzając symulacje numeryczne znajdziemy zbiór kątów wyrzutu i prędkości początkowych piłki dla których, w sformułowanym modelu, próba kończy się trafieniem do kosza.  </span>"
   ]
  },
  {
   "cell_type": "markdown",
   "metadata": {},
   "source": [
    "## $\\text{1. Wprowadzenie}$ \n",
    "\n",
    "___\n",
    "\n",
    "<span style='font-size:larger;font-family:\"Didot\"'>\n",
    "    \n",
    "W meczu ligi NBA na jedną drużynę przypada często ponad 20 okazji zdobycia punktu z rzutu osobistego. [[1]](#references) Nic więc dziwnego, że trenerzy oraz całe sztaby analityków przywiązują szczególną wagę do tego na pozór nieskomplikowanego elementu gry. Współcześnie, profesjonalni koszykarze mogą liczyć na indywidualne analizy opracowane tak, aby zmaksymalizować skuteczność rzutu. Możemy m.in zaobserwować różnice w kącie wyrzutu piłki wśród różnych zawodników. Dla przykładu, mający 1.91 m wzrostu Stephen Curry wyrzuca piłkę średnio pod kątem 56.4 stopni (ze skutecznością na poziomie 89.8%), natomiast mający 2.11 m wzrostu Tim Duncan, za czasów gry w lidze, wyrzucał piłkę średnio pod kątem 45.2 stopni (ze skutecznością na poziomie 73.3%). [[2]](#references) Kluczową rolę odgrywa również siła rzutu, a co za tym idzie, prędkość piłki w chwili opuszczenia dłoni gracza.\n",
    "\n",
    "</span>"
   ]
  },
  {
   "cell_type": "markdown",
   "metadata": {},
   "source": [
    "$$\\begin{cases}\n",
    "\\dot{x} = v_0\\cos{\\theta_0} \\\\\n",
    "\\dot{y} = v_0\\sin{\\theta_0} \\end{cases}$$"
   ]
  },
  {
   "cell_type": "markdown",
   "metadata": {},
   "source": [
    "## $\\text{2. Sformułowanie problemu}$ \n",
    "\n",
    "___\n",
    "\n",
    "<span style='font-size:larger;font-family:\"Didot\"'>"
   ]
  },
  {
   "cell_type": "markdown",
   "metadata": {},
   "source": [
    "___\n",
    "### $\\text{2.2 Oznaczenia stałych}$ \n",
    "\n",
    "___\n",
    "\n",
    "\n",
    "$\\begin{align}\n",
    "&\\text{masa piłki: } && m = 0.6234 \\; \\; kg \\\\\n",
    "&\\text{średnica piłki: } && D = 0.2387 \\; m \\\\\n",
    "&\\text{objętość piłki: } && V = 0.007 \\; m^3\\\\\n",
    "&\\text{pole przekroju poprzecznego¹ piłki:} && A = 0.179 \\; m^2 \\\\\n",
    "&\\text{przyspieszenie grawitacyjne: } && g = 9.81 \\; \\tfrac{m}{s^2} \\\\\n",
    "&\\text{gęstość powietrza: } && \\rho = 1.225 \\; \\tfrac{kg}{m^3} \\\\\n",
    "&\\text{współczynnik Magnusa dla piłki}^{*}: && C_M = 0.25 \\; \\tfrac{rad}{s} \\\\\n",
    "&\\text{współczynnik oporu powietrza dla piłki}^{**}: && C_D = 0.24 \\\\\n",
    "\\end{align}$\n",
    "\n",
    "$ $\n",
    "\n",
    "$\\text{Stałe pomocniczne: }$\n",
    "\n",
    "$\\begin{align} \\\\\n",
    "& B =  \\rho V g = 0.0784\\\\\n",
    "& b = \\tfrac{1}{2}C_D \\rho A = 0.026 \\\\\n",
    "& c = C_M \\rho D^3 = 0.00381 \\\\\n",
    "\\end{align}$\n",
    "\n",
    "$\\scriptstyle \\left(^{1}\\right) \\; - \\text{ przekrój - koło wielkie sfery, } \\;$\n",
    "$\\scriptstyle * \\;- \\text{ współczynnik wyznaczony w }$ [[3]](#references),\n",
    "$\\scriptstyle \\; ** \\;- \\text{ współczynnik wyznaczony w }$ [[4]](#references)"
   ]
  },
  {
   "cell_type": "markdown",
   "metadata": {},
   "source": [
    "## $\\text{3. Model}$ \n",
    "\n",
    "___\n",
    "\n",
    "<span style='font-size:larger;font-family:\"Didot\"'>"
   ]
  },
  {
   "cell_type": "markdown",
   "metadata": {},
   "source": [
    "____\n",
    "### $\\text{3.1 Założenia}$ \n",
    "\n",
    "___\n",
    "\n",
    "<span style='font-size:larger;font-family:\"Didot\"'>\n",
    "    \n",
    "* piłka jest jednorodną sferą\n",
    "    \n",
    "* ignorujemy kolizje piłki z tablicą\n",
    "    \n",
    "* Lorem ipsum"
   ]
  },
  {
   "cell_type": "markdown",
   "metadata": {},
   "source": [
    "___\n",
    "### $\\text{3.2 Pierwszy model — siła ciężkości i opór powietrza}$ \n",
    "\n",
    "___\n",
    "\n",
    "<span style='font-size:larger;font-family:\"Didot\"'>\n",
    "    \n",
    "Początkowo rozpatrzymy jedynie dwie siły działające na piłkę podczas jej lotu — siłę ciężkości oraz siłę oporu powietrza. Skorzystamy z modelu zaproponowanego w [[5]](#references). Siła grawitacji, dana wzorem\n",
    "    \n",
    "$$ F = -mg\\hat{y} $$\n",
    "    \n",
    "działa na piłkę jedynie w kierunku prostopadłym do podłoża. Siła oporu powietrza przyjmuje postać\n",
    "    \n",
    "$$ F_o = -k\\overline{v} = -3\\pi \\mu D \\overline{v} = -3\\pi \\mu D(\\dot{x}\\hat{x} + \\dot{y}\\hat{y}) $$\n",
    "    \n",
    "gdzie $\\overline{v}$ jest wektorem prędkości piłki, $\\mu = 18.1 \\cdot 10^{-6} \\; \\tfrac{N m}{s}$ oznacza lepkość dynamiczną powietrza w temperaturze 20°C i przy ciśnieniu 1013 hPa, a $D$ oznacza średnicę piłki. Korzystając z II zasady dynamiki Newtona, możemy zapisać równania ruchu piłki\n",
    "    \n",
    "    \n",
    "$$\\begin{cases} m\\ddot{x} = -k\\dot{x} \\\\ m\\ddot{y} = mg - k\\dot{y}\\end{cases}$$\n",
    "    \n",
    "    \n",
    "Zauważmy, że oba równania możemy rozwiązać analitycznie poprzez rozdzielenie zmiennych. Stosując podstawowe całkowanie oraz zakładając że $\\; x(0) = 0, \\; y(0) = 0, \\; \\dot{x}(0) = v_0\\cos{\\theta_0}, \\; \\dot{y}(0) = v_0\\sin{\\theta_0}$, otrzymujemy\n",
    "    \n",
    "$$\\begin{cases} x(t) = \\tfrac{m}{k}v_{0}\\cos{\\theta_0}\\left(1 - e^{-\\tfrac{k}{m}t}\\right)\n",
    "\\\\ y(t) = \\tfrac{mg}{k}t - \\tfrac{m}{k}\\left(v_0\\sin{\\theta_0} - \\tfrac{mg}{k} \\right)e^{-\\tfrac{k}{m}t} + \\tfrac{m}{k}\\left(v_0\\sin{\\theta_0} - \\tfrac{mg}{k} \\right) \n",
    "\\end{cases}$$\n",
    "    \n",
    "\n",
    "  "
   ]
  },
  {
   "cell_type": "markdown",
   "metadata": {},
   "source": [
    "## $\\text{4. Kolizje}$ \n",
    "\n",
    "___\n",
    "\n",
    "<span style='font-size:larger;font-family:\"Didot\"'>"
   ]
  },
  {
   "cell_type": "markdown",
   "metadata": {},
   "source": [
    "### $\\text{Założenia}$ \n",
    "\n",
    "___\n",
    "\n",
    "<span style='font-size:larger;font-family:\"Didot\"'>"
   ]
  },
  {
   "cell_type": "markdown",
   "metadata": {},
   "source": [
    "<span style='font-size:larger;font-family:\"Didot\"'>\n",
    "    \n",
    "Rozważmy teraz zderzenie piłki z obręczą. Zakładamy, że gracz jest na tyle doświadczony, że rzuca piłkę tak, że porusza się ona wyłącznie w płaszczyźnie $XY$. Dodatkowo zakładamy, że wektor prędkości kątowej jest równoległy do osi $OZ$, czyli piłka obraca się jedynie w przód albo w tył, co skutkuje brakiem obracania się piłki wokół obręczy."
   ]
  },
  {
   "cell_type": "markdown",
   "metadata": {},
   "source": [
    "<span style='font-size:larger;font-family:\"Didot\"'>\n",
    "\n",
    "Niech obręcz będzie sztywnym walcem o promieniu $R_{rim}$, a środki jej przedniej oraz tylnej będą odpowiednio punktami $P_{front},\\;P_{back}$. "
   ]
  },
  {
   "cell_type": "markdown",
   "metadata": {},
   "source": [
    "<span style='font-size:larger;font-family:\"Didot\"'>\n",
    "\n",
    "Wtedy, jeżeli rozważymy wyłącznie kolizję z obręczą (bez poślizgu i deformacji piłki), to możemy wprowadzić nowy układ współrzędnych, który będzie po prostu obróconym o odpowiedni kąt układem kartezjańskim. Nazwijmy nowy układ $X'Y'Z'$. Niech oś $OY'$ leży wzdłuż prostej, łączącej środek obręczy (przedniej lub tylnej części) oraz punkt styku piłki z obręczą i wskazuje na zewnątrz. Natomiast niech oś $OX'$ będzie prostopadła do osi $OY'$, a wersor $\\hat{z'}=\\hat{x'}\\times\\hat{y'}$. "
   ]
  },
  {
   "cell_type": "markdown",
   "metadata": {},
   "source": [
    "<span style='font-size:larger;font-family:\"Didot\"'>\n",
    "    \n",
    "Ostatecznie, załóżmy, że w kierunku $\\hat{y'}$ obserwujemy zderzenie idealnie sprężyste, natomiast w kierunku $\\hat{x'}$ idealnie niesprężyste."
   ]
  },
  {
   "cell_type": "markdown",
   "metadata": {},
   "source": [
    "### $\\text{Wzory}$ \n",
    "\n",
    "___\n",
    "\n",
    "<span style='font-size:larger;font-family:\"Didot\"'>"
   ]
  },
  {
   "cell_type": "markdown",
   "metadata": {},
   "source": [
    "<span style='font-size:larger;font-family:\"Didot\"'>\n",
    "\n",
    "Z racji, że mówimy o obrocie, będziemy reprezentować punkty poprzez liczby zespolone. Niech w momencie styku środek piłki będzie opisany przez punkt $z = x+iy$, a wektor prędkości w momencie styku ma współrzędne $\\vec{v}=\\dot{x}\\hat{\\imath} + \\dot{y}\\hat{\\jmath}$. Bez utraty ogólności przyjmijmy, że środek obręczy (przedni lub tylny) znajduje się w punkcie $z_0=x_0+iy_0$. Oznaczmy przez $\\phi$ kąt obrotu nowego układu współrzędnych. Wtedy\n",
    "$$\\phi = \\operatorname{arg}{\\left(z-z_0\\right)} - \\frac{\\pi}{2} = \\operatorname{arg}{\\left(i\\left(z_0-z\\right)\\right)}.$$"
   ]
  },
  {
   "cell_type": "code",
   "execution_count": null,
   "metadata": {},
   "outputs": [],
   "source": []
  },
  {
   "cell_type": "markdown",
   "metadata": {},
   "source": [
    "___\n",
    "### $$\\scriptstyle \\text{BIBLIOGRAFIA}$$ <a id='references'></a>\n",
    "\n",
    "___\n",
    "\n",
    "<span style='font-size:larger;font-family:\"Didot\"'>  \n",
    "    \n",
    "[[1]](https://www.espn.com/nba/stats/team/_/table/offensive/sort/avgFreeThrowsMade/dir/desc) https://www.espn.com/nba/stats/team/_/table/offensive/sort/avgFreeThrowsMade/dir/desc\n",
    "    \n",
    "[[2]](https://www.inpredictable.com/2016/03/free-throw-deep-dives-launch-angle.html) https://www.inpredictable.com/2016/03/free-throw-deep-dives-launch-angle.html \n",
    "    \n",
    "[[3]](https://www.grc.nasa.gov/www/k-12/airplane/soclift.html) https://www.grc.nasa.gov/www/k-12/airplane/soclift.html  \n",
    "    \n",
    "[[4]](https://iopscience.iop.org/article/10.1088/1367-2630/16/3/033039/pdf) $\\scriptstyle \\text{B. D. TEXIER,  C. COHEN,  G. DUPEUX,  D. QUÉRÉ,  C. CLANET,} \\;\\textit{On the size of sportsfields,} \\; \\text{New Journal  of  Physics 16 (2014), p.3}$    \n",
    "    \n",
    "[[5]](https://pdfs.semanticscholar.org/1a2d/135a3f8af5e067b6c965859bdae1d5af7427.pdf) $\\scriptstyle \\text{J. M. GABLONSKY,  A. LANG,} \\;\\textit{Modeling Basketball Free Throws,} \\; \\text{SIAM Review vol. 47, No. 4 (2014), pp. 775-798}$\n",
    "    \n",
    "[[6]](url_here) Research paper 6 \n",
    "\n",
    "___  \n",
    "</span>\n",
    "\n"
   ]
  }
 ],
 "metadata": {
  "kernelspec": {
   "display_name": "Julia 1.3.1",
   "language": "julia",
   "name": "julia-1.3"
  },
  "language_info": {
   "file_extension": ".jl",
   "mimetype": "application/julia",
   "name": "julia",
   "version": "1.3.1"
  }
 },
 "nbformat": 4,
 "nbformat_minor": 4
}
