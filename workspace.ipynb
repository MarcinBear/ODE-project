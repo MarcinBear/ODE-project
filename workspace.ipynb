{
 "cells": [
  {
   "cell_type": "markdown",
   "metadata": {},
   "source": [
    "# Plik roboczy"
   ]
  },
  {
   "cell_type": "code",
   "execution_count": 1,
   "metadata": {},
   "outputs": [
    {
     "data": {
      "text/plain": [
       "Plots.GRBackend()"
      ]
     },
     "execution_count": 1,
     "metadata": {},
     "output_type": "execute_result"
    }
   ],
   "source": [
    "using Plots\n",
    "using IJulia\n",
    "using LinearAlgebra\n",
    "gr()"
   ]
  },
  {
   "cell_type": "markdown",
   "metadata": {},
   "source": [
    "rungekutta4 - źródło kodu:\n",
    "https://perso.crans.org/besson/publis/notebooks/Runge-Kutta_methods_for_ODE_integration_in_Julia.html"
   ]
  },
  {
   "cell_type": "code",
   "execution_count": 73,
   "metadata": {},
   "outputs": [
    {
     "data": {
      "text/plain": [
       "rungekutta4 (generic function with 1 method)"
      ]
     },
     "execution_count": 73,
     "metadata": {},
     "output_type": "execute_result"
    }
   ],
   "source": [
    "function rungekutta4(f, y0, t)\n",
    "    n = length(t)\n",
    "    y = zeros((n, length(y0)))\n",
    "    y[1,:] = y0\n",
    "    hit = nothing\n",
    "    actual_hit = nothing\n",
    "    p = nothing\n",
    "    for i in 1:n-1\n",
    "        h = t[i+1] - t[i]\n",
    "        (k1, hit) = f(y[i,:], t[i]; hit = hit)\n",
    "        if actual_hit != hit\n",
    "            println(hit)\n",
    "            y[i+1, :] = y[i, :] + h * k1 \n",
    "        else\n",
    "            (k2, p) = f(y[i,:] + k1 * h/2, t[i] + h/2; hit = hit)\n",
    "            (k3, p) = f(y[i,:] + k2 * h/2, t[i] + h/2; hit = hit)\n",
    "            (k4, p) = f(y[i,:] + k3 * h, t[i] + h; hit = hit)\n",
    "            y[i+1,:] = y[i,:] + (h/6) * (k1 + 2*k2 + 2*k3 + k4)\n",
    "        end\n",
    "        actual_hit = hit\n",
    "    end\n",
    "    return y\n",
    "end"
   ]
  },
  {
   "cell_type": "code",
   "execution_count": 50,
   "metadata": {},
   "outputs": [
    {
     "data": {
      "text/plain": [
       "euler (generic function with 1 method)"
      ]
     },
     "execution_count": 50,
     "metadata": {},
     "output_type": "execute_result"
    }
   ],
   "source": [
    "function euler(f, y_0, t)\n",
    "    n = length(t)\n",
    "    y = zeros((n, length(y_0)))\n",
    "    y[1, :] = y_0\n",
    "    hit = nothing\n",
    "    actual_hit = nothing\n",
    "    for i in 1:n-1\n",
    "        h = t[i + 1] - t[i]\n",
    "        (k, hit) =  f(y[i, :], t[i]; hit = hit)\n",
    "        if actual_hit != hit\n",
    "            y[i + 1, :] = k\n",
    "        else\n",
    "            y[i+1, :] = y[i, :] + h * k\n",
    "        end\n",
    "        actual_hit = deepcopy(hit)\n",
    "    end\n",
    "    return y\n",
    "end"
   ]
  },
  {
   "cell_type": "markdown",
   "metadata": {},
   "source": [
    "## Równania ruchu piłki\n",
    "\n",
    "https://indico.cern.ch/event/163205/contributions/1413227/attachments/192775/270516/Team351.pdf"
   ]
  },
  {
   "cell_type": "markdown",
   "metadata": {},
   "source": [
    "$\\begin{align}    \n",
    "    &\\text{Siła ciężkości:}  &&F_g = -mg\\hat{y} \\\\\n",
    "    &\\text{Siła wyporu:}  &&F_w = \\rho V g \\,\\hat{y} = B \\, \\hat{y} \\\\\n",
    "    &\\text{Siła oporu powietrza:} &&F_o = -C_d\\rho A v^2 \\hat{v} = -bv^2\\hat{v} = -b(\\dot{x}^2 + \\dot{y}^2)^{\\frac{1}{2}}(\\dot{x}\\hat{x} + \\dot{y}\\hat{y})\\\\\n",
    "    &\\text{Siła Magnusa:} &&F_M = C_M \\rho D^3 \\bar{\\omega} \\times \\bar{v} = c \\, \\bar{\\omega} \\times \\bar{v} = -c \\, \\omega \\dot{y}\\hat{x} + c \\, \\omega \\dot{x}\\hat{y}\\\\\n",
    "\\end{align}$"
   ]
  },
  {
   "cell_type": "markdown",
   "metadata": {},
   "source": [
    "$$ \\begin{cases} m\\ddot{x} = -b(\\dot{x}^2 + \\dot{y}^2)^{\\frac{1}{2}}\\dot{x} - c\\,\\omega\\,\\dot{y} \\\\\n",
    "m\\ddot{y} = -mg + B -b(\\dot{x}^2 + \\dot{y}^2)^{\\frac{1}{2}}\\dot{y} + c\\,\\omega\\,\\dot{x} \\end{cases}$$"
   ]
  },
  {
   "cell_type": "code",
   "execution_count": 25,
   "metadata": {},
   "outputs": [
    {
     "data": {
      "text/plain": [
       "r (generic function with 1 method)"
      ]
     },
     "execution_count": 25,
     "metadata": {},
     "output_type": "execute_result"
    }
   ],
   "source": [
    "r(ball_x::Real, ball_y::Real, rim_x::Real, rim_y::Real) = \n",
    "    sqrt((ball_x - rim_x) ^ 2 + (ball_y - rim_y) ^ 2)"
   ]
  },
  {
   "cell_type": "code",
   "execution_count": 26,
   "metadata": {},
   "outputs": [
    {
     "data": {
      "text/plain": [
       "ṙ (generic function with 1 method)"
      ]
     },
     "execution_count": 26,
     "metadata": {},
     "output_type": "execute_result"
    }
   ],
   "source": [
    "ṙ(ball_x::Real, ball_ẋ::Real, ball_y::Real, ball_ẏ::Real, rim_x::Real, rim_y::Real) = \n",
    "    (ball_ẋ * (ball_x - rim_x) + ball_ẏ * (ball_y - rim_y)) / r(ball_x, ball_y, rim_x, rim_y)"
   ]
  },
  {
   "cell_type": "code",
   "execution_count": 30,
   "metadata": {},
   "outputs": [
    {
     "data": {
      "text/plain": [
       "ϕ (generic function with 1 method)"
      ]
     },
     "execution_count": 30,
     "metadata": {},
     "output_type": "execute_result"
    }
   ],
   "source": [
    "ϕ(ball_x::Real, ball_y::Real, rim_x::Real, rim_y::Real) = angle(ball_y - rim_y + im * (ball_x - rim_x))"
   ]
  },
  {
   "cell_type": "code",
   "execution_count": 32,
   "metadata": {},
   "outputs": [
    {
     "data": {
      "text/plain": [
       "ϕ̇ (generic function with 1 method)"
      ]
     },
     "execution_count": 32,
     "metadata": {},
     "output_type": "execute_result"
    }
   ],
   "source": [
    "ϕ̇(ball_x::Real, ball_ẋ::Real, ball_y::Real, ball_ẏ::Real, rim_x::Real, rim_y::Real) = \n",
    "    (ball_ẋ * (ball_y - rim_y) - ball_ẏ * (ball_x - rim_x)) / (r(ball_x, ball_y, rim_x, rim_y) ^ 2)"
   ]
  },
  {
   "cell_type": "code",
   "execution_count": 4,
   "metadata": {},
   "outputs": [
    {
     "data": {
      "text/plain": [
       "is_collision (generic function with 1 method)"
      ]
     },
     "execution_count": 4,
     "metadata": {},
     "output_type": "execute_result"
    }
   ],
   "source": [
    "is_collision(ball_x::Real, ball_y::Real, ball_radius::Real, rim_x::Real, rim_y::Real, rim_radius::Real) = \n",
    "    sqrt((ball_x - rim_x) ^ 2 + (ball_y - rim_y) ^ 2) <= ball_radius + rim_radius"
   ]
  },
  {
   "cell_type": "code",
   "execution_count": 20,
   "metadata": {},
   "outputs": [
    {
     "data": {
      "text/plain": [
       "is_moving_away (generic function with 1 method)"
      ]
     },
     "execution_count": 20,
     "metadata": {},
     "output_type": "execute_result"
    }
   ],
   "source": [
    "is_approaching(ṙ::Real) = ṙ < 0\n",
    "is_moving_away(ṙ::Real) = ṙ > 0"
   ]
  },
  {
   "cell_type": "code",
   "execution_count": 35,
   "metadata": {},
   "outputs": [
    {
     "data": {
      "text/plain": [
       "is_friction (generic function with 3 methods)"
      ]
     },
     "execution_count": 35,
     "metadata": {},
     "output_type": "execute_result"
    }
   ],
   "source": [
    "is_friction(r::Real, rim_x::Real, rim_y::Real, ω::Real, ϕ̇::Real, rim_radius::Real; ϵ::Real = 1e-3) =\n",
    "    !isapprox(r * ω - ϕ̇ * (r + rim_radius), 0, atol = ϵ)"
   ]
  },
  {
   "cell_type": "code",
   "execution_count": 36,
   "metadata": {},
   "outputs": [
    {
     "data": {
      "text/plain": [
       "change_to_slipping (generic function with 2 methods)"
      ]
     },
     "execution_count": 36,
     "metadata": {},
     "output_type": "execute_result"
    }
   ],
   "source": [
    "function change_to_slipping(ball_x::Real, ball_ẋ::Real, ball_y::Real, ball_ẏ::Real, rim_x::Real, rim_y::Real,\n",
    "                            ω::Real, ball_radius::Real, rim_radius::Real; ϵ::Real = 1e-3)\n",
    "    r = r(ball_x, ball_y, rim_x, rim_y)\n",
    "    ṙ = ṙ(ball_x, ball_ẋ, ball_y, ball_ẏ, rim_x, rim_y)\n",
    "    ϕ̇ = ϕ̇(ball_x, ball_ẋ, ball_y, ball_ẏ, rim_x, rim_y)\n",
    "    return is_collision(ball_radius, r; ϵ = ϵ) &&\n",
    "           is_approaching(ṙ) &&\n",
    "           is_friction(r, ω, ϕ̇, rim_radius; ϵ = ϵ)\n",
    "end"
   ]
  },
  {
   "cell_type": "code",
   "execution_count": 39,
   "metadata": {},
   "outputs": [
    {
     "data": {
      "text/plain": [
       "lack_of_normal (generic function with 1 method)"
      ]
     },
     "execution_count": 39,
     "metadata": {},
     "output_type": "execute_result"
    }
   ],
   "source": [
    "lack_of_normal(k::Real, ball_radius::Real, r::Real, ṙ::Real, c::Real; ϵ::Real = 1e-3) = \n",
    "    isapprox(k * (ball_radius - r) - c * ṙ, 0, atol = ϵ)"
   ]
  },
  {
   "cell_type": "code",
   "execution_count": 40,
   "metadata": {},
   "outputs": [
    {
     "data": {
      "text/plain": [
       "change_to_flight (generic function with 2 methods)"
      ]
     },
     "execution_count": 40,
     "metadata": {},
     "output_type": "execute_result"
    }
   ],
   "source": [
    "function change_to_flight(ball_x::Real, ball_ẋ::Real, ball_y::Real, ball_ẏ::Real, rim_x::Real, rim_y::Real,\n",
    "                          k::Real, ball_radius::Real, c::Real; ϵ::Real = 1e-3)\n",
    "    r = r(ball_x, ball_y, rim_x, rim_y)\n",
    "    ṙ = ṙ(ball_x, ball_ẋ, ball_y, ball_ẏ, rim_x, rim_y)\n",
    "    return lack_of_normal(k, ball_radius, r, ṙ, c; ϵ = ϵ)  && is_moving_away(ṙ)\n",
    "end"
   ]
  },
  {
   "cell_type": "code",
   "execution_count": 5,
   "metadata": {},
   "outputs": [
    {
     "data": {
      "text/plain": [
       "collision_angle (generic function with 1 method)"
      ]
     },
     "execution_count": 5,
     "metadata": {},
     "output_type": "execute_result"
    }
   ],
   "source": [
    "collision_angle(ball_x::Real, ball_y::Real, rim_x::Real, rim_y::Real) = \n",
    "    angle(ball_y - rim_y + (ball_x - rim_x)im)"
   ]
  },
  {
   "cell_type": "code",
   "execution_count": 6,
   "metadata": {},
   "outputs": [
    {
     "data": {
      "text/plain": [
       "rotate_coordinates (generic function with 1 method)"
      ]
     },
     "execution_count": 6,
     "metadata": {},
     "output_type": "execute_result"
    }
   ],
   "source": [
    "function rotate_coordinates(x::Real, y::Real, angle::Real; counterclockwise::Bool = true)\n",
    "    z = counterclockwise ? (x + y * im) * exp(angle * im) : (x + y * im) * exp(-angle * im)\n",
    "    return z.re, z.im\n",
    "end"
   ]
  },
  {
   "cell_type": "code",
   "execution_count": 7,
   "metadata": {},
   "outputs": [
    {
     "data": {
      "text/plain": [
       "ẋ_after_collision (generic function with 1 method)"
      ]
     },
     "execution_count": 7,
     "metadata": {},
     "output_type": "execute_result"
    }
   ],
   "source": [
    "ẋ_after_collision(ẋ::Real, ω::Real, ball_radius::Real) = 2ẋ / 5 + 3ω * ball_radius / 5"
   ]
  },
  {
   "cell_type": "code",
   "execution_count": 8,
   "metadata": {},
   "outputs": [
    {
     "data": {
      "text/plain": [
       "angular_velocity (generic function with 1 method)"
      ]
     },
     "execution_count": 8,
     "metadata": {},
     "output_type": "execute_result"
    }
   ],
   "source": [
    "angular_velocity(ẋ::Real, ẏ::Real, ball_radius::Real) = norm(ẋ, ẏ) / ball_radius"
   ]
  },
  {
   "cell_type": "code",
   "execution_count": 68,
   "metadata": {},
   "outputs": [
    {
     "data": {
      "text/plain": [
       "2.23606797749979"
      ]
     },
     "execution_count": 68,
     "metadata": {},
     "output_type": "execute_result"
    }
   ],
   "source": []
  },
  {
   "cell_type": "code",
   "execution_count": 69,
   "metadata": {},
   "outputs": [
    {
     "data": {
      "text/plain": [
       "basketball_throw (generic function with 1 method)"
      ]
     },
     "execution_count": 69,
     "metadata": {},
     "output_type": "execute_result"
    }
   ],
   "source": [
    "# u = [x, x', y, y']\n",
    "# u' = [x', x'', y', y'']\n",
    "\n",
    "g = 9.81\n",
    "m = 0.623\n",
    "c = 0.00287\n",
    "B = 0.0088\n",
    "b = 0.003\n",
    "ω = 4π\n",
    "\n",
    "function basketball_throw(u, t; hit = nothing, ball_radius::Real = 0.12,\n",
    "                          rim_x::Real = 6.64, rim_y::Real = 3.09, rim_radius::Real = 0.04)\n",
    "    if is_collision(u[1], u[3], ball_radius, rim_x, rim_y, rim_radius) && hit != \"front\"\n",
    "        global ω\n",
    "        x, y = rotate_coordinates(u[1], u[3], collision_angle(u[1], u[3], rim_x, rim_y))\n",
    "        ẋ, ẏ = rotate_coordinates(u[2], u[4], collision_angle(u[1], u[3], rim_x, rim_y))\n",
    "        ẏ *= -1\n",
    "        ẋ = ẋ_after_collision(ẋ, ω, ball_radius)\n",
    "        ω = angular_velocity(ẋ, ẏ, ball_radius)\n",
    "        x, y = rotate_coordinates(x, y, collision_angle(u[1], u[3], rim_x, rim_y), counterclockwise = false)\n",
    "        ẋ, ẏ = rotate_coordinates(ẋ, ẏ, collision_angle(u[1], u[3], rim_x, rim_y); counterclockwise = false)\n",
    "        return  ([ẋ, (- b * sqrt(ẋ^2 + ẏ^2) * ẋ - c * ω * ẏ) / m,\n",
    "                ẏ, (- m * g + B - b * sqrt(ẋ^2 + ẏ^2) * ẏ + c * ω * ẋ) / m], \"front\")\n",
    "    else\n",
    "        return ([u[2], (- b * sqrt(u[2]^2 + u[4]^2) * u[2] - c * ω * u[4]) / m,\n",
    "                u[4], (- m * g + B - b * sqrt(u[2]^2 + u[4]^2) * u[4] + c * ω * u[2]) / m], hit)\n",
    "    end\n",
    "end"
   ]
  },
  {
   "cell_type": "markdown",
   "metadata": {},
   "source": [
    "$$ \\dot{x} = v_0\\cos{\\theta_0} $$\n",
    "$$ \\dot{y} = v_0\\sin{\\theta_0} $$"
   ]
  },
  {
   "cell_type": "code",
   "execution_count": 10,
   "metadata": {},
   "outputs": [
    {
     "data": {
      "text/plain": [
       "1.8"
      ]
     },
     "execution_count": 10,
     "metadata": {},
     "output_type": "execute_result"
    }
   ],
   "source": [
    "# absolute parameters (given in meters)\n",
    "\n",
    "three_point_line_x = 7.24\n",
    "free_throw_line_x  = 3.96\n",
    "rim_y = 3.05\n",
    "rim_diameter  = 0.46\n",
    "ball_diameter = 0.2387\n",
    "score_error = (rim_diameter - ball_diameter) / 2\n",
    "\n",
    "# relative parameters (given in meters)\n",
    "\n",
    "players_height = 1.8"
   ]
  },
  {
   "cell_type": "code",
   "execution_count": 74,
   "metadata": {},
   "outputs": [
    {
     "name": "stdout",
     "output_type": "stream",
     "text": [
      "front\n"
     ]
    }
   ],
   "source": [
    "v₀ = 9.1\n",
    "θ₀ = 57\n",
    "rθ₀ = θ₀ / 180 * π  # [rad]\n",
    "\n",
    "x₀ = 0\n",
    "time = 2 # [seconds]\n",
    "u₀ = [x₀; v₀ * cos(rθ₀); players_height; v₀ * sin(rθ₀)]\n",
    "tspan = range(0, stop=time, length=time*60) # [time*60 - miliseconds]\n",
    "sol = rungekutta4(basketball_throw, u₀, tspan);\n",
    "#sol = euler(basketball_throw, u₀, tspan)"
   ]
  },
  {
   "cell_type": "code",
   "execution_count": 19,
   "metadata": {},
   "outputs": [
    {
     "data": {
      "text/plain": [
       "visualize_throw (generic function with 1 method)"
      ]
     },
     "execution_count": 19,
     "metadata": {},
     "output_type": "execute_result"
    }
   ],
   "source": [
    "rectangle(w, h, x, y) = Shape(x .+ [0,w,w,0], y .+ [0,0,h,h])\n",
    "\n",
    "function visualize_throw(sol, distance, t)\n",
    "    \n",
    "    plot( # trajectory\n",
    "        sol[1:t,1], \n",
    "        sol[1:t,3], \n",
    "        xlims=[0,distance + 1], \n",
    "        ylims=[0, maximum(sol[:, 3])], \n",
    "        linestyle=:dash, \n",
    "        legend = :none,\n",
    "        color=:royalblue1\n",
    "        )\n",
    "    \n",
    "    plot!( # rim\n",
    "        rectangle(0.6, 0.08,\n",
    "        distance - 0.6, rim_y), \n",
    "        opacity=.7, \n",
    "        color= :orangered1\n",
    "        )\n",
    "    \n",
    "    plot!( # pole\n",
    "        rectangle(0.1, rim_y, distance, 0), \n",
    "        opacity=.5, \n",
    "        color=:grey\n",
    "        )\n",
    "    \n",
    "    plot!( # net\n",
    "        Shape([distance - 0.55, distance, distance - 0.2, distance - 0.45], \n",
    "                [rim_y, rim_y, rim_y - 0.5, rim_y - 0.5]), \n",
    "        color=:white, \n",
    "        opacity = .3, \n",
    "        aspect_ratio=:equal\n",
    "        )   \n",
    "end"
   ]
  },
  {
   "cell_type": "code",
   "execution_count": 75,
   "metadata": {},
   "outputs": [
    {
     "data": {
      "image/svg+xml": [
       "<?xml version=\"1.0\" encoding=\"utf-8\"?>\n",
       "<svg xmlns=\"http://www.w3.org/2000/svg\" xmlns:xlink=\"http://www.w3.org/1999/xlink\" width=\"600\" height=\"400\" viewBox=\"0 0 2400 1600\">\n",
       "<defs>\n",
       "  <clipPath id=\"clip030\">\n",
       "    <rect x=\"0\" y=\"0\" width=\"2400\" height=\"1600\"/>\n",
       "  </clipPath>\n",
       "</defs>\n",
       "<path clip-path=\"url(#clip030)\" d=\"\n",
       "M0 1600 L2400 1600 L2400 0 L0 0  Z\n",
       "  \" fill=\"#ffffff\" fill-rule=\"evenodd\" fill-opacity=\"1\"/>\n",
       "<defs>\n",
       "  <clipPath id=\"clip031\">\n",
       "    <rect x=\"480\" y=\"0\" width=\"1681\" height=\"1600\"/>\n",
       "  </clipPath>\n",
       "</defs>\n",
       "<path clip-path=\"url(#clip030)\" d=\"\n",
       "M112.177 1421.51 L2352.76 1421.51 L2352.76 112.18 L112.177 112.18  Z\n",
       "  \" fill=\"#ffffff\" fill-rule=\"evenodd\" fill-opacity=\"1\"/>\n",
       "<defs>\n",
       "  <clipPath id=\"clip032\">\n",
       "    <rect x=\"112\" y=\"112\" width=\"2242\" height=\"1310\"/>\n",
       "  </clipPath>\n",
       "</defs>\n",
       "<polyline clip-path=\"url(#clip032)\" style=\"stroke:#000000; stroke-width:2; stroke-opacity:0.1; fill:none\" points=\"\n",
       "  175.59,1421.51 175.59,112.18 \n",
       "  \"/>\n",
       "<polyline clip-path=\"url(#clip032)\" style=\"stroke:#000000; stroke-width:2; stroke-opacity:0.1; fill:none\" points=\"\n",
       "  688.637,1421.51 688.637,112.18 \n",
       "  \"/>\n",
       "<polyline clip-path=\"url(#clip032)\" style=\"stroke:#000000; stroke-width:2; stroke-opacity:0.1; fill:none\" points=\"\n",
       "  1201.68,1421.51 1201.68,112.18 \n",
       "  \"/>\n",
       "<polyline clip-path=\"url(#clip032)\" style=\"stroke:#000000; stroke-width:2; stroke-opacity:0.1; fill:none\" points=\"\n",
       "  1714.73,1421.51 1714.73,112.18 \n",
       "  \"/>\n",
       "<polyline clip-path=\"url(#clip032)\" style=\"stroke:#000000; stroke-width:2; stroke-opacity:0.1; fill:none\" points=\"\n",
       "  2227.78,1421.51 2227.78,112.18 \n",
       "  \"/>\n",
       "<polyline clip-path=\"url(#clip032)\" style=\"stroke:#000000; stroke-width:2; stroke-opacity:0.1; fill:none\" points=\"\n",
       "  112.177,1384.46 2352.76,1384.46 \n",
       "  \"/>\n",
       "<polyline clip-path=\"url(#clip032)\" style=\"stroke:#000000; stroke-width:2; stroke-opacity:0.1; fill:none\" points=\"\n",
       "  112.177,1127.93 2352.76,1127.93 \n",
       "  \"/>\n",
       "<polyline clip-path=\"url(#clip032)\" style=\"stroke:#000000; stroke-width:2; stroke-opacity:0.1; fill:none\" points=\"\n",
       "  112.177,871.409 2352.76,871.409 \n",
       "  \"/>\n",
       "<polyline clip-path=\"url(#clip032)\" style=\"stroke:#000000; stroke-width:2; stroke-opacity:0.1; fill:none\" points=\"\n",
       "  112.177,614.885 2352.76,614.885 \n",
       "  \"/>\n",
       "<polyline clip-path=\"url(#clip032)\" style=\"stroke:#000000; stroke-width:2; stroke-opacity:0.1; fill:none\" points=\"\n",
       "  112.177,358.362 2352.76,358.362 \n",
       "  \"/>\n",
       "<polyline clip-path=\"url(#clip030)\" style=\"stroke:#000000; stroke-width:4; stroke-opacity:1; fill:none\" points=\"\n",
       "  112.177,1421.51 2352.76,1421.51 \n",
       "  \"/>\n",
       "<polyline clip-path=\"url(#clip030)\" style=\"stroke:#000000; stroke-width:4; stroke-opacity:1; fill:none\" points=\"\n",
       "  112.177,1421.51 112.177,112.18 \n",
       "  \"/>\n",
       "<polyline clip-path=\"url(#clip030)\" style=\"stroke:#000000; stroke-width:4; stroke-opacity:1; fill:none\" points=\"\n",
       "  175.59,1421.51 175.59,1405.8 \n",
       "  \"/>\n",
       "<polyline clip-path=\"url(#clip030)\" style=\"stroke:#000000; stroke-width:4; stroke-opacity:1; fill:none\" points=\"\n",
       "  688.637,1421.51 688.637,1405.8 \n",
       "  \"/>\n",
       "<polyline clip-path=\"url(#clip030)\" style=\"stroke:#000000; stroke-width:4; stroke-opacity:1; fill:none\" points=\"\n",
       "  1201.68,1421.51 1201.68,1405.8 \n",
       "  \"/>\n",
       "<polyline clip-path=\"url(#clip030)\" style=\"stroke:#000000; stroke-width:4; stroke-opacity:1; fill:none\" points=\"\n",
       "  1714.73,1421.51 1714.73,1405.8 \n",
       "  \"/>\n",
       "<polyline clip-path=\"url(#clip030)\" style=\"stroke:#000000; stroke-width:4; stroke-opacity:1; fill:none\" points=\"\n",
       "  2227.78,1421.51 2227.78,1405.8 \n",
       "  \"/>\n",
       "<polyline clip-path=\"url(#clip030)\" style=\"stroke:#000000; stroke-width:4; stroke-opacity:1; fill:none\" points=\"\n",
       "  112.177,1384.46 139.064,1384.46 \n",
       "  \"/>\n",
       "<polyline clip-path=\"url(#clip030)\" style=\"stroke:#000000; stroke-width:4; stroke-opacity:1; fill:none\" points=\"\n",
       "  112.177,1127.93 139.064,1127.93 \n",
       "  \"/>\n",
       "<polyline clip-path=\"url(#clip030)\" style=\"stroke:#000000; stroke-width:4; stroke-opacity:1; fill:none\" points=\"\n",
       "  112.177,871.409 139.064,871.409 \n",
       "  \"/>\n",
       "<polyline clip-path=\"url(#clip030)\" style=\"stroke:#000000; stroke-width:4; stroke-opacity:1; fill:none\" points=\"\n",
       "  112.177,614.885 139.064,614.885 \n",
       "  \"/>\n",
       "<polyline clip-path=\"url(#clip030)\" style=\"stroke:#000000; stroke-width:4; stroke-opacity:1; fill:none\" points=\"\n",
       "  112.177,358.362 139.064,358.362 \n",
       "  \"/>\n",
       "<path clip-path=\"url(#clip030)\" d=\"M 0 0 M175.59 1443.5 Q171.979 1443.5 170.15 1447.07 Q168.344 1450.61 168.344 1457.74 Q168.344 1464.85 170.15 1468.41 Q171.979 1471.95 175.59 1471.95 Q179.224 1471.95 181.03 1468.41 Q182.858 1464.85 182.858 1457.74 Q182.858 1450.61 181.03 1447.07 Q179.224 1443.5 175.59 1443.5 M175.59 1439.8 Q181.4 1439.8 184.455 1444.41 Q187.534 1448.99 187.534 1457.74 Q187.534 1466.47 184.455 1471.07 Q181.4 1475.66 175.59 1475.66 Q169.78 1475.66 166.701 1471.07 Q163.645 1466.47 163.645 1457.74 Q163.645 1448.99 166.701 1444.41 Q169.78 1439.8 175.59 1439.8 Z\" fill=\"#000000\" fill-rule=\"evenodd\" fill-opacity=\"1\" /><path clip-path=\"url(#clip030)\" d=\"M 0 0 M683.29 1471.05 L699.609 1471.05 L699.609 1474.98 L677.665 1474.98 L677.665 1471.05 Q680.327 1468.29 684.91 1463.66 Q689.516 1459.01 690.697 1457.67 Q692.942 1455.15 693.822 1453.41 Q694.725 1451.65 694.725 1449.96 Q694.725 1447.21 692.78 1445.47 Q690.859 1443.73 687.757 1443.73 Q685.558 1443.73 683.104 1444.5 Q680.674 1445.26 677.896 1446.81 L677.896 1442.09 Q680.72 1440.96 683.174 1440.38 Q685.628 1439.8 687.665 1439.8 Q693.035 1439.8 696.229 1442.48 Q699.424 1445.17 699.424 1449.66 Q699.424 1451.79 698.614 1453.71 Q697.827 1455.61 695.72 1458.2 Q695.141 1458.87 692.04 1462.09 Q688.938 1465.29 683.29 1471.05 Z\" fill=\"#000000\" fill-rule=\"evenodd\" fill-opacity=\"1\" /><path clip-path=\"url(#clip030)\" d=\"M 0 0 M1204.69 1444.5 L1192.89 1462.95 L1204.69 1462.95 L1204.69 1444.5 M1203.47 1440.42 L1209.35 1440.42 L1209.35 1462.95 L1214.28 1462.95 L1214.28 1466.84 L1209.35 1466.84 L1209.35 1474.98 L1204.69 1474.98 L1204.69 1466.84 L1189.09 1466.84 L1189.09 1462.32 L1203.47 1440.42 Z\" fill=\"#000000\" fill-rule=\"evenodd\" fill-opacity=\"1\" /><path clip-path=\"url(#clip030)\" d=\"M 0 0 M1715.14 1455.84 Q1711.99 1455.84 1710.14 1457.99 Q1708.31 1460.15 1708.31 1463.9 Q1708.31 1467.62 1710.14 1469.8 Q1711.99 1471.95 1715.14 1471.95 Q1718.28 1471.95 1720.11 1469.8 Q1721.96 1467.62 1721.96 1463.9 Q1721.96 1460.15 1720.11 1457.99 Q1718.28 1455.84 1715.14 1455.84 M1724.42 1441.19 L1724.42 1445.45 Q1722.66 1444.61 1720.85 1444.17 Q1719.07 1443.73 1717.31 1443.73 Q1712.68 1443.73 1710.23 1446.86 Q1707.8 1449.98 1707.45 1456.3 Q1708.82 1454.29 1710.88 1453.22 Q1712.94 1452.14 1715.41 1452.14 Q1720.62 1452.14 1723.63 1455.31 Q1726.66 1458.46 1726.66 1463.9 Q1726.66 1469.22 1723.52 1472.44 Q1720.37 1475.66 1715.14 1475.66 Q1709.14 1475.66 1705.97 1471.07 Q1702.8 1466.47 1702.8 1457.74 Q1702.8 1449.54 1706.69 1444.68 Q1710.58 1439.8 1717.13 1439.8 Q1718.89 1439.8 1720.67 1440.15 Q1722.47 1440.49 1724.42 1441.19 Z\" fill=\"#000000\" fill-rule=\"evenodd\" fill-opacity=\"1\" /><path clip-path=\"url(#clip030)\" d=\"M 0 0 M2227.78 1458.57 Q2224.44 1458.57 2222.52 1460.35 Q2220.62 1462.14 2220.62 1465.26 Q2220.62 1468.39 2222.52 1470.17 Q2224.44 1471.95 2227.78 1471.95 Q2231.11 1471.95 2233.03 1470.17 Q2234.95 1468.36 2234.95 1465.26 Q2234.95 1462.14 2233.03 1460.35 Q2231.13 1458.57 2227.78 1458.57 M2223.1 1456.58 Q2220.09 1455.84 2218.4 1453.78 Q2216.74 1451.72 2216.74 1448.76 Q2216.74 1444.61 2219.68 1442.21 Q2222.64 1439.8 2227.78 1439.8 Q2232.94 1439.8 2235.88 1442.21 Q2238.82 1444.61 2238.82 1448.76 Q2238.82 1451.72 2237.13 1453.78 Q2235.46 1455.84 2232.48 1456.58 Q2235.86 1457.37 2237.73 1459.66 Q2239.63 1461.95 2239.63 1465.26 Q2239.63 1470.29 2236.55 1472.97 Q2233.5 1475.66 2227.78 1475.66 Q2222.06 1475.66 2218.98 1472.97 Q2215.93 1470.29 2215.93 1465.26 Q2215.93 1461.95 2217.82 1459.66 Q2219.72 1457.37 2223.1 1456.58 M2221.39 1449.2 Q2221.39 1451.88 2223.06 1453.39 Q2224.75 1454.89 2227.78 1454.89 Q2230.79 1454.89 2232.48 1453.39 Q2234.19 1451.88 2234.19 1449.2 Q2234.19 1446.51 2232.48 1445.01 Q2230.79 1443.5 2227.78 1443.5 Q2224.75 1443.5 2223.06 1445.01 Q2221.39 1446.51 2221.39 1449.2 Z\" fill=\"#000000\" fill-rule=\"evenodd\" fill-opacity=\"1\" /><path clip-path=\"url(#clip030)\" d=\"M 0 0 M76.2328 1370.25 Q72.6217 1370.25 70.793 1373.82 Q68.9875 1377.36 68.9875 1384.49 Q68.9875 1391.6 70.793 1395.16 Q72.6217 1398.7 76.2328 1398.7 Q79.867 1398.7 81.6726 1395.16 Q83.5013 1391.6 83.5013 1384.49 Q83.5013 1377.36 81.6726 1373.82 Q79.867 1370.25 76.2328 1370.25 M76.2328 1366.55 Q82.0429 1366.55 85.0985 1371.16 Q88.1772 1375.74 88.1772 1384.49 Q88.1772 1393.22 85.0985 1397.82 Q82.0429 1402.41 76.2328 1402.41 Q70.4226 1402.41 67.344 1397.82 Q64.2884 1393.22 64.2884 1384.49 Q64.2884 1375.74 67.344 1371.16 Q70.4226 1366.55 76.2328 1366.55 Z\" fill=\"#000000\" fill-rule=\"evenodd\" fill-opacity=\"1\" /><path clip-path=\"url(#clip030)\" d=\"M 0 0 M68.2699 1141.28 L75.9087 1141.28 L75.9087 1114.91 L67.5986 1116.58 L67.5986 1112.32 L75.8624 1110.65 L80.5383 1110.65 L80.5383 1141.28 L88.1772 1141.28 L88.1772 1145.21 L68.2699 1145.21 L68.2699 1141.28 Z\" fill=\"#000000\" fill-rule=\"evenodd\" fill-opacity=\"1\" /><path clip-path=\"url(#clip030)\" d=\"M 0 0 M71.8578 884.753 L88.1772 884.753 L88.1772 888.689 L66.2328 888.689 L66.2328 884.753 Q68.8949 881.999 73.4782 877.369 Q78.0846 872.716 79.2652 871.374 Q81.5105 868.851 82.3902 867.115 Q83.2929 865.355 83.2929 863.666 Q83.2929 860.911 81.3485 859.175 Q79.4272 857.439 76.3254 857.439 Q74.1263 857.439 71.6726 858.203 Q69.2421 858.966 66.4643 860.517 L66.4643 855.795 Q69.2884 854.661 71.7421 854.082 Q74.1958 853.504 76.2328 853.504 Q81.6031 853.504 84.7976 856.189 Q87.992 858.874 87.992 863.365 Q87.992 865.494 87.1818 867.415 Q86.3948 869.314 84.2883 871.906 Q83.7096 872.577 80.6078 875.795 Q77.5059 878.99 71.8578 884.753 Z\" fill=\"#000000\" fill-rule=\"evenodd\" fill-opacity=\"1\" /><path clip-path=\"url(#clip030)\" d=\"M 0 0 M81.0476 613.531 Q84.404 614.248 86.279 616.517 Q88.1772 618.785 88.1772 622.119 Q88.1772 627.235 84.6587 630.035 Q81.1402 632.836 74.6587 632.836 Q72.4828 632.836 70.168 632.397 Q67.8764 631.98 65.4227 631.123 L65.4227 626.61 Q67.3671 627.744 69.6819 628.322 Q71.9967 628.901 74.5198 628.901 Q78.918 628.901 81.2096 627.165 Q83.5244 625.429 83.5244 622.119 Q83.5244 619.063 81.3717 617.35 Q79.242 615.614 75.4226 615.614 L71.3949 615.614 L71.3949 611.772 L75.6078 611.772 Q79.0569 611.772 80.8855 610.406 Q82.7142 609.017 82.7142 606.424 Q82.7142 603.762 80.8161 602.35 Q78.9411 600.915 75.4226 600.915 Q73.5013 600.915 71.3023 601.332 Q69.1032 601.749 66.4643 602.628 L66.4643 598.462 Q69.1264 597.721 71.4412 597.35 Q73.7791 596.98 75.8393 596.98 Q81.1633 596.98 84.2652 599.411 Q87.367 601.818 87.367 605.938 Q87.367 608.809 85.7235 610.799 Q84.08 612.767 81.0476 613.531 Z\" fill=\"#000000\" fill-rule=\"evenodd\" fill-opacity=\"1\" /><path clip-path=\"url(#clip030)\" d=\"M 0 0 M78.5939 345.156 L66.7884 363.605 L78.5939 363.605 L78.5939 345.156 M77.367 341.082 L83.2466 341.082 L83.2466 363.605 L88.1772 363.605 L88.1772 367.493 L83.2466 367.493 L83.2466 375.642 L78.5939 375.642 L78.5939 367.493 L62.9921 367.493 L62.9921 362.98 L77.367 341.082 Z\" fill=\"#000000\" fill-rule=\"evenodd\" fill-opacity=\"1\" /><polyline clip-path=\"url(#clip032)\" style=\"stroke:#4876ff; stroke-width:4; stroke-opacity:1; fill:none\" stroke-dasharray=\"16, 10\" points=\"\n",
       "  175.59,922.713 196.931,890.165 218.221,858.325 239.461,827.194 260.65,796.77 281.792,767.053 302.886,738.042 323.933,709.736 344.936,682.135 365.894,655.237 \n",
       "  386.809,629.043 407.682,603.551 428.514,578.761 449.305,554.671 470.058,531.283 490.773,508.594 511.45,486.604 532.092,465.313 552.699,444.721 573.272,424.826 \n",
       "  593.812,405.628 614.32,387.126 634.797,369.321 655.244,352.211 675.662,335.796 696.052,320.076 716.415,305.05 736.752,290.718 757.064,277.08 777.351,264.134 \n",
       "  797.615,251.881 817.857,240.321 838.078,229.452 858.278,219.275 878.458,209.789 898.62,200.994 918.764,192.889 938.891,185.475 959.002,178.751 979.098,172.716 \n",
       "  999.179,167.371 1019.25,162.715 1039.3,158.748 1059.35,155.469 1079.38,152.879 1099.4,150.977 1119.42,149.763 1139.42,149.236 1159.42,149.397 1179.41,150.245 \n",
       "  1199.39,151.78 1219.37,154.001 1239.35,156.909 1259.32,160.503 1279.28,164.783 1299.25,169.748 1319.21,175.398 1339.17,181.734 1359.13,188.754 1379.1,196.458 \n",
       "  1399.06,204.847 1419.02,213.919 1438.99,223.675 1458.96,234.114 1478.93,245.236 1498.91,257.04 1518.89,269.525 1538.88,282.693 1558.87,296.542 1578.87,311.071 \n",
       "  1598.88,326.281 1618.9,342.171 1638.92,358.74 1658.96,375.988 1679,393.914 1699.06,412.519 1719.12,431.801 1739.2,451.759 1759.29,472.394 1779.39,493.705 \n",
       "  1799.5,515.691 1819.63,538.351 1839.77,561.686 1837,567.82 1835.02,579.332 1838.42,595.538 1821.24,602.19 1841.43,629.028 1861.63,656.544 1881.84,684.737 \n",
       "  1902.05,713.605 1922.27,743.149 1942.51,773.367 1962.75,804.258 1983,835.822 2003.26,868.058 2023.53,900.965 2043.81,934.542 2064.1,968.788 2084.4,1003.7 \n",
       "  2104.71,1039.29 2125.04,1075.53 2145.37,1112.45 2165.72,1150.03 2186.08,1188.27 2206.45,1227.18 2226.84,1266.75 2247.23,1306.98 2267.65,1347.86 2288.07,1389.41 \n",
       "  2308.51,1431.62 2328.96,1474.48 2349.43,1518 2369.91,1562.17 2390.4,1606.99 2410.91,1652.47 2431.44,1698.6 2451.98,1745.38 2472.54,1792.81 2493.11,1840.88 \n",
       "  \n",
       "  \"/>\n",
       "<path clip-path=\"url(#clip032)\" d=\"\n",
       "M1878.91 602.059 L2032.82 602.059 L2032.82 581.537 L1878.91 581.537 L1878.91 602.059  Z\n",
       "  \" fill=\"#ff4500\" fill-rule=\"evenodd\" fill-opacity=\"0.7\"/>\n",
       "<polyline clip-path=\"url(#clip032)\" style=\"stroke:#000000; stroke-width:4; stroke-opacity:0.7; fill:none\" points=\"\n",
       "  1878.91,602.059 2032.82,602.059 2032.82,581.537 1878.91,581.537 1878.91,602.059 \n",
       "  \"/>\n",
       "<path clip-path=\"url(#clip032)\" d=\"\n",
       "M2032.82 1384.46 L2058.47 1384.46 L2058.47 602.059 L2032.82 602.059 L2032.82 1384.46  Z\n",
       "  \" fill=\"#808080\" fill-rule=\"evenodd\" fill-opacity=\"0.5\"/>\n",
       "<polyline clip-path=\"url(#clip032)\" style=\"stroke:#000000; stroke-width:4; stroke-opacity:0.5; fill:none\" points=\"\n",
       "  2032.82,1384.46 2058.47,1384.46 2058.47,602.059 2032.82,602.059 2032.82,1384.46 \n",
       "  \"/>\n",
       "<path clip-path=\"url(#clip032)\" d=\"\n",
       "M1891.73 602.059 L2032.82 602.059 L1981.52 730.321 L1917.38 730.321 L1891.73 602.059  Z\n",
       "  \" fill=\"#ffffff\" fill-rule=\"evenodd\" fill-opacity=\"0.3\"/>\n",
       "<polyline clip-path=\"url(#clip032)\" style=\"stroke:#000000; stroke-width:4; stroke-opacity:0.3; fill:none\" points=\"\n",
       "  1891.73,602.059 2032.82,602.059 1981.52,730.321 1917.38,730.321 1891.73,602.059 \n",
       "  \"/>\n",
       "</svg>\n"
      ]
     },
     "execution_count": 75,
     "metadata": {},
     "output_type": "execute_result"
    }
   ],
   "source": [
    "visualize_throw(sol, three_point_line_x, 120)"
   ]
  },
  {
   "cell_type": "code",
   "execution_count": 22,
   "metadata": {},
   "outputs": [
    {
     "data": {
      "text/plain": [
       "animate_throw (generic function with 1 method)"
      ]
     },
     "execution_count": 22,
     "metadata": {},
     "output_type": "execute_result"
    }
   ],
   "source": [
    "function animate_throw(trajektories, distance, t, delay)\n",
    "    for sol in trajektories\n",
    "        for i in 1:t\n",
    "            \n",
    "            visualize_throw(sol, distance, i)\n",
    "            \n",
    "            scatter!( # ball\n",
    "                [sol[i, 1]], \n",
    "                [sol[i, 3]], \n",
    "                markersize=10, \n",
    "                label=\"\", \n",
    "                color=:darkorange1\n",
    "                ) |> IJulia.display\n",
    "            \n",
    "            IJulia.clear_output(true)\n",
    "            sleep(delay)\n",
    "        end\n",
    "    end\n",
    "end"
   ]
  },
  {
   "cell_type": "code",
   "execution_count": 72,
   "metadata": {},
   "outputs": [
    {
     "data": {
      "image/svg+xml": [
       "<?xml version=\"1.0\" encoding=\"utf-8\"?>\n",
       "<svg xmlns=\"http://www.w3.org/2000/svg\" xmlns:xlink=\"http://www.w3.org/1999/xlink\" width=\"600\" height=\"400\" viewBox=\"0 0 2400 1600\">\n",
       "<defs>\n",
       "  <clipPath id=\"clip990\">\n",
       "    <rect x=\"0\" y=\"0\" width=\"2400\" height=\"1600\"/>\n",
       "  </clipPath>\n",
       "</defs>\n",
       "<path clip-path=\"url(#clip990)\" d=\"\n",
       "M0 1600 L2400 1600 L2400 0 L0 0  Z\n",
       "  \" fill=\"#ffffff\" fill-rule=\"evenodd\" fill-opacity=\"1\"/>\n",
       "<defs>\n",
       "  <clipPath id=\"clip991\">\n",
       "    <rect x=\"480\" y=\"0\" width=\"1681\" height=\"1600\"/>\n",
       "  </clipPath>\n",
       "</defs>\n",
       "<path clip-path=\"url(#clip990)\" d=\"\n",
       "M112.177 1419.71 L2352.76 1419.71 L2352.76 113.986 L112.177 113.986  Z\n",
       "  \" fill=\"#ffffff\" fill-rule=\"evenodd\" fill-opacity=\"1\"/>\n",
       "<defs>\n",
       "  <clipPath id=\"clip992\">\n",
       "    <rect x=\"112\" y=\"113\" width=\"2242\" height=\"1307\"/>\n",
       "  </clipPath>\n",
       "</defs>\n",
       "<polyline clip-path=\"url(#clip992)\" style=\"stroke:#000000; stroke-width:2; stroke-opacity:0.1; fill:none\" points=\"\n",
       "  175.59,1419.71 175.59,113.986 \n",
       "  \"/>\n",
       "<polyline clip-path=\"url(#clip992)\" style=\"stroke:#000000; stroke-width:2; stroke-opacity:0.1; fill:none\" points=\"\n",
       "  688.637,1419.71 688.637,113.986 \n",
       "  \"/>\n",
       "<polyline clip-path=\"url(#clip992)\" style=\"stroke:#000000; stroke-width:2; stroke-opacity:0.1; fill:none\" points=\"\n",
       "  1201.68,1419.71 1201.68,113.986 \n",
       "  \"/>\n",
       "<polyline clip-path=\"url(#clip992)\" style=\"stroke:#000000; stroke-width:2; stroke-opacity:0.1; fill:none\" points=\"\n",
       "  1714.73,1419.71 1714.73,113.986 \n",
       "  \"/>\n",
       "<polyline clip-path=\"url(#clip992)\" style=\"stroke:#000000; stroke-width:2; stroke-opacity:0.1; fill:none\" points=\"\n",
       "  2227.78,1419.71 2227.78,113.986 \n",
       "  \"/>\n",
       "<polyline clip-path=\"url(#clip992)\" style=\"stroke:#000000; stroke-width:2; stroke-opacity:0.1; fill:none\" points=\"\n",
       "  112.177,1382.75 2352.76,1382.75 \n",
       "  \"/>\n",
       "<polyline clip-path=\"url(#clip992)\" style=\"stroke:#000000; stroke-width:2; stroke-opacity:0.1; fill:none\" points=\"\n",
       "  112.177,1126.23 2352.76,1126.23 \n",
       "  \"/>\n",
       "<polyline clip-path=\"url(#clip992)\" style=\"stroke:#000000; stroke-width:2; stroke-opacity:0.1; fill:none\" points=\"\n",
       "  112.177,869.705 2352.76,869.705 \n",
       "  \"/>\n",
       "<polyline clip-path=\"url(#clip992)\" style=\"stroke:#000000; stroke-width:2; stroke-opacity:0.1; fill:none\" points=\"\n",
       "  112.177,613.181 2352.76,613.181 \n",
       "  \"/>\n",
       "<polyline clip-path=\"url(#clip992)\" style=\"stroke:#000000; stroke-width:2; stroke-opacity:0.1; fill:none\" points=\"\n",
       "  112.177,356.658 2352.76,356.658 \n",
       "  \"/>\n",
       "<polyline clip-path=\"url(#clip990)\" style=\"stroke:#000000; stroke-width:4; stroke-opacity:1; fill:none\" points=\"\n",
       "  112.177,1419.71 2352.76,1419.71 \n",
       "  \"/>\n",
       "<polyline clip-path=\"url(#clip990)\" style=\"stroke:#000000; stroke-width:4; stroke-opacity:1; fill:none\" points=\"\n",
       "  112.177,1419.71 112.177,113.986 \n",
       "  \"/>\n",
       "<polyline clip-path=\"url(#clip990)\" style=\"stroke:#000000; stroke-width:4; stroke-opacity:1; fill:none\" points=\"\n",
       "  175.59,1419.71 175.59,1404.04 \n",
       "  \"/>\n",
       "<polyline clip-path=\"url(#clip990)\" style=\"stroke:#000000; stroke-width:4; stroke-opacity:1; fill:none\" points=\"\n",
       "  688.637,1419.71 688.637,1404.04 \n",
       "  \"/>\n",
       "<polyline clip-path=\"url(#clip990)\" style=\"stroke:#000000; stroke-width:4; stroke-opacity:1; fill:none\" points=\"\n",
       "  1201.68,1419.71 1201.68,1404.04 \n",
       "  \"/>\n",
       "<polyline clip-path=\"url(#clip990)\" style=\"stroke:#000000; stroke-width:4; stroke-opacity:1; fill:none\" points=\"\n",
       "  1714.73,1419.71 1714.73,1404.04 \n",
       "  \"/>\n",
       "<polyline clip-path=\"url(#clip990)\" style=\"stroke:#000000; stroke-width:4; stroke-opacity:1; fill:none\" points=\"\n",
       "  2227.78,1419.71 2227.78,1404.04 \n",
       "  \"/>\n",
       "<polyline clip-path=\"url(#clip990)\" style=\"stroke:#000000; stroke-width:4; stroke-opacity:1; fill:none\" points=\"\n",
       "  112.177,1382.75 139.064,1382.75 \n",
       "  \"/>\n",
       "<polyline clip-path=\"url(#clip990)\" style=\"stroke:#000000; stroke-width:4; stroke-opacity:1; fill:none\" points=\"\n",
       "  112.177,1126.23 139.064,1126.23 \n",
       "  \"/>\n",
       "<polyline clip-path=\"url(#clip990)\" style=\"stroke:#000000; stroke-width:4; stroke-opacity:1; fill:none\" points=\"\n",
       "  112.177,869.705 139.064,869.705 \n",
       "  \"/>\n",
       "<polyline clip-path=\"url(#clip990)\" style=\"stroke:#000000; stroke-width:4; stroke-opacity:1; fill:none\" points=\"\n",
       "  112.177,613.181 139.064,613.181 \n",
       "  \"/>\n",
       "<polyline clip-path=\"url(#clip990)\" style=\"stroke:#000000; stroke-width:4; stroke-opacity:1; fill:none\" points=\"\n",
       "  112.177,356.658 139.064,356.658 \n",
       "  \"/>\n",
       "<path clip-path=\"url(#clip990)\" d=\"M 0 0 M175.59 1441.7 Q171.979 1441.7 170.15 1445.26 Q168.344 1448.8 168.344 1455.93 Q168.344 1463.04 170.15 1466.6 Q171.979 1470.15 175.59 1470.15 Q179.224 1470.15 181.03 1466.6 Q182.858 1463.04 182.858 1455.93 Q182.858 1448.8 181.03 1445.26 Q179.224 1441.7 175.59 1441.7 M175.59 1437.99 Q181.4 1437.99 184.455 1442.6 Q187.534 1447.18 187.534 1455.93 Q187.534 1464.66 184.455 1469.27 Q181.4 1473.85 175.59 1473.85 Q169.78 1473.85 166.701 1469.27 Q163.645 1464.66 163.645 1455.93 Q163.645 1447.18 166.701 1442.6 Q169.78 1437.99 175.59 1437.99 Z\" fill=\"#000000\" fill-rule=\"evenodd\" fill-opacity=\"1\" /><path clip-path=\"url(#clip990)\" d=\"M 0 0 M683.29 1469.24 L699.609 1469.24 L699.609 1473.18 L677.665 1473.18 L677.665 1469.24 Q680.327 1466.49 684.91 1461.86 Q689.516 1457.21 690.697 1455.86 Q692.942 1453.34 693.822 1451.6 Q694.725 1449.84 694.725 1448.15 Q694.725 1445.4 692.78 1443.66 Q690.859 1441.93 687.757 1441.93 Q685.558 1441.93 683.104 1442.69 Q680.674 1443.46 677.896 1445.01 L677.896 1440.28 Q680.72 1439.15 683.174 1438.57 Q685.628 1437.99 687.665 1437.99 Q693.035 1437.99 696.229 1440.68 Q699.424 1443.36 699.424 1447.85 Q699.424 1449.98 698.614 1451.9 Q697.827 1453.8 695.72 1456.4 Q695.141 1457.07 692.04 1460.28 Q688.938 1463.48 683.29 1469.24 Z\" fill=\"#000000\" fill-rule=\"evenodd\" fill-opacity=\"1\" /><path clip-path=\"url(#clip990)\" d=\"M 0 0 M1204.69 1442.69 L1192.89 1461.14 L1204.69 1461.14 L1204.69 1442.69 M1203.47 1438.62 L1209.35 1438.62 L1209.35 1461.14 L1214.28 1461.14 L1214.28 1465.03 L1209.35 1465.03 L1209.35 1473.18 L1204.69 1473.18 L1204.69 1465.03 L1189.09 1465.03 L1189.09 1460.52 L1203.47 1438.62 Z\" fill=\"#000000\" fill-rule=\"evenodd\" fill-opacity=\"1\" /><path clip-path=\"url(#clip990)\" d=\"M 0 0 M1715.14 1454.03 Q1711.99 1454.03 1710.14 1456.19 Q1708.31 1458.34 1708.31 1462.09 Q1708.31 1465.82 1710.14 1467.99 Q1711.99 1470.15 1715.14 1470.15 Q1718.28 1470.15 1720.11 1467.99 Q1721.96 1465.82 1721.96 1462.09 Q1721.96 1458.34 1720.11 1456.19 Q1718.28 1454.03 1715.14 1454.03 M1724.42 1439.38 L1724.42 1443.64 Q1722.66 1442.81 1720.85 1442.37 Q1719.07 1441.93 1717.31 1441.93 Q1712.68 1441.93 1710.23 1445.05 Q1707.8 1448.18 1707.45 1454.5 Q1708.82 1452.48 1710.88 1451.42 Q1712.94 1450.33 1715.41 1450.33 Q1720.62 1450.33 1723.63 1453.5 Q1726.66 1456.65 1726.66 1462.09 Q1726.66 1467.41 1723.52 1470.63 Q1720.37 1473.85 1715.14 1473.85 Q1709.14 1473.85 1705.97 1469.27 Q1702.8 1464.66 1702.8 1455.93 Q1702.8 1447.74 1706.69 1442.88 Q1710.58 1437.99 1717.13 1437.99 Q1718.89 1437.99 1720.67 1438.34 Q1722.47 1438.69 1724.42 1439.38 Z\" fill=\"#000000\" fill-rule=\"evenodd\" fill-opacity=\"1\" /><path clip-path=\"url(#clip990)\" d=\"M 0 0 M2227.78 1456.77 Q2224.44 1456.77 2222.52 1458.55 Q2220.62 1460.33 2220.62 1463.46 Q2220.62 1466.58 2222.52 1468.36 Q2224.44 1470.15 2227.78 1470.15 Q2231.11 1470.15 2233.03 1468.36 Q2234.95 1466.56 2234.95 1463.46 Q2234.95 1460.33 2233.03 1458.55 Q2231.13 1456.77 2227.78 1456.77 M2223.1 1454.78 Q2220.09 1454.03 2218.4 1451.97 Q2216.74 1449.91 2216.74 1446.95 Q2216.74 1442.81 2219.68 1440.4 Q2222.64 1437.99 2227.78 1437.99 Q2232.94 1437.99 2235.88 1440.4 Q2238.82 1442.81 2238.82 1446.95 Q2238.82 1449.91 2237.13 1451.97 Q2235.46 1454.03 2232.48 1454.78 Q2235.86 1455.56 2237.73 1457.85 Q2239.63 1460.15 2239.63 1463.46 Q2239.63 1468.48 2236.55 1471.16 Q2233.5 1473.85 2227.78 1473.85 Q2222.06 1473.85 2218.98 1471.16 Q2215.93 1468.48 2215.93 1463.46 Q2215.93 1460.15 2217.82 1457.85 Q2219.72 1455.56 2223.1 1454.78 M2221.39 1447.39 Q2221.39 1450.08 2223.06 1451.58 Q2224.75 1453.09 2227.78 1453.09 Q2230.79 1453.09 2232.48 1451.58 Q2234.19 1450.08 2234.19 1447.39 Q2234.19 1444.71 2232.48 1443.2 Q2230.79 1441.7 2227.78 1441.7 Q2224.75 1441.7 2223.06 1443.2 Q2221.39 1444.71 2221.39 1447.39 Z\" fill=\"#000000\" fill-rule=\"evenodd\" fill-opacity=\"1\" /><path clip-path=\"url(#clip990)\" d=\"M 0 0 M76.2328 1368.55 Q72.6217 1368.55 70.793 1372.12 Q68.9875 1375.66 68.9875 1382.79 Q68.9875 1389.89 70.793 1393.46 Q72.6217 1397 76.2328 1397 Q79.867 1397 81.6726 1393.46 Q83.5013 1389.89 83.5013 1382.79 Q83.5013 1375.66 81.6726 1372.12 Q79.867 1368.55 76.2328 1368.55 M76.2328 1364.85 Q82.0429 1364.85 85.0985 1369.45 Q88.1772 1374.04 88.1772 1382.79 Q88.1772 1391.51 85.0985 1396.12 Q82.0429 1400.7 76.2328 1400.7 Q70.4226 1400.7 67.344 1396.12 Q64.2884 1391.51 64.2884 1382.79 Q64.2884 1374.04 67.344 1369.45 Q70.4226 1364.85 76.2328 1364.85 Z\" fill=\"#000000\" fill-rule=\"evenodd\" fill-opacity=\"1\" /><path clip-path=\"url(#clip990)\" d=\"M 0 0 M68.2699 1139.57 L75.9087 1139.57 L75.9087 1113.21 L67.5986 1114.87 L67.5986 1110.61 L75.8624 1108.95 L80.5383 1108.95 L80.5383 1139.57 L88.1772 1139.57 L88.1772 1143.51 L68.2699 1143.51 L68.2699 1139.57 Z\" fill=\"#000000\" fill-rule=\"evenodd\" fill-opacity=\"1\" /><path clip-path=\"url(#clip990)\" d=\"M 0 0 M71.8578 883.049 L88.1772 883.049 L88.1772 886.985 L66.2328 886.985 L66.2328 883.049 Q68.8949 880.295 73.4782 875.665 Q78.0846 871.013 79.2652 869.67 Q81.5105 867.147 82.3902 865.411 Q83.2929 863.651 83.2929 861.962 Q83.2929 859.207 81.3485 857.471 Q79.4272 855.735 76.3254 855.735 Q74.1263 855.735 71.6726 856.499 Q69.2421 857.263 66.4643 858.814 L66.4643 854.091 Q69.2884 852.957 71.7421 852.378 Q74.1958 851.8 76.2328 851.8 Q81.6031 851.8 84.7976 854.485 Q87.992 857.17 87.992 861.661 Q87.992 863.79 87.1818 865.712 Q86.3948 867.61 84.2883 870.202 Q83.7096 870.874 80.6078 874.091 Q77.5059 877.286 71.8578 883.049 Z\" fill=\"#000000\" fill-rule=\"evenodd\" fill-opacity=\"1\" /><path clip-path=\"url(#clip990)\" d=\"M 0 0 M81.0476 611.827 Q84.404 612.545 86.279 614.813 Q88.1772 617.082 88.1772 620.415 Q88.1772 625.531 84.6587 628.332 Q81.1402 631.132 74.6587 631.132 Q72.4828 631.132 70.168 630.693 Q67.8764 630.276 65.4227 629.42 L65.4227 624.906 Q67.3671 626.04 69.6819 626.619 Q71.9967 627.197 74.5198 627.197 Q78.918 627.197 81.2096 625.461 Q83.5244 623.725 83.5244 620.415 Q83.5244 617.359 81.3717 615.646 Q79.242 613.91 75.4226 613.91 L71.3949 613.91 L71.3949 610.068 L75.6078 610.068 Q79.0569 610.068 80.8855 608.702 Q82.7142 607.313 82.7142 604.721 Q82.7142 602.059 80.8161 600.647 Q78.9411 599.211 75.4226 599.211 Q73.5013 599.211 71.3023 599.628 Q69.1032 600.045 66.4643 600.924 L66.4643 596.758 Q69.1264 596.017 71.4412 595.647 Q73.7791 595.276 75.8393 595.276 Q81.1633 595.276 84.2652 597.707 Q87.367 600.114 87.367 604.234 Q87.367 607.105 85.7235 609.096 Q84.08 611.063 81.0476 611.827 Z\" fill=\"#000000\" fill-rule=\"evenodd\" fill-opacity=\"1\" /><path clip-path=\"url(#clip990)\" d=\"M 0 0 M78.5939 343.452 L66.7884 361.901 L78.5939 361.901 L78.5939 343.452 M77.367 339.378 L83.2466 339.378 L83.2466 361.901 L88.1772 361.901 L88.1772 365.79 L83.2466 365.79 L83.2466 373.938 L78.5939 373.938 L78.5939 365.79 L62.9921 365.79 L62.9921 361.276 L77.367 339.378 Z\" fill=\"#000000\" fill-rule=\"evenodd\" fill-opacity=\"1\" /><polyline clip-path=\"url(#clip992)\" style=\"stroke:#4876ff; stroke-width:4; stroke-opacity:1; fill:none\" stroke-dasharray=\"16, 10\" points=\"\n",
       "  175.59,921.009 196.934,888.462 218.231,856.628 239.483,825.504 260.689,795.092 281.852,765.39 302.972,736.396 324.05,708.111 345.087,680.534 366.084,653.664 \n",
       "  387.042,627.5 407.962,602.041 428.844,577.287 449.69,553.238 470.501,529.892 491.277,507.249 512.02,485.308 532.73,464.07 553.408,443.532 574.055,423.695 \n",
       "  594.673,404.558 615.261,386.121 635.821,368.382 656.354,351.343 676.861,335.001 697.342,319.357 717.798,304.411 738.23,290.161 758.64,276.608 779.027,263.75 \n",
       "  799.393,251.588 819.738,240.122 840.064,229.35 860.371,219.273 880.66,209.889 900.931,201.2 921.186,193.204 941.426,185.902 961.65,179.292 981.861,173.375 \n",
       "  1002.06,168.15 1022.24,163.618 1042.42,159.777 1062.58,156.628 1082.73,154.17 1102.87,152.402 1123,151.326 1143.13,150.94 1163.24,151.245 1183.35,152.239 \n",
       "  1203.45,153.923 1223.55,156.297 1243.64,159.36 1263.73,163.112 1283.82,167.552 1303.9,172.681 1323.98,178.498 1344.05,185.003 1364.13,192.195 1384.2,200.075 \n",
       "  1404.28,208.641 1424.35,217.894 1444.43,227.834 1464.51,238.459 1484.58,249.77 1504.67,261.766 1524.75,274.447 1544.84,287.812 1564.93,301.861 1585.03,316.594 \n",
       "  1605.13,332.01 1625.24,348.108 1645.36,364.889 1665.48,382.352 1685.61,400.496 1705.74,419.32 1725.89,438.825 1746.04,459.009 1766.2,479.873 1786.37,501.415 \n",
       "  1806.55,523.635 1826.75,546.532 1839.38,563.475 1836.18,573.26 1837.2,588.391 1846.44,604.771 -58.7391,1979.79 -57.996,2022.51 -57.2051,2065.89 -56.3656,2109.95 \n",
       "  -55.4769,2154.69 -54.5382,2200.09 -53.5489,2246.16 -52.5082,2292.9 -51.4155,2340.31 -50.2701,2388.38 -49.0713,2437.12 -47.8183,2486.52 -46.5106,2536.59 -45.1474,2587.31 \n",
       "  -43.7281,2638.69 -42.252,2690.73 -40.7184,2743.43 -39.1267,2796.78 -37.4762,2850.79 -35.7663,2905.45 -33.9963,2960.76 -32.1655,3016.72 -30.2734,3073.33 -28.3192,3130.58 \n",
       "  -26.3024,3188.48 -24.2223,3247.03 -22.0783,3306.21 -19.8697,3366.04 -17.596,3426.51 -15.2565,3487.61 -12.8506,3549.35 -10.3777,3611.73 -7.83717,3674.73 -5.22844,3738.37 \n",
       "  \n",
       "  \"/>\n",
       "<path clip-path=\"url(#clip992)\" d=\"\n",
       "M1878.91 600.355 L2032.82 600.355 L2032.82 579.833 L1878.91 579.833 L1878.91 600.355  Z\n",
       "  \" fill=\"#ff4500\" fill-rule=\"evenodd\" fill-opacity=\"0.7\"/>\n",
       "<polyline clip-path=\"url(#clip992)\" style=\"stroke:#000000; stroke-width:4; stroke-opacity:0.7; fill:none\" points=\"\n",
       "  1878.91,600.355 2032.82,600.355 2032.82,579.833 1878.91,579.833 1878.91,600.355 \n",
       "  \"/>\n",
       "<path clip-path=\"url(#clip992)\" d=\"\n",
       "M2032.82 1382.75 L2058.47 1382.75 L2058.47 600.355 L2032.82 600.355 L2032.82 1382.75  Z\n",
       "  \" fill=\"#808080\" fill-rule=\"evenodd\" fill-opacity=\"0.5\"/>\n",
       "<polyline clip-path=\"url(#clip992)\" style=\"stroke:#000000; stroke-width:4; stroke-opacity:0.5; fill:none\" points=\"\n",
       "  2032.82,1382.75 2058.47,1382.75 2058.47,600.355 2032.82,600.355 2032.82,1382.75 \n",
       "  \"/>\n",
       "<path clip-path=\"url(#clip992)\" d=\"\n",
       "M1891.73 600.355 L2032.82 600.355 L1981.52 728.617 L1917.38 728.617 L1891.73 600.355  Z\n",
       "  \" fill=\"#ffffff\" fill-rule=\"evenodd\" fill-opacity=\"0.3\"/>\n",
       "<polyline clip-path=\"url(#clip992)\" style=\"stroke:#000000; stroke-width:4; stroke-opacity:0.3; fill:none\" points=\"\n",
       "  1891.73,600.355 2032.82,600.355 1981.52,728.617 1917.38,728.617 1891.73,600.355 \n",
       "  \"/>\n",
       "</svg>\n"
      ]
     },
     "metadata": {},
     "output_type": "display_data"
    }
   ],
   "source": [
    "animate_throw([sol], three_point_line_x, 120, 0)"
   ]
  },
  {
   "cell_type": "markdown",
   "metadata": {},
   "source": [
    "## Szukanie wartości początkowych v₀ i θ₀ dla których rzut jest celny - symulacja"
   ]
  },
  {
   "cell_type": "markdown",
   "metadata": {},
   "source": [
    "Rzut celny: \n",
    "\n",
    "współrzędna y piłki ~= współrzędna y środka obręczy piłki\n",
    "\n",
    "oraz\n",
    "\n",
    "współrzędna x piłki ± margines błędu = współrzędna x środka obręczy"
   ]
  },
  {
   "cell_type": "code",
   "execution_count": 37,
   "metadata": {},
   "outputs": [
    {
     "data": {
      "text/plain": [
       "scored (generic function with 2 methods)"
      ]
     },
     "execution_count": 37,
     "metadata": {},
     "output_type": "execute_result"
    }
   ],
   "source": [
    "findnearest(A::AbstractArray, t) = findmin(abs.(A.-t))\n",
    "scored(x::Number, distance::Number, ε::Number) = (x < distance + ε) && (x > distance - ε)"
   ]
  },
  {
   "cell_type": "code",
   "execution_count": 56,
   "metadata": {},
   "outputs": [
    {
     "data": {
      "text/plain": [
       "throws_simulation (generic function with 2 methods)"
      ]
     },
     "execution_count": 56,
     "metadata": {},
     "output_type": "execute_result"
    }
   ],
   "source": [
    "function throws_simulation(vₘᵢₙ, vₘₐₓ, θₘᵢₙ, θₘₐₓ, points, time, distance, x₀, players_height, rim_y, ε)\n",
    "    \n",
    "    good_v₀s = Array{Float64,1}()\n",
    "    good_θ₀s = Array{Float64,1}()\n",
    "    \n",
    "    v₀s   = range(vₘᵢₙ, stop=vₘₐₓ, length=points)\n",
    "    θ₀s   = range(θₘᵢₙ, stop=θₘₐₓ, length=points) ./ 180 .* π\n",
    "    tspan = range(0,   stop=time, length=time*60)\n",
    "    \n",
    "    for θ₀ in θ₀s\n",
    "        for v₀ in v₀s \n",
    "            u₀ = [x₀; v₀ * cos(θ₀); players_height; v₀ * sin(θ₀)]\n",
    "            sol = rungekutta4(basketball_throw, u₀, tspan)\n",
    "            y_index = findnearest(sol[:, 3], rim_y)[2]\n",
    "            if scored(sol[y_index, 1], distance, ε)\n",
    "                push!(good_v₀s, v₀)\n",
    "                push!(good_θ₀s, θ₀)\n",
    "            end\n",
    "        end\n",
    "    end\n",
    "    return good_v₀s, good_θ₀s ./ π .* 180\n",
    "end"
   ]
  },
  {
   "cell_type": "code",
   "execution_count": 57,
   "metadata": {},
   "outputs": [
    {
     "data": {
      "text/plain": [
       "([9.974874371859297, 10.0, 9.974874371859297, 10.0, 9.899497487437186, 9.924623115577889, 9.949748743718592, 9.874371859296483, 9.899497487437186, 9.974874371859297  …  9.899497487437186, 9.949748743718592, 9.974874371859297, 9.874371859296483, 9.924623115577889, 9.949748743718592, 9.924623115577889, 10.0, 10.0, 9.974874371859297], [34.2713567839196, 34.2713567839196, 34.52261306532663, 34.52261306532663, 34.773869346733676, 34.773869346733676, 34.773869346733676, 35.02512562814071, 35.02512562814071, 35.02512562814071  …  61.909547738693476, 61.909547738693476, 61.909547738693476, 62.16080402010051, 62.16080402010051, 62.16080402010051, 62.41206030150754, 62.41206030150754, 62.66331658291457, 62.9145728643216])"
      ]
     },
     "execution_count": 57,
     "metadata": {},
     "output_type": "execute_result"
    }
   ],
   "source": [
    "x, y = throws_simulation(5, 10, 30, 80, 200, 2, three_point_line_x, 0, 1.8, rim_y, score_error)"
   ]
  },
  {
   "cell_type": "code",
   "execution_count": 62,
   "metadata": {},
   "outputs": [
    {
     "data": {
      "image/svg+xml": [
       "<?xml version=\"1.0\" encoding=\"utf-8\"?>\n",
       "<svg xmlns=\"http://www.w3.org/2000/svg\" xmlns:xlink=\"http://www.w3.org/1999/xlink\" width=\"600\" height=\"400\" viewBox=\"0 0 2400 1600\">\n",
       "<defs>\n",
       "  <clipPath id=\"clip660\">\n",
       "    <rect x=\"0\" y=\"0\" width=\"2400\" height=\"1600\"/>\n",
       "  </clipPath>\n",
       "</defs>\n",
       "<path clip-path=\"url(#clip660)\" d=\"\n",
       "M0 1600 L2400 1600 L2400 0 L0 0  Z\n",
       "  \" fill=\"#ffffff\" fill-rule=\"evenodd\" fill-opacity=\"1\"/>\n",
       "<defs>\n",
       "  <clipPath id=\"clip661\">\n",
       "    <rect x=\"480\" y=\"0\" width=\"1681\" height=\"1600\"/>\n",
       "  </clipPath>\n",
       "</defs>\n",
       "<path clip-path=\"url(#clip660)\" d=\"\n",
       "M202.459 1423.18 L2352.76 1423.18 L2352.76 47.2441 L202.459 47.2441  Z\n",
       "  \" fill=\"#ffffff\" fill-rule=\"evenodd\" fill-opacity=\"1\"/>\n",
       "<defs>\n",
       "  <clipPath id=\"clip662\">\n",
       "    <rect x=\"202\" y=\"47\" width=\"2151\" height=\"1377\"/>\n",
       "  </clipPath>\n",
       "</defs>\n",
       "<polyline clip-path=\"url(#clip662)\" style=\"stroke:#000000; stroke-width:2; stroke-opacity:0.1; fill:none\" points=\"\n",
       "  334.624,1423.18 334.624,47.2441 \n",
       "  \"/>\n",
       "<polyline clip-path=\"url(#clip662)\" style=\"stroke:#000000; stroke-width:2; stroke-opacity:0.1; fill:none\" points=\"\n",
       "  823.943,1423.18 823.943,47.2441 \n",
       "  \"/>\n",
       "<polyline clip-path=\"url(#clip662)\" style=\"stroke:#000000; stroke-width:2; stroke-opacity:0.1; fill:none\" points=\"\n",
       "  1313.26,1423.18 1313.26,47.2441 \n",
       "  \"/>\n",
       "<polyline clip-path=\"url(#clip662)\" style=\"stroke:#000000; stroke-width:2; stroke-opacity:0.1; fill:none\" points=\"\n",
       "  1802.58,1423.18 1802.58,47.2441 \n",
       "  \"/>\n",
       "<polyline clip-path=\"url(#clip662)\" style=\"stroke:#000000; stroke-width:2; stroke-opacity:0.1; fill:none\" points=\"\n",
       "  2291.9,1423.18 2291.9,47.2441 \n",
       "  \"/>\n",
       "<polyline clip-path=\"url(#clip660)\" style=\"stroke:#000000; stroke-width:4; stroke-opacity:1; fill:none\" points=\"\n",
       "  202.459,1423.18 2352.76,1423.18 \n",
       "  \"/>\n",
       "<polyline clip-path=\"url(#clip660)\" style=\"stroke:#000000; stroke-width:4; stroke-opacity:1; fill:none\" points=\"\n",
       "  334.624,1423.18 334.624,1406.67 \n",
       "  \"/>\n",
       "<polyline clip-path=\"url(#clip660)\" style=\"stroke:#000000; stroke-width:4; stroke-opacity:1; fill:none\" points=\"\n",
       "  823.943,1423.18 823.943,1406.67 \n",
       "  \"/>\n",
       "<polyline clip-path=\"url(#clip660)\" style=\"stroke:#000000; stroke-width:4; stroke-opacity:1; fill:none\" points=\"\n",
       "  1313.26,1423.18 1313.26,1406.67 \n",
       "  \"/>\n",
       "<polyline clip-path=\"url(#clip660)\" style=\"stroke:#000000; stroke-width:4; stroke-opacity:1; fill:none\" points=\"\n",
       "  1802.58,1423.18 1802.58,1406.67 \n",
       "  \"/>\n",
       "<polyline clip-path=\"url(#clip660)\" style=\"stroke:#000000; stroke-width:4; stroke-opacity:1; fill:none\" points=\"\n",
       "  2291.9,1423.18 2291.9,1406.67 \n",
       "  \"/>\n",
       "<path clip-path=\"url(#clip660)\" d=\"M 0 0 M307.24 1483.13 L307.24 1478.88 Q308.999 1479.71 310.805 1480.15 Q312.61 1480.59 314.346 1480.59 Q318.976 1480.59 321.407 1477.49 Q323.86 1474.36 324.208 1468.02 Q322.865 1470.01 320.805 1471.07 Q318.745 1472.14 316.245 1472.14 Q311.059 1472.14 308.027 1469.01 Q305.018 1465.87 305.018 1460.43 Q305.018 1455.1 308.166 1451.88 Q311.314 1448.67 316.546 1448.67 Q322.541 1448.67 325.689 1453.27 Q328.86 1457.86 328.86 1466.61 Q328.86 1474.78 324.971 1479.66 Q321.106 1484.52 314.555 1484.52 Q312.796 1484.52 310.99 1484.18 Q309.184 1483.83 307.24 1483.13 M316.546 1468.48 Q319.694 1468.48 321.522 1466.33 Q323.374 1464.18 323.374 1460.43 Q323.374 1456.7 321.522 1454.55 Q319.694 1452.37 316.546 1452.37 Q313.397 1452.37 311.546 1454.55 Q309.717 1456.7 309.717 1460.43 Q309.717 1464.18 311.546 1466.33 Q313.397 1468.48 316.546 1468.48 Z\" fill=\"#000000\" fill-rule=\"evenodd\" fill-opacity=\"1\" /><path clip-path=\"url(#clip660)\" d=\"M 0 0 M333.93 1477.97 L338.814 1477.97 L338.814 1483.85 L333.93 1483.85 L333.93 1477.97 Z\" fill=\"#000000\" fill-rule=\"evenodd\" fill-opacity=\"1\" /><path clip-path=\"url(#clip660)\" d=\"M 0 0 M347.911 1479.92 L364.23 1479.92 L364.23 1483.85 L342.286 1483.85 L342.286 1479.92 Q344.948 1477.16 349.531 1472.53 Q354.138 1467.88 355.318 1466.54 Q357.564 1464.01 358.443 1462.28 Q359.346 1460.52 359.346 1458.83 Q359.346 1456.07 357.402 1454.34 Q355.481 1452.6 352.379 1452.6 Q350.18 1452.6 347.726 1453.37 Q345.295 1454.13 342.518 1455.68 L342.518 1450.96 Q345.342 1449.82 347.795 1449.25 Q350.249 1448.67 352.286 1448.67 Q357.656 1448.67 360.851 1451.35 Q364.045 1454.04 364.045 1458.53 Q364.045 1460.66 363.235 1462.58 Q362.448 1464.48 360.342 1467.07 Q359.763 1467.74 356.661 1470.96 Q353.559 1474.15 347.911 1479.92 Z\" fill=\"#000000\" fill-rule=\"evenodd\" fill-opacity=\"1\" /><path clip-path=\"url(#clip660)\" d=\"M 0 0 M795.517 1483.13 L795.517 1478.88 Q797.276 1479.71 799.082 1480.15 Q800.887 1480.59 802.623 1480.59 Q807.253 1480.59 809.684 1477.49 Q812.137 1474.36 812.484 1468.02 Q811.142 1470.01 809.082 1471.07 Q807.022 1472.14 804.522 1472.14 Q799.336 1472.14 796.304 1469.01 Q793.295 1465.87 793.295 1460.43 Q793.295 1455.1 796.443 1451.88 Q799.591 1448.67 804.822 1448.67 Q810.818 1448.67 813.966 1453.27 Q817.137 1457.86 817.137 1466.61 Q817.137 1474.78 813.248 1479.66 Q809.383 1484.52 802.832 1484.52 Q801.072 1484.52 799.267 1484.18 Q797.461 1483.83 795.517 1483.13 M804.822 1468.48 Q807.971 1468.48 809.799 1466.33 Q811.651 1464.18 811.651 1460.43 Q811.651 1456.7 809.799 1454.55 Q807.971 1452.37 804.822 1452.37 Q801.674 1452.37 799.822 1454.55 Q797.994 1456.7 797.994 1460.43 Q797.994 1464.18 799.822 1466.33 Q801.674 1468.48 804.822 1468.48 Z\" fill=\"#000000\" fill-rule=\"evenodd\" fill-opacity=\"1\" /><path clip-path=\"url(#clip660)\" d=\"M 0 0 M822.207 1477.97 L827.091 1477.97 L827.091 1483.85 L822.207 1483.85 L822.207 1477.97 Z\" fill=\"#000000\" fill-rule=\"evenodd\" fill-opacity=\"1\" /><path clip-path=\"url(#clip660)\" d=\"M 0 0 M845.007 1453.37 L833.202 1471.81 L845.007 1471.81 L845.007 1453.37 M843.781 1449.29 L849.66 1449.29 L849.66 1471.81 L854.591 1471.81 L854.591 1475.7 L849.66 1475.7 L849.66 1483.85 L845.007 1483.85 L845.007 1475.7 L829.406 1475.7 L829.406 1471.19 L843.781 1449.29 Z\" fill=\"#000000\" fill-rule=\"evenodd\" fill-opacity=\"1\" /><path clip-path=\"url(#clip660)\" d=\"M 0 0 M1285 1483.13 L1285 1478.88 Q1286.76 1479.71 1288.56 1480.15 Q1290.37 1480.59 1292.1 1480.59 Q1296.73 1480.59 1299.16 1477.49 Q1301.62 1474.36 1301.97 1468.02 Q1300.62 1470.01 1298.56 1471.07 Q1296.5 1472.14 1294 1472.14 Q1288.82 1472.14 1285.78 1469.01 Q1282.78 1465.87 1282.78 1460.43 Q1282.78 1455.1 1285.92 1451.88 Q1289.07 1448.67 1294.3 1448.67 Q1300.3 1448.67 1303.45 1453.27 Q1306.62 1457.86 1306.62 1466.61 Q1306.62 1474.78 1302.73 1479.66 Q1298.86 1484.52 1292.31 1484.52 Q1290.55 1484.52 1288.75 1484.18 Q1286.94 1483.83 1285 1483.13 M1294.3 1468.48 Q1297.45 1468.48 1299.28 1466.33 Q1301.13 1464.18 1301.13 1460.43 Q1301.13 1456.7 1299.28 1454.55 Q1297.45 1452.37 1294.3 1452.37 Q1291.15 1452.37 1289.3 1454.55 Q1287.47 1456.7 1287.47 1460.43 Q1287.47 1464.18 1289.3 1466.33 Q1291.15 1468.48 1294.3 1468.48 Z\" fill=\"#000000\" fill-rule=\"evenodd\" fill-opacity=\"1\" /><path clip-path=\"url(#clip660)\" d=\"M 0 0 M1311.69 1477.97 L1316.57 1477.97 L1316.57 1483.85 L1311.69 1483.85 L1311.69 1477.97 Z\" fill=\"#000000\" fill-rule=\"evenodd\" fill-opacity=\"1\" /><path clip-path=\"url(#clip660)\" d=\"M 0 0 M1332.22 1464.71 Q1329.07 1464.71 1327.22 1466.86 Q1325.39 1469.01 1325.39 1472.76 Q1325.39 1476.49 1327.22 1478.67 Q1329.07 1480.82 1332.22 1480.82 Q1335.37 1480.82 1337.2 1478.67 Q1339.05 1476.49 1339.05 1472.76 Q1339.05 1469.01 1337.2 1466.86 Q1335.37 1464.71 1332.22 1464.71 M1341.5 1450.06 L1341.5 1454.31 Q1339.74 1453.48 1337.94 1453.04 Q1336.15 1452.6 1334.4 1452.6 Q1329.77 1452.6 1327.31 1455.73 Q1324.88 1458.85 1324.53 1465.17 Q1325.9 1463.16 1327.96 1462.09 Q1330.02 1461 1332.5 1461 Q1337.71 1461 1340.71 1464.18 Q1343.75 1467.32 1343.75 1472.76 Q1343.75 1478.09 1340.6 1481.31 Q1337.45 1484.52 1332.22 1484.52 Q1326.22 1484.52 1323.05 1479.94 Q1319.88 1475.33 1319.88 1466.61 Q1319.88 1458.41 1323.77 1453.55 Q1327.66 1448.67 1334.21 1448.67 Q1335.97 1448.67 1337.75 1449.01 Q1339.56 1449.36 1341.5 1450.06 Z\" fill=\"#000000\" fill-rule=\"evenodd\" fill-opacity=\"1\" /><path clip-path=\"url(#clip660)\" d=\"M 0 0 M1774.44 1483.13 L1774.44 1478.88 Q1776.2 1479.71 1778.01 1480.15 Q1779.81 1480.59 1781.55 1480.59 Q1786.18 1480.59 1788.61 1477.49 Q1791.06 1474.36 1791.41 1468.02 Q1790.07 1470.01 1788.01 1471.07 Q1785.95 1472.14 1783.45 1472.14 Q1778.26 1472.14 1775.23 1469.01 Q1772.22 1465.87 1772.22 1460.43 Q1772.22 1455.1 1775.37 1451.88 Q1778.52 1448.67 1783.75 1448.67 Q1789.74 1448.67 1792.89 1453.27 Q1796.06 1457.86 1796.06 1466.61 Q1796.06 1474.78 1792.17 1479.66 Q1788.31 1484.52 1781.76 1484.52 Q1780 1484.52 1778.19 1484.18 Q1776.39 1483.83 1774.44 1483.13 M1783.75 1468.48 Q1786.9 1468.48 1788.73 1466.33 Q1790.58 1464.18 1790.58 1460.43 Q1790.58 1456.7 1788.73 1454.55 Q1786.9 1452.37 1783.75 1452.37 Q1780.6 1452.37 1778.75 1454.55 Q1776.92 1456.7 1776.92 1460.43 Q1776.92 1464.18 1778.75 1466.33 Q1780.6 1468.48 1783.75 1468.48 Z\" fill=\"#000000\" fill-rule=\"evenodd\" fill-opacity=\"1\" /><path clip-path=\"url(#clip660)\" d=\"M 0 0 M1801.13 1477.97 L1806.02 1477.97 L1806.02 1483.85 L1801.13 1483.85 L1801.13 1477.97 Z\" fill=\"#000000\" fill-rule=\"evenodd\" fill-opacity=\"1\" /><path clip-path=\"url(#clip660)\" d=\"M 0 0 M1821.09 1467.44 Q1817.75 1467.44 1815.83 1469.22 Q1813.93 1471 1813.93 1474.13 Q1813.93 1477.25 1815.83 1479.04 Q1817.75 1480.82 1821.09 1480.82 Q1824.42 1480.82 1826.34 1479.04 Q1828.26 1477.23 1828.26 1474.13 Q1828.26 1471 1826.34 1469.22 Q1824.44 1467.44 1821.09 1467.44 M1816.41 1465.45 Q1813.4 1464.71 1811.71 1462.65 Q1810.05 1460.59 1810.05 1457.63 Q1810.05 1453.48 1812.98 1451.07 Q1815.95 1448.67 1821.09 1448.67 Q1826.25 1448.67 1829.19 1451.07 Q1832.13 1453.48 1832.13 1457.63 Q1832.13 1460.59 1830.44 1462.65 Q1828.77 1464.71 1825.79 1465.45 Q1829.17 1466.24 1831.04 1468.53 Q1832.94 1470.82 1832.94 1474.13 Q1832.94 1479.15 1829.86 1481.84 Q1826.8 1484.52 1821.09 1484.52 Q1815.37 1484.52 1812.29 1481.84 Q1809.23 1479.15 1809.23 1474.13 Q1809.23 1470.82 1811.13 1468.53 Q1813.03 1466.24 1816.41 1465.45 M1814.7 1458.06 Q1814.7 1460.75 1816.36 1462.25 Q1818.05 1463.76 1821.09 1463.76 Q1824.1 1463.76 1825.79 1462.25 Q1827.5 1460.75 1827.5 1458.06 Q1827.5 1455.38 1825.79 1453.88 Q1824.1 1452.37 1821.09 1452.37 Q1818.05 1452.37 1816.36 1453.88 Q1814.7 1455.38 1814.7 1458.06 Z\" fill=\"#000000\" fill-rule=\"evenodd\" fill-opacity=\"1\" /><path clip-path=\"url(#clip660)\" d=\"M 0 0 M2250.29 1479.92 L2257.93 1479.92 L2257.93 1453.55 L2249.62 1455.22 L2249.62 1450.96 L2257.88 1449.29 L2262.56 1449.29 L2262.56 1479.92 L2270.2 1479.92 L2270.2 1483.85 L2250.29 1483.85 L2250.29 1479.92 Z\" fill=\"#000000\" fill-rule=\"evenodd\" fill-opacity=\"1\" /><path clip-path=\"url(#clip660)\" d=\"M 0 0 M2285.27 1452.37 Q2281.66 1452.37 2279.83 1455.94 Q2278.02 1459.48 2278.02 1466.61 Q2278.02 1473.71 2279.83 1477.28 Q2281.66 1480.82 2285.27 1480.82 Q2288.9 1480.82 2290.71 1477.28 Q2292.54 1473.71 2292.54 1466.61 Q2292.54 1459.48 2290.71 1455.94 Q2288.9 1452.37 2285.27 1452.37 M2285.27 1448.67 Q2291.08 1448.67 2294.13 1453.27 Q2297.21 1457.86 2297.21 1466.61 Q2297.21 1475.33 2294.13 1479.94 Q2291.08 1484.52 2285.27 1484.52 Q2279.46 1484.52 2276.38 1479.94 Q2273.32 1475.33 2273.32 1466.61 Q2273.32 1457.86 2276.38 1453.27 Q2279.46 1448.67 2285.27 1448.67 Z\" fill=\"#000000\" fill-rule=\"evenodd\" fill-opacity=\"1\" /><path clip-path=\"url(#clip660)\" d=\"M 0 0 M2302.28 1477.97 L2307.16 1477.97 L2307.16 1483.85 L2302.28 1483.85 L2302.28 1477.97 Z\" fill=\"#000000\" fill-rule=\"evenodd\" fill-opacity=\"1\" /><path clip-path=\"url(#clip660)\" d=\"M 0 0 M2322.23 1452.37 Q2318.62 1452.37 2316.79 1455.94 Q2314.99 1459.48 2314.99 1466.61 Q2314.99 1473.71 2316.79 1477.28 Q2318.62 1480.82 2322.23 1480.82 Q2325.87 1480.82 2327.67 1477.28 Q2329.5 1473.71 2329.5 1466.61 Q2329.5 1459.48 2327.67 1455.94 Q2325.87 1452.37 2322.23 1452.37 M2322.23 1448.67 Q2328.04 1448.67 2331.1 1453.27 Q2334.18 1457.86 2334.18 1466.61 Q2334.18 1475.33 2331.1 1479.94 Q2328.04 1484.52 2322.23 1484.52 Q2316.42 1484.52 2313.35 1479.94 Q2310.29 1475.33 2310.29 1466.61 Q2310.29 1457.86 2313.35 1453.27 Q2316.42 1448.67 2322.23 1448.67 Z\" fill=\"#000000\" fill-rule=\"evenodd\" fill-opacity=\"1\" /><path clip-path=\"url(#clip660)\" d=\"M 0 0 M1162.6 1520.4 L1168.8 1520.4 L1179.94 1550.31 L1191.08 1520.4 L1197.29 1520.4 L1183.92 1556.04 L1175.96 1556.04 L1162.6 1520.4 Z\" fill=\"#000000\" fill-rule=\"evenodd\" fill-opacity=\"1\" /><path clip-path=\"url(#clip660)\" d=\"M 0 0 M1215.43 1534.5 Q1213.84 1531.76 1210.62 1531.76 Q1207.41 1531.76 1205.82 1534.5 Q1204.19 1537.23 1204.19 1542.71 Q1204.19 1548.21 1205.82 1550.95 Q1207.41 1553.69 1210.62 1553.69 Q1213.84 1553.69 1215.43 1550.95 Q1217.05 1548.21 1217.05 1542.71 Q1217.05 1537.23 1215.43 1534.5 M1210.62 1528.93 Q1215.75 1528.93 1218.45 1532.46 Q1221.16 1535.99 1221.16 1542.71 Q1221.16 1549.46 1218.45 1552.99 Q1215.75 1556.52 1210.62 1556.52 Q1205.47 1556.52 1202.76 1552.99 Q1200.06 1549.46 1200.06 1542.71 Q1200.06 1535.99 1202.76 1532.46 Q1205.47 1528.93 1210.62 1528.93 Z\" fill=\"#000000\" fill-rule=\"evenodd\" fill-opacity=\"1\" /><path clip-path=\"url(#clip660)\" d=\"M 0 0 M1262.09 1506.58 Q1257.83 1513.9 1255.76 1521.06 Q1253.69 1528.23 1253.69 1535.58 Q1253.69 1542.93 1255.76 1550.16 Q1257.86 1557.35 1262.09 1564.64 L1257 1564.64 Q1252.22 1557.16 1249.84 1549.93 Q1247.48 1542.71 1247.48 1535.58 Q1247.48 1528.48 1249.84 1521.29 Q1252.19 1514.09 1257 1506.58 L1262.09 1506.58 Z\" fill=\"#000000\" fill-rule=\"evenodd\" fill-opacity=\"1\" /><path clip-path=\"url(#clip660)\" d=\"M 0 0 M1295.99 1527.24 Q1298.18 1523.29 1301.24 1521.41 Q1304.3 1519.54 1308.43 1519.54 Q1314 1519.54 1317.03 1523.45 Q1320.05 1527.33 1320.05 1534.53 L1320.05 1556.04 L1314.16 1556.04 L1314.16 1534.72 Q1314.16 1529.59 1312.35 1527.11 Q1310.53 1524.63 1306.81 1524.63 Q1302.26 1524.63 1299.62 1527.65 Q1296.98 1530.68 1296.98 1535.9 L1296.98 1556.04 L1291.09 1556.04 L1291.09 1534.72 Q1291.09 1529.56 1289.27 1527.11 Q1287.46 1524.63 1283.67 1524.63 Q1279.18 1524.63 1276.54 1527.68 Q1273.9 1530.71 1273.9 1535.9 L1273.9 1556.04 L1268.01 1556.04 L1268.01 1520.4 L1273.9 1520.4 L1273.9 1525.93 Q1275.9 1522.66 1278.71 1521.1 Q1281.51 1519.54 1285.36 1519.54 Q1289.24 1519.54 1291.95 1521.51 Q1294.68 1523.48 1295.99 1527.24 Z\" fill=\"#000000\" fill-rule=\"evenodd\" fill-opacity=\"1\" /><path clip-path=\"url(#clip660)\" d=\"M 0 0 M1336.6 1508.52 L1342.01 1508.52 L1325.46 1562.09 L1320.05 1562.09 L1336.6 1508.52 Z\" fill=\"#000000\" fill-rule=\"evenodd\" fill-opacity=\"1\" /><path clip-path=\"url(#clip660)\" d=\"M 0 0 M1370.88 1521.45 L1370.88 1526.98 Q1368.4 1525.71 1365.72 1525.07 Q1363.05 1524.44 1360.19 1524.44 Q1355.83 1524.44 1353.63 1525.77 Q1351.47 1527.11 1351.47 1529.79 Q1351.47 1531.82 1353.03 1533 Q1354.58 1534.15 1359.3 1535.2 L1361.3 1535.64 Q1367.54 1536.98 1370.15 1539.43 Q1372.79 1541.85 1372.79 1546.21 Q1372.79 1551.17 1368.84 1554.07 Q1364.93 1556.97 1358.05 1556.97 Q1355.19 1556.97 1352.07 1556.39 Q1348.98 1555.85 1345.55 1554.74 L1345.55 1548.69 Q1348.79 1550.38 1351.94 1551.24 Q1355.09 1552.07 1358.18 1552.07 Q1362.32 1552.07 1364.55 1550.66 Q1366.78 1549.23 1366.78 1546.65 Q1366.78 1544.27 1365.15 1542.99 Q1363.56 1541.72 1358.12 1540.54 L1356.08 1540.07 Q1350.64 1538.92 1348.22 1536.56 Q1345.8 1534.18 1345.8 1530.04 Q1345.8 1525.01 1349.36 1522.27 Q1352.93 1519.54 1359.49 1519.54 Q1362.73 1519.54 1365.6 1520.01 Q1368.46 1520.49 1370.88 1521.45 Z\" fill=\"#000000\" fill-rule=\"evenodd\" fill-opacity=\"1\" /><path clip-path=\"url(#clip660)\" d=\"M 0 0 M1378.01 1506.58 L1383.1 1506.58 Q1387.88 1514.09 1390.23 1521.29 Q1392.62 1528.48 1392.62 1535.58 Q1392.62 1542.71 1390.23 1549.93 Q1387.88 1557.16 1383.1 1564.64 L1378.01 1564.64 Q1382.24 1557.35 1384.31 1550.16 Q1386.41 1542.93 1386.41 1535.58 Q1386.41 1528.23 1384.31 1521.06 Q1382.24 1513.9 1378.01 1506.58 Z\" fill=\"#000000\" fill-rule=\"evenodd\" fill-opacity=\"1\" /><polyline clip-path=\"url(#clip662)\" style=\"stroke:#000000; stroke-width:2; stroke-opacity:0.1; fill:none\" points=\"\n",
       "  202.459,1351.22 2352.76,1351.22 \n",
       "  \"/>\n",
       "<polyline clip-path=\"url(#clip662)\" style=\"stroke:#000000; stroke-width:2; stroke-opacity:0.1; fill:none\" points=\"\n",
       "  202.459,1124.63 2352.76,1124.63 \n",
       "  \"/>\n",
       "<polyline clip-path=\"url(#clip662)\" style=\"stroke:#000000; stroke-width:2; stroke-opacity:0.1; fill:none\" points=\"\n",
       "  202.459,898.038 2352.76,898.038 \n",
       "  \"/>\n",
       "<polyline clip-path=\"url(#clip662)\" style=\"stroke:#000000; stroke-width:2; stroke-opacity:0.1; fill:none\" points=\"\n",
       "  202.459,671.448 2352.76,671.448 \n",
       "  \"/>\n",
       "<polyline clip-path=\"url(#clip662)\" style=\"stroke:#000000; stroke-width:2; stroke-opacity:0.1; fill:none\" points=\"\n",
       "  202.459,444.858 2352.76,444.858 \n",
       "  \"/>\n",
       "<polyline clip-path=\"url(#clip662)\" style=\"stroke:#000000; stroke-width:2; stroke-opacity:0.1; fill:none\" points=\"\n",
       "  202.459,218.268 2352.76,218.268 \n",
       "  \"/>\n",
       "<polyline clip-path=\"url(#clip660)\" style=\"stroke:#000000; stroke-width:4; stroke-opacity:1; fill:none\" points=\"\n",
       "  202.459,1423.18 202.459,47.2441 \n",
       "  \"/>\n",
       "<polyline clip-path=\"url(#clip660)\" style=\"stroke:#000000; stroke-width:4; stroke-opacity:1; fill:none\" points=\"\n",
       "  202.459,1351.22 228.263,1351.22 \n",
       "  \"/>\n",
       "<polyline clip-path=\"url(#clip660)\" style=\"stroke:#000000; stroke-width:4; stroke-opacity:1; fill:none\" points=\"\n",
       "  202.459,1124.63 228.263,1124.63 \n",
       "  \"/>\n",
       "<polyline clip-path=\"url(#clip660)\" style=\"stroke:#000000; stroke-width:4; stroke-opacity:1; fill:none\" points=\"\n",
       "  202.459,898.038 228.263,898.038 \n",
       "  \"/>\n",
       "<polyline clip-path=\"url(#clip660)\" style=\"stroke:#000000; stroke-width:4; stroke-opacity:1; fill:none\" points=\"\n",
       "  202.459,671.448 228.263,671.448 \n",
       "  \"/>\n",
       "<polyline clip-path=\"url(#clip660)\" style=\"stroke:#000000; stroke-width:4; stroke-opacity:1; fill:none\" points=\"\n",
       "  202.459,444.858 228.263,444.858 \n",
       "  \"/>\n",
       "<polyline clip-path=\"url(#clip660)\" style=\"stroke:#000000; stroke-width:4; stroke-opacity:1; fill:none\" points=\"\n",
       "  202.459,218.268 228.263,218.268 \n",
       "  \"/>\n",
       "<path clip-path=\"url(#clip660)\" d=\"M 0 0 M133.311 1349.86 Q136.667 1350.58 138.542 1352.85 Q140.441 1355.12 140.441 1358.45 Q140.441 1363.57 136.922 1366.37 Q133.404 1369.17 126.922 1369.17 Q124.746 1369.17 122.431 1368.73 Q120.14 1368.31 117.686 1367.46 L117.686 1362.94 Q119.63 1364.08 121.945 1364.66 Q124.26 1365.23 126.783 1365.23 Q131.181 1365.23 133.473 1363.5 Q135.788 1361.76 135.788 1358.45 Q135.788 1355.4 133.635 1353.68 Q131.505 1351.95 127.686 1351.95 L123.658 1351.95 L123.658 1348.1 L127.871 1348.1 Q131.32 1348.1 133.149 1346.74 Q134.978 1345.35 134.978 1342.76 Q134.978 1340.1 133.08 1338.68 Q131.205 1337.25 127.686 1337.25 Q125.765 1337.25 123.566 1337.66 Q121.367 1338.08 118.728 1338.96 L118.728 1334.79 Q121.39 1334.05 123.705 1333.68 Q126.043 1333.31 128.103 1333.31 Q133.427 1333.31 136.529 1335.74 Q139.63 1338.15 139.63 1342.27 Q139.63 1345.14 137.987 1347.13 Q136.343 1349.1 133.311 1349.86 Z\" fill=\"#000000\" fill-rule=\"evenodd\" fill-opacity=\"1\" /><path clip-path=\"url(#clip660)\" d=\"M 0 0 M145.556 1333.94 L163.913 1333.94 L163.913 1337.87 L149.839 1337.87 L149.839 1346.34 Q150.857 1346 151.876 1345.84 Q152.894 1345.65 153.913 1345.65 Q159.7 1345.65 163.079 1348.82 Q166.459 1351.99 166.459 1357.41 Q166.459 1362.99 162.987 1366.09 Q159.515 1369.17 153.195 1369.17 Q151.019 1369.17 148.751 1368.8 Q146.505 1368.43 144.098 1367.69 L144.098 1362.99 Q146.181 1364.12 148.403 1364.68 Q150.626 1365.23 153.103 1365.23 Q157.107 1365.23 159.445 1363.13 Q161.783 1361.02 161.783 1357.41 Q161.783 1353.8 159.445 1351.69 Q157.107 1349.59 153.103 1349.59 Q151.228 1349.59 149.353 1350 Q147.501 1350.42 145.556 1351.3 L145.556 1333.94 Z\" fill=\"#000000\" fill-rule=\"evenodd\" fill-opacity=\"1\" /><path clip-path=\"url(#clip660)\" d=\"M 0 0 M129.862 1111.42 L118.056 1129.87 L129.862 1129.87 L129.862 1111.42 M128.635 1107.35 L134.515 1107.35 L134.515 1129.87 L139.445 1129.87 L139.445 1133.76 L134.515 1133.76 L134.515 1141.91 L129.862 1141.91 L129.862 1133.76 L114.26 1133.76 L114.26 1129.25 L128.635 1107.35 Z\" fill=\"#000000\" fill-rule=\"evenodd\" fill-opacity=\"1\" /><path clip-path=\"url(#clip660)\" d=\"M 0 0 M154.515 1110.43 Q150.903 1110.43 149.075 1113.99 Q147.269 1117.53 147.269 1124.66 Q147.269 1131.77 149.075 1135.33 Q150.903 1138.88 154.515 1138.88 Q158.149 1138.88 159.954 1135.33 Q161.783 1131.77 161.783 1124.66 Q161.783 1117.53 159.954 1113.99 Q158.149 1110.43 154.515 1110.43 M154.515 1106.72 Q160.325 1106.72 163.38 1111.33 Q166.459 1115.91 166.459 1124.66 Q166.459 1133.39 163.38 1138 Q160.325 1142.58 154.515 1142.58 Q148.704 1142.58 145.626 1138 Q142.57 1133.39 142.57 1124.66 Q142.57 1115.91 145.626 1111.33 Q148.704 1106.72 154.515 1106.72 Z\" fill=\"#000000\" fill-rule=\"evenodd\" fill-opacity=\"1\" /><path clip-path=\"url(#clip660)\" d=\"M 0 0 M130.857 884.832 L119.052 903.281 L130.857 903.281 L130.857 884.832 M129.63 880.758 L135.51 880.758 L135.51 903.281 L140.441 903.281 L140.441 907.17 L135.51 907.17 L135.51 915.318 L130.857 915.318 L130.857 907.17 L115.256 907.17 L115.256 902.656 L129.63 880.758 Z\" fill=\"#000000\" fill-rule=\"evenodd\" fill-opacity=\"1\" /><path clip-path=\"url(#clip660)\" d=\"M 0 0 M145.556 880.758 L163.913 880.758 L163.913 884.693 L149.839 884.693 L149.839 893.165 Q150.857 892.818 151.876 892.656 Q152.894 892.471 153.913 892.471 Q159.7 892.471 163.079 895.642 Q166.459 898.813 166.459 904.23 Q166.459 909.809 162.987 912.91 Q159.515 915.989 153.195 915.989 Q151.019 915.989 148.751 915.619 Q146.505 915.248 144.098 914.508 L144.098 909.809 Q146.181 910.943 148.403 911.498 Q150.626 912.054 153.103 912.054 Q157.107 912.054 159.445 909.948 Q161.783 907.841 161.783 904.23 Q161.783 900.619 159.445 898.512 Q157.107 896.406 153.103 896.406 Q151.228 896.406 149.353 896.823 Q147.501 897.239 145.556 898.119 L145.556 880.758 Z\" fill=\"#000000\" fill-rule=\"evenodd\" fill-opacity=\"1\" /><path clip-path=\"url(#clip660)\" d=\"M 0 0 M118.543 654.168 L136.899 654.168 L136.899 658.103 L122.825 658.103 L122.825 666.575 Q123.843 666.228 124.862 666.066 Q125.88 665.881 126.899 665.881 Q132.686 665.881 136.066 669.052 Q139.445 672.223 139.445 677.64 Q139.445 683.219 135.973 686.321 Q132.501 689.399 126.181 689.399 Q124.005 689.399 121.737 689.029 Q119.492 688.659 117.084 687.918 L117.084 683.219 Q119.168 684.353 121.39 684.909 Q123.612 685.464 126.089 685.464 Q130.093 685.464 132.431 683.358 Q134.769 681.251 134.769 677.64 Q134.769 674.029 132.431 671.923 Q130.093 669.816 126.089 669.816 Q124.214 669.816 122.339 670.233 Q120.487 670.649 118.543 671.529 L118.543 654.168 Z\" fill=\"#000000\" fill-rule=\"evenodd\" fill-opacity=\"1\" /><path clip-path=\"url(#clip660)\" d=\"M 0 0 M154.515 657.247 Q150.903 657.247 149.075 660.811 Q147.269 664.353 147.269 671.483 Q147.269 678.589 149.075 682.154 Q150.903 685.696 154.515 685.696 Q158.149 685.696 159.954 682.154 Q161.783 678.589 161.783 671.483 Q161.783 664.353 159.954 660.811 Q158.149 657.247 154.515 657.247 M154.515 653.543 Q160.325 653.543 163.38 658.149 Q166.459 662.733 166.459 671.483 Q166.459 680.21 163.38 684.816 Q160.325 689.399 154.515 689.399 Q148.704 689.399 145.626 684.816 Q142.57 680.21 142.57 671.483 Q142.57 662.733 145.626 658.149 Q148.704 653.543 154.515 653.543 Z\" fill=\"#000000\" fill-rule=\"evenodd\" fill-opacity=\"1\" /><path clip-path=\"url(#clip660)\" d=\"M 0 0 M119.538 427.578 L137.894 427.578 L137.894 431.513 L123.82 431.513 L123.82 439.985 Q124.839 439.638 125.857 439.476 Q126.876 439.291 127.894 439.291 Q133.681 439.291 137.061 442.462 Q140.441 445.634 140.441 451.05 Q140.441 456.629 136.968 459.731 Q133.496 462.809 127.177 462.809 Q125.001 462.809 122.732 462.439 Q120.487 462.069 118.08 461.328 L118.08 456.629 Q120.163 457.763 122.385 458.319 Q124.607 458.874 127.084 458.874 Q131.089 458.874 133.427 456.768 Q135.765 454.661 135.765 451.05 Q135.765 447.439 133.427 445.333 Q131.089 443.226 127.084 443.226 Q125.209 443.226 123.334 443.643 Q121.482 444.059 119.538 444.939 L119.538 427.578 Z\" fill=\"#000000\" fill-rule=\"evenodd\" fill-opacity=\"1\" /><path clip-path=\"url(#clip660)\" d=\"M 0 0 M145.556 427.578 L163.913 427.578 L163.913 431.513 L149.839 431.513 L149.839 439.985 Q150.857 439.638 151.876 439.476 Q152.894 439.291 153.913 439.291 Q159.7 439.291 163.079 442.462 Q166.459 445.634 166.459 451.05 Q166.459 456.629 162.987 459.731 Q159.515 462.809 153.195 462.809 Q151.019 462.809 148.751 462.439 Q146.505 462.069 144.098 461.328 L144.098 456.629 Q146.181 457.763 148.403 458.319 Q150.626 458.874 153.103 458.874 Q157.107 458.874 159.445 456.768 Q161.783 454.661 161.783 451.05 Q161.783 447.439 159.445 445.333 Q157.107 443.226 153.103 443.226 Q151.228 443.226 149.353 443.643 Q147.501 444.059 145.556 444.939 L145.556 427.578 Z\" fill=\"#000000\" fill-rule=\"evenodd\" fill-opacity=\"1\" /><path clip-path=\"url(#clip660)\" d=\"M 0 0 M127.917 216.405 Q124.769 216.405 122.918 218.558 Q121.089 220.71 121.089 224.46 Q121.089 228.187 122.918 230.363 Q124.769 232.516 127.917 232.516 Q131.066 232.516 132.894 230.363 Q134.746 228.187 134.746 224.46 Q134.746 220.71 132.894 218.558 Q131.066 216.405 127.917 216.405 M137.2 201.752 L137.2 206.011 Q135.441 205.178 133.635 204.738 Q131.853 204.298 130.093 204.298 Q125.464 204.298 123.01 207.423 Q120.58 210.548 120.232 216.868 Q121.598 214.854 123.658 213.789 Q125.718 212.701 128.195 212.701 Q133.404 212.701 136.413 215.872 Q139.445 219.021 139.445 224.46 Q139.445 229.784 136.297 233.002 Q133.149 236.22 127.917 236.22 Q121.922 236.22 118.751 231.636 Q115.58 227.03 115.58 218.303 Q115.58 210.109 119.468 205.247 Q123.357 200.363 129.908 200.363 Q131.667 200.363 133.45 200.71 Q135.255 201.058 137.2 201.752 Z\" fill=\"#000000\" fill-rule=\"evenodd\" fill-opacity=\"1\" /><path clip-path=\"url(#clip660)\" d=\"M 0 0 M154.515 204.067 Q150.903 204.067 149.075 207.632 Q147.269 211.173 147.269 218.303 Q147.269 225.409 149.075 228.974 Q150.903 232.516 154.515 232.516 Q158.149 232.516 159.954 228.974 Q161.783 225.409 161.783 218.303 Q161.783 211.173 159.954 207.632 Q158.149 204.067 154.515 204.067 M154.515 200.363 Q160.325 200.363 163.38 204.97 Q166.459 209.553 166.459 218.303 Q166.459 227.03 163.38 231.636 Q160.325 236.22 154.515 236.22 Q148.704 236.22 145.626 231.636 Q142.57 227.03 142.57 218.303 Q142.57 209.553 145.626 204.97 Q148.704 200.363 154.515 200.363 Z\" fill=\"#000000\" fill-rule=\"evenodd\" fill-opacity=\"1\" /><path clip-path=\"url(#clip660)\" d=\"M 0 0 M65.4059 780.599 L65.4059 800.874 Q74.9226 800.397 78.9649 798.201 Q83.9301 795.463 83.9301 790.721 Q83.9301 785.947 78.933 783.305 Q74.5407 780.981 65.4059 780.599 M59.995 780.695 Q50.9557 781.586 47.7729 783.305 Q42.744 786.042 42.744 790.721 Q42.744 795.591 47.7092 798.169 Q51.7196 800.206 59.995 800.811 L59.995 780.695 M37.9697 790.721 Q37.9697 783.082 44.7174 778.722 Q51.4332 774.361 63.337 774.361 Q75.2091 774.361 81.9567 778.722 Q88.7362 783.082 88.7362 790.721 Q88.7362 798.392 81.9567 802.72 Q75.2091 807.081 63.337 807.081 Q51.4332 807.081 44.7174 802.72 Q37.9697 798.392 37.9697 790.721 Z\" fill=\"#000000\" fill-rule=\"evenodd\" fill-opacity=\"1\" /><path clip-path=\"url(#clip660)\" d=\"M 0 0 M66.4562 756.219 Q63.719 757.81 63.719 761.025 Q63.719 764.24 66.4562 765.831 Q69.1935 767.454 74.668 767.454 Q80.1743 767.454 82.9116 765.831 Q85.6488 764.24 85.6488 761.025 Q85.6488 757.81 82.9116 756.219 Q80.1743 754.596 74.668 754.596 Q69.1935 754.596 66.4562 756.219 M60.8862 761.025 Q60.8862 755.901 64.4192 753.195 Q67.9522 750.49 74.668 750.49 Q81.4157 750.49 84.9486 753.195 Q88.4816 755.901 88.4816 761.025 Q88.4816 766.181 84.9486 768.887 Q81.4157 771.592 74.668 771.592 Q67.9522 771.592 64.4192 768.887 Q60.8862 766.181 60.8862 761.025 Z\" fill=\"#000000\" fill-rule=\"evenodd\" fill-opacity=\"1\" /><path clip-path=\"url(#clip660)\" d=\"M 0 0 M38.5426 709.558 Q45.8632 713.823 53.0246 715.892 Q60.186 717.961 67.5384 717.961 Q74.8908 717.961 82.1159 715.892 Q89.3091 713.791 96.5979 709.558 L96.5979 714.651 Q89.1182 719.425 81.8931 721.812 Q74.668 724.167 67.5384 724.167 Q60.4406 724.167 53.2474 721.812 Q46.0542 719.457 38.5426 714.651 L38.5426 709.558 Z\" fill=\"#000000\" fill-rule=\"evenodd\" fill-opacity=\"1\" /><path clip-path=\"url(#clip660)\" d=\"M 0 0 M43.7307 693.262 Q43.7307 695.808 45.5131 697.559 Q47.2636 699.309 49.8099 699.309 Q52.3244 699.309 54.0749 697.559 Q55.7937 695.808 55.7937 693.262 Q55.7937 690.716 54.0749 688.965 Q52.3244 687.215 49.8099 687.215 Q47.2955 687.215 45.5131 688.997 Q43.7307 690.748 43.7307 693.262 M39.6248 693.262 Q39.6248 691.225 40.4205 689.347 Q41.1844 687.469 42.6485 686.101 Q44.0808 684.636 45.895 683.904 Q47.7092 683.172 49.8099 683.172 Q54.0113 683.172 56.9395 686.132 Q59.8359 689.061 59.8359 693.326 Q59.8359 697.622 56.9713 700.487 Q54.1068 703.352 49.8099 703.352 Q45.5449 703.352 42.5848 700.423 Q39.6248 697.495 39.6248 693.262 Z\" fill=\"#000000\" fill-rule=\"evenodd\" fill-opacity=\"1\" /><path clip-path=\"url(#clip660)\" d=\"M 0 0 M38.5426 677.952 L38.5426 672.86 Q46.0542 668.086 53.2474 665.73 Q60.4406 663.343 67.5384 663.343 Q74.668 663.343 81.8931 665.73 Q89.1182 668.086 96.5979 672.86 L96.5979 677.952 Q89.3091 673.719 82.1159 671.65 Q74.8908 669.55 67.5384 669.55 Q60.186 669.55 53.0246 671.65 Q45.8632 673.719 38.5426 677.952 Z\" fill=\"#000000\" fill-rule=\"evenodd\" fill-opacity=\"1\" /><circle clip-path=\"url(#clip662)\" cx=\"2230.43\" cy=\"1384.24\" r=\"7\" fill=\"#009af9\" fill-rule=\"evenodd\" fill-opacity=\"1\" stroke=\"#000000\" stroke-opacity=\"1\" stroke-width=\"3.2\"/>\n",
       "<circle clip-path=\"url(#clip662)\" cx=\"2291.9\" cy=\"1384.24\" r=\"7\" fill=\"#009af9\" fill-rule=\"evenodd\" fill-opacity=\"1\" stroke=\"#000000\" stroke-opacity=\"1\" stroke-width=\"3.2\"/>\n",
       "<circle clip-path=\"url(#clip662)\" cx=\"2230.43\" cy=\"1372.85\" r=\"7\" fill=\"#009af9\" fill-rule=\"evenodd\" fill-opacity=\"1\" stroke=\"#000000\" stroke-opacity=\"1\" stroke-width=\"3.2\"/>\n",
       "<circle clip-path=\"url(#clip662)\" cx=\"2291.9\" cy=\"1372.85\" r=\"7\" fill=\"#009af9\" fill-rule=\"evenodd\" fill-opacity=\"1\" stroke=\"#000000\" stroke-opacity=\"1\" stroke-width=\"3.2\"/>\n",
       "<circle clip-path=\"url(#clip662)\" cx=\"2046.01\" cy=\"1361.47\" r=\"7\" fill=\"#009af9\" fill-rule=\"evenodd\" fill-opacity=\"1\" stroke=\"#000000\" stroke-opacity=\"1\" stroke-width=\"3.2\"/>\n",
       "<circle clip-path=\"url(#clip662)\" cx=\"2107.48\" cy=\"1361.47\" r=\"7\" fill=\"#009af9\" fill-rule=\"evenodd\" fill-opacity=\"1\" stroke=\"#000000\" stroke-opacity=\"1\" stroke-width=\"3.2\"/>\n",
       "<circle clip-path=\"url(#clip662)\" cx=\"2168.95\" cy=\"1361.47\" r=\"7\" fill=\"#009af9\" fill-rule=\"evenodd\" fill-opacity=\"1\" stroke=\"#000000\" stroke-opacity=\"1\" stroke-width=\"3.2\"/>\n",
       "<circle clip-path=\"url(#clip662)\" cx=\"1984.54\" cy=\"1350.08\" r=\"7\" fill=\"#009af9\" fill-rule=\"evenodd\" fill-opacity=\"1\" stroke=\"#000000\" stroke-opacity=\"1\" stroke-width=\"3.2\"/>\n",
       "<circle clip-path=\"url(#clip662)\" cx=\"2046.01\" cy=\"1350.08\" r=\"7\" fill=\"#009af9\" fill-rule=\"evenodd\" fill-opacity=\"1\" stroke=\"#000000\" stroke-opacity=\"1\" stroke-width=\"3.2\"/>\n",
       "<circle clip-path=\"url(#clip662)\" cx=\"2230.43\" cy=\"1350.08\" r=\"7\" fill=\"#009af9\" fill-rule=\"evenodd\" fill-opacity=\"1\" stroke=\"#000000\" stroke-opacity=\"1\" stroke-width=\"3.2\"/>\n",
       "<circle clip-path=\"url(#clip662)\" cx=\"1923.07\" cy=\"1327.31\" r=\"7\" fill=\"#009af9\" fill-rule=\"evenodd\" fill-opacity=\"1\" stroke=\"#000000\" stroke-opacity=\"1\" stroke-width=\"3.2\"/>\n",
       "<circle clip-path=\"url(#clip662)\" cx=\"1800.12\" cy=\"1315.92\" r=\"7\" fill=\"#009af9\" fill-rule=\"evenodd\" fill-opacity=\"1\" stroke=\"#000000\" stroke-opacity=\"1\" stroke-width=\"3.2\"/>\n",
       "<circle clip-path=\"url(#clip662)\" cx=\"1984.54\" cy=\"1315.92\" r=\"7\" fill=\"#009af9\" fill-rule=\"evenodd\" fill-opacity=\"1\" stroke=\"#000000\" stroke-opacity=\"1\" stroke-width=\"3.2\"/>\n",
       "<circle clip-path=\"url(#clip662)\" cx=\"2046.01\" cy=\"1315.92\" r=\"7\" fill=\"#009af9\" fill-rule=\"evenodd\" fill-opacity=\"1\" stroke=\"#000000\" stroke-opacity=\"1\" stroke-width=\"3.2\"/>\n",
       "<circle clip-path=\"url(#clip662)\" cx=\"1861.59\" cy=\"1304.53\" r=\"7\" fill=\"#009af9\" fill-rule=\"evenodd\" fill-opacity=\"1\" stroke=\"#000000\" stroke-opacity=\"1\" stroke-width=\"3.2\"/>\n",
       "<circle clip-path=\"url(#clip662)\" cx=\"1923.07\" cy=\"1304.53\" r=\"7\" fill=\"#009af9\" fill-rule=\"evenodd\" fill-opacity=\"1\" stroke=\"#000000\" stroke-opacity=\"1\" stroke-width=\"3.2\"/>\n",
       "<circle clip-path=\"url(#clip662)\" cx=\"1738.65\" cy=\"1293.15\" r=\"7\" fill=\"#009af9\" fill-rule=\"evenodd\" fill-opacity=\"1\" stroke=\"#000000\" stroke-opacity=\"1\" stroke-width=\"3.2\"/>\n",
       "<circle clip-path=\"url(#clip662)\" cx=\"1800.12\" cy=\"1293.15\" r=\"7\" fill=\"#009af9\" fill-rule=\"evenodd\" fill-opacity=\"1\" stroke=\"#000000\" stroke-opacity=\"1\" stroke-width=\"3.2\"/>\n",
       "<circle clip-path=\"url(#clip662)\" cx=\"1615.7\" cy=\"1281.76\" r=\"7\" fill=\"#009af9\" fill-rule=\"evenodd\" fill-opacity=\"1\" stroke=\"#000000\" stroke-opacity=\"1\" stroke-width=\"3.2\"/>\n",
       "<circle clip-path=\"url(#clip662)\" cx=\"1677.18\" cy=\"1281.76\" r=\"7\" fill=\"#009af9\" fill-rule=\"evenodd\" fill-opacity=\"1\" stroke=\"#000000\" stroke-opacity=\"1\" stroke-width=\"3.2\"/>\n",
       "<circle clip-path=\"url(#clip662)\" cx=\"1738.65\" cy=\"1281.76\" r=\"7\" fill=\"#009af9\" fill-rule=\"evenodd\" fill-opacity=\"1\" stroke=\"#000000\" stroke-opacity=\"1\" stroke-width=\"3.2\"/>\n",
       "<circle clip-path=\"url(#clip662)\" cx=\"1800.12\" cy=\"1281.76\" r=\"7\" fill=\"#009af9\" fill-rule=\"evenodd\" fill-opacity=\"1\" stroke=\"#000000\" stroke-opacity=\"1\" stroke-width=\"3.2\"/>\n",
       "<circle clip-path=\"url(#clip662)\" cx=\"1861.59\" cy=\"1281.76\" r=\"7\" fill=\"#009af9\" fill-rule=\"evenodd\" fill-opacity=\"1\" stroke=\"#000000\" stroke-opacity=\"1\" stroke-width=\"3.2\"/>\n",
       "<circle clip-path=\"url(#clip662)\" cx=\"1615.7\" cy=\"1270.37\" r=\"7\" fill=\"#009af9\" fill-rule=\"evenodd\" fill-opacity=\"1\" stroke=\"#000000\" stroke-opacity=\"1\" stroke-width=\"3.2\"/>\n",
       "<circle clip-path=\"url(#clip662)\" cx=\"1677.18\" cy=\"1270.37\" r=\"7\" fill=\"#009af9\" fill-rule=\"evenodd\" fill-opacity=\"1\" stroke=\"#000000\" stroke-opacity=\"1\" stroke-width=\"3.2\"/>\n",
       "<circle clip-path=\"url(#clip662)\" cx=\"1738.65\" cy=\"1270.37\" r=\"7\" fill=\"#009af9\" fill-rule=\"evenodd\" fill-opacity=\"1\" stroke=\"#000000\" stroke-opacity=\"1\" stroke-width=\"3.2\"/>\n",
       "<circle clip-path=\"url(#clip662)\" cx=\"1492.76\" cy=\"1258.99\" r=\"7\" fill=\"#009af9\" fill-rule=\"evenodd\" fill-opacity=\"1\" stroke=\"#000000\" stroke-opacity=\"1\" stroke-width=\"3.2\"/>\n",
       "<circle clip-path=\"url(#clip662)\" cx=\"1554.23\" cy=\"1258.99\" r=\"7\" fill=\"#009af9\" fill-rule=\"evenodd\" fill-opacity=\"1\" stroke=\"#000000\" stroke-opacity=\"1\" stroke-width=\"3.2\"/>\n",
       "<circle clip-path=\"url(#clip662)\" cx=\"1615.7\" cy=\"1258.99\" r=\"7\" fill=\"#009af9\" fill-rule=\"evenodd\" fill-opacity=\"1\" stroke=\"#000000\" stroke-opacity=\"1\" stroke-width=\"3.2\"/>\n",
       "<circle clip-path=\"url(#clip662)\" cx=\"1431.29\" cy=\"1247.6\" r=\"7\" fill=\"#009af9\" fill-rule=\"evenodd\" fill-opacity=\"1\" stroke=\"#000000\" stroke-opacity=\"1\" stroke-width=\"3.2\"/>\n",
       "<circle clip-path=\"url(#clip662)\" cx=\"1492.76\" cy=\"1247.6\" r=\"7\" fill=\"#009af9\" fill-rule=\"evenodd\" fill-opacity=\"1\" stroke=\"#000000\" stroke-opacity=\"1\" stroke-width=\"3.2\"/>\n",
       "<circle clip-path=\"url(#clip662)\" cx=\"1615.7\" cy=\"1247.6\" r=\"7\" fill=\"#009af9\" fill-rule=\"evenodd\" fill-opacity=\"1\" stroke=\"#000000\" stroke-opacity=\"1\" stroke-width=\"3.2\"/>\n",
       "<circle clip-path=\"url(#clip662)\" cx=\"1677.18\" cy=\"1247.6\" r=\"7\" fill=\"#009af9\" fill-rule=\"evenodd\" fill-opacity=\"1\" stroke=\"#000000\" stroke-opacity=\"1\" stroke-width=\"3.2\"/>\n",
       "<circle clip-path=\"url(#clip662)\" cx=\"1492.76\" cy=\"1236.21\" r=\"7\" fill=\"#009af9\" fill-rule=\"evenodd\" fill-opacity=\"1\" stroke=\"#000000\" stroke-opacity=\"1\" stroke-width=\"3.2\"/>\n",
       "<circle clip-path=\"url(#clip662)\" cx=\"1554.23\" cy=\"1236.21\" r=\"7\" fill=\"#009af9\" fill-rule=\"evenodd\" fill-opacity=\"1\" stroke=\"#000000\" stroke-opacity=\"1\" stroke-width=\"3.2\"/>\n",
       "<circle clip-path=\"url(#clip662)\" cx=\"1369.82\" cy=\"1224.83\" r=\"7\" fill=\"#009af9\" fill-rule=\"evenodd\" fill-opacity=\"1\" stroke=\"#000000\" stroke-opacity=\"1\" stroke-width=\"3.2\"/>\n",
       "<circle clip-path=\"url(#clip662)\" cx=\"1246.87\" cy=\"1213.44\" r=\"7\" fill=\"#009af9\" fill-rule=\"evenodd\" fill-opacity=\"1\" stroke=\"#000000\" stroke-opacity=\"1\" stroke-width=\"3.2\"/>\n",
       "<circle clip-path=\"url(#clip662)\" cx=\"1492.76\" cy=\"1213.44\" r=\"7\" fill=\"#009af9\" fill-rule=\"evenodd\" fill-opacity=\"1\" stroke=\"#000000\" stroke-opacity=\"1\" stroke-width=\"3.2\"/>\n",
       "<circle clip-path=\"url(#clip662)\" cx=\"1369.82\" cy=\"1202.06\" r=\"7\" fill=\"#009af9\" fill-rule=\"evenodd\" fill-opacity=\"1\" stroke=\"#000000\" stroke-opacity=\"1\" stroke-width=\"3.2\"/>\n",
       "<circle clip-path=\"url(#clip662)\" cx=\"1246.87\" cy=\"1190.67\" r=\"7\" fill=\"#009af9\" fill-rule=\"evenodd\" fill-opacity=\"1\" stroke=\"#000000\" stroke-opacity=\"1\" stroke-width=\"3.2\"/>\n",
       "<circle clip-path=\"url(#clip662)\" cx=\"1123.93\" cy=\"1179.28\" r=\"7\" fill=\"#009af9\" fill-rule=\"evenodd\" fill-opacity=\"1\" stroke=\"#000000\" stroke-opacity=\"1\" stroke-width=\"3.2\"/>\n",
       "<circle clip-path=\"url(#clip662)\" cx=\"1308.34\" cy=\"1179.28\" r=\"7\" fill=\"#009af9\" fill-rule=\"evenodd\" fill-opacity=\"1\" stroke=\"#000000\" stroke-opacity=\"1\" stroke-width=\"3.2\"/>\n",
       "<circle clip-path=\"url(#clip662)\" cx=\"1369.82\" cy=\"1179.28\" r=\"7\" fill=\"#009af9\" fill-rule=\"evenodd\" fill-opacity=\"1\" stroke=\"#000000\" stroke-opacity=\"1\" stroke-width=\"3.2\"/>\n",
       "<circle clip-path=\"url(#clip662)\" cx=\"1185.4\" cy=\"1167.9\" r=\"7\" fill=\"#009af9\" fill-rule=\"evenodd\" fill-opacity=\"1\" stroke=\"#000000\" stroke-opacity=\"1\" stroke-width=\"3.2\"/>\n",
       "<circle clip-path=\"url(#clip662)\" cx=\"1246.87\" cy=\"1167.9\" r=\"7\" fill=\"#009af9\" fill-rule=\"evenodd\" fill-opacity=\"1\" stroke=\"#000000\" stroke-opacity=\"1\" stroke-width=\"3.2\"/>\n",
       "<circle clip-path=\"url(#clip662)\" cx=\"1308.34\" cy=\"1167.9\" r=\"7\" fill=\"#009af9\" fill-rule=\"evenodd\" fill-opacity=\"1\" stroke=\"#000000\" stroke-opacity=\"1\" stroke-width=\"3.2\"/>\n",
       "<circle clip-path=\"url(#clip662)\" cx=\"1062.45\" cy=\"1156.51\" r=\"7\" fill=\"#009af9\" fill-rule=\"evenodd\" fill-opacity=\"1\" stroke=\"#000000\" stroke-opacity=\"1\" stroke-width=\"3.2\"/>\n",
       "<circle clip-path=\"url(#clip662)\" cx=\"1123.93\" cy=\"1156.51\" r=\"7\" fill=\"#009af9\" fill-rule=\"evenodd\" fill-opacity=\"1\" stroke=\"#000000\" stroke-opacity=\"1\" stroke-width=\"3.2\"/>\n",
       "<circle clip-path=\"url(#clip662)\" cx=\"1185.4\" cy=\"1156.51\" r=\"7\" fill=\"#009af9\" fill-rule=\"evenodd\" fill-opacity=\"1\" stroke=\"#000000\" stroke-opacity=\"1\" stroke-width=\"3.2\"/>\n",
       "<circle clip-path=\"url(#clip662)\" cx=\"1000.98\" cy=\"1145.12\" r=\"7\" fill=\"#009af9\" fill-rule=\"evenodd\" fill-opacity=\"1\" stroke=\"#000000\" stroke-opacity=\"1\" stroke-width=\"3.2\"/>\n",
       "<circle clip-path=\"url(#clip662)\" cx=\"1062.45\" cy=\"1145.12\" r=\"7\" fill=\"#009af9\" fill-rule=\"evenodd\" fill-opacity=\"1\" stroke=\"#000000\" stroke-opacity=\"1\" stroke-width=\"3.2\"/>\n",
       "<circle clip-path=\"url(#clip662)\" cx=\"1123.93\" cy=\"1145.12\" r=\"7\" fill=\"#009af9\" fill-rule=\"evenodd\" fill-opacity=\"1\" stroke=\"#000000\" stroke-opacity=\"1\" stroke-width=\"3.2\"/>\n",
       "<circle clip-path=\"url(#clip662)\" cx=\"1185.4\" cy=\"1145.12\" r=\"7\" fill=\"#009af9\" fill-rule=\"evenodd\" fill-opacity=\"1\" stroke=\"#000000\" stroke-opacity=\"1\" stroke-width=\"3.2\"/>\n",
       "<circle clip-path=\"url(#clip662)\" cx=\"1246.87\" cy=\"1145.12\" r=\"7\" fill=\"#009af9\" fill-rule=\"evenodd\" fill-opacity=\"1\" stroke=\"#000000\" stroke-opacity=\"1\" stroke-width=\"3.2\"/>\n",
       "<circle clip-path=\"url(#clip662)\" cx=\"1000.98\" cy=\"1133.74\" r=\"7\" fill=\"#009af9\" fill-rule=\"evenodd\" fill-opacity=\"1\" stroke=\"#000000\" stroke-opacity=\"1\" stroke-width=\"3.2\"/>\n",
       "<circle clip-path=\"url(#clip662)\" cx=\"1062.45\" cy=\"1133.74\" r=\"7\" fill=\"#009af9\" fill-rule=\"evenodd\" fill-opacity=\"1\" stroke=\"#000000\" stroke-opacity=\"1\" stroke-width=\"3.2\"/>\n",
       "<circle clip-path=\"url(#clip662)\" cx=\"1123.93\" cy=\"1133.74\" r=\"7\" fill=\"#009af9\" fill-rule=\"evenodd\" fill-opacity=\"1\" stroke=\"#000000\" stroke-opacity=\"1\" stroke-width=\"3.2\"/>\n",
       "<circle clip-path=\"url(#clip662)\" cx=\"939.51\" cy=\"1122.35\" r=\"7\" fill=\"#009af9\" fill-rule=\"evenodd\" fill-opacity=\"1\" stroke=\"#000000\" stroke-opacity=\"1\" stroke-width=\"3.2\"/>\n",
       "<circle clip-path=\"url(#clip662)\" cx=\"1000.98\" cy=\"1122.35\" r=\"7\" fill=\"#009af9\" fill-rule=\"evenodd\" fill-opacity=\"1\" stroke=\"#000000\" stroke-opacity=\"1\" stroke-width=\"3.2\"/>\n",
       "<circle clip-path=\"url(#clip662)\" cx=\"878.038\" cy=\"1110.96\" r=\"7\" fill=\"#009af9\" fill-rule=\"evenodd\" fill-opacity=\"1\" stroke=\"#000000\" stroke-opacity=\"1\" stroke-width=\"3.2\"/>\n",
       "<circle clip-path=\"url(#clip662)\" cx=\"755.094\" cy=\"1076.8\" r=\"7\" fill=\"#009af9\" fill-rule=\"evenodd\" fill-opacity=\"1\" stroke=\"#000000\" stroke-opacity=\"1\" stroke-width=\"3.2\"/>\n",
       "<circle clip-path=\"url(#clip662)\" cx=\"1000.98\" cy=\"1076.8\" r=\"7\" fill=\"#009af9\" fill-rule=\"evenodd\" fill-opacity=\"1\" stroke=\"#000000\" stroke-opacity=\"1\" stroke-width=\"3.2\"/>\n",
       "<circle clip-path=\"url(#clip662)\" cx=\"878.038\" cy=\"1065.42\" r=\"7\" fill=\"#009af9\" fill-rule=\"evenodd\" fill-opacity=\"1\" stroke=\"#000000\" stroke-opacity=\"1\" stroke-width=\"3.2\"/>\n",
       "<circle clip-path=\"url(#clip662)\" cx=\"755.094\" cy=\"1054.03\" r=\"7\" fill=\"#009af9\" fill-rule=\"evenodd\" fill-opacity=\"1\" stroke=\"#000000\" stroke-opacity=\"1\" stroke-width=\"3.2\"/>\n",
       "<circle clip-path=\"url(#clip662)\" cx=\"693.622\" cy=\"1042.65\" r=\"7\" fill=\"#009af9\" fill-rule=\"evenodd\" fill-opacity=\"1\" stroke=\"#000000\" stroke-opacity=\"1\" stroke-width=\"3.2\"/>\n",
       "<circle clip-path=\"url(#clip662)\" cx=\"816.566\" cy=\"1042.65\" r=\"7\" fill=\"#009af9\" fill-rule=\"evenodd\" fill-opacity=\"1\" stroke=\"#000000\" stroke-opacity=\"1\" stroke-width=\"3.2\"/>\n",
       "<circle clip-path=\"url(#clip662)\" cx=\"878.038\" cy=\"1042.65\" r=\"7\" fill=\"#009af9\" fill-rule=\"evenodd\" fill-opacity=\"1\" stroke=\"#000000\" stroke-opacity=\"1\" stroke-width=\"3.2\"/>\n",
       "<circle clip-path=\"url(#clip662)\" cx=\"939.51\" cy=\"1042.65\" r=\"7\" fill=\"#009af9\" fill-rule=\"evenodd\" fill-opacity=\"1\" stroke=\"#000000\" stroke-opacity=\"1\" stroke-width=\"3.2\"/>\n",
       "<circle clip-path=\"url(#clip662)\" cx=\"693.622\" cy=\"1031.26\" r=\"7\" fill=\"#009af9\" fill-rule=\"evenodd\" fill-opacity=\"1\" stroke=\"#000000\" stroke-opacity=\"1\" stroke-width=\"3.2\"/>\n",
       "<circle clip-path=\"url(#clip662)\" cx=\"755.094\" cy=\"1031.26\" r=\"7\" fill=\"#009af9\" fill-rule=\"evenodd\" fill-opacity=\"1\" stroke=\"#000000\" stroke-opacity=\"1\" stroke-width=\"3.2\"/>\n",
       "<circle clip-path=\"url(#clip662)\" cx=\"816.566\" cy=\"1031.26\" r=\"7\" fill=\"#009af9\" fill-rule=\"evenodd\" fill-opacity=\"1\" stroke=\"#000000\" stroke-opacity=\"1\" stroke-width=\"3.2\"/>\n",
       "<circle clip-path=\"url(#clip662)\" cx=\"632.15\" cy=\"1019.87\" r=\"7\" fill=\"#009af9\" fill-rule=\"evenodd\" fill-opacity=\"1\" stroke=\"#000000\" stroke-opacity=\"1\" stroke-width=\"3.2\"/>\n",
       "<circle clip-path=\"url(#clip662)\" cx=\"693.622\" cy=\"1019.87\" r=\"7\" fill=\"#009af9\" fill-rule=\"evenodd\" fill-opacity=\"1\" stroke=\"#000000\" stroke-opacity=\"1\" stroke-width=\"3.2\"/>\n",
       "<circle clip-path=\"url(#clip662)\" cx=\"755.094\" cy=\"1019.87\" r=\"7\" fill=\"#009af9\" fill-rule=\"evenodd\" fill-opacity=\"1\" stroke=\"#000000\" stroke-opacity=\"1\" stroke-width=\"3.2\"/>\n",
       "<circle clip-path=\"url(#clip662)\" cx=\"816.566\" cy=\"1019.87\" r=\"7\" fill=\"#009af9\" fill-rule=\"evenodd\" fill-opacity=\"1\" stroke=\"#000000\" stroke-opacity=\"1\" stroke-width=\"3.2\"/>\n",
       "<circle clip-path=\"url(#clip662)\" cx=\"632.15\" cy=\"1008.49\" r=\"7\" fill=\"#009af9\" fill-rule=\"evenodd\" fill-opacity=\"1\" stroke=\"#000000\" stroke-opacity=\"1\" stroke-width=\"3.2\"/>\n",
       "<circle clip-path=\"url(#clip662)\" cx=\"693.622\" cy=\"1008.49\" r=\"7\" fill=\"#009af9\" fill-rule=\"evenodd\" fill-opacity=\"1\" stroke=\"#000000\" stroke-opacity=\"1\" stroke-width=\"3.2\"/>\n",
       "<circle clip-path=\"url(#clip662)\" cx=\"755.094\" cy=\"1008.49\" r=\"7\" fill=\"#009af9\" fill-rule=\"evenodd\" fill-opacity=\"1\" stroke=\"#000000\" stroke-opacity=\"1\" stroke-width=\"3.2\"/>\n",
       "<circle clip-path=\"url(#clip662)\" cx=\"816.566\" cy=\"1008.49\" r=\"7\" fill=\"#009af9\" fill-rule=\"evenodd\" fill-opacity=\"1\" stroke=\"#000000\" stroke-opacity=\"1\" stroke-width=\"3.2\"/>\n",
       "<circle clip-path=\"url(#clip662)\" cx=\"632.15\" cy=\"997.1\" r=\"7\" fill=\"#009af9\" fill-rule=\"evenodd\" fill-opacity=\"1\" stroke=\"#000000\" stroke-opacity=\"1\" stroke-width=\"3.2\"/>\n",
       "<circle clip-path=\"url(#clip662)\" cx=\"693.622\" cy=\"997.1\" r=\"7\" fill=\"#009af9\" fill-rule=\"evenodd\" fill-opacity=\"1\" stroke=\"#000000\" stroke-opacity=\"1\" stroke-width=\"3.2\"/>\n",
       "<circle clip-path=\"url(#clip662)\" cx=\"509.205\" cy=\"985.713\" r=\"7\" fill=\"#009af9\" fill-rule=\"evenodd\" fill-opacity=\"1\" stroke=\"#000000\" stroke-opacity=\"1\" stroke-width=\"3.2\"/>\n",
       "<circle clip-path=\"url(#clip662)\" cx=\"570.677\" cy=\"985.713\" r=\"7\" fill=\"#009af9\" fill-rule=\"evenodd\" fill-opacity=\"1\" stroke=\"#000000\" stroke-opacity=\"1\" stroke-width=\"3.2\"/>\n",
       "<circle clip-path=\"url(#clip662)\" cx=\"632.15\" cy=\"985.713\" r=\"7\" fill=\"#009af9\" fill-rule=\"evenodd\" fill-opacity=\"1\" stroke=\"#000000\" stroke-opacity=\"1\" stroke-width=\"3.2\"/>\n",
       "<circle clip-path=\"url(#clip662)\" cx=\"755.094\" cy=\"985.713\" r=\"7\" fill=\"#009af9\" fill-rule=\"evenodd\" fill-opacity=\"1\" stroke=\"#000000\" stroke-opacity=\"1\" stroke-width=\"3.2\"/>\n",
       "<circle clip-path=\"url(#clip662)\" cx=\"693.622\" cy=\"974.327\" r=\"7\" fill=\"#009af9\" fill-rule=\"evenodd\" fill-opacity=\"1\" stroke=\"#000000\" stroke-opacity=\"1\" stroke-width=\"3.2\"/>\n",
       "<circle clip-path=\"url(#clip662)\" cx=\"570.677\" cy=\"962.94\" r=\"7\" fill=\"#009af9\" fill-rule=\"evenodd\" fill-opacity=\"1\" stroke=\"#000000\" stroke-opacity=\"1\" stroke-width=\"3.2\"/>\n",
       "<circle clip-path=\"url(#clip662)\" cx=\"509.205\" cy=\"951.554\" r=\"7\" fill=\"#009af9\" fill-rule=\"evenodd\" fill-opacity=\"1\" stroke=\"#000000\" stroke-opacity=\"1\" stroke-width=\"3.2\"/>\n",
       "<circle clip-path=\"url(#clip662)\" cx=\"693.622\" cy=\"951.554\" r=\"7\" fill=\"#009af9\" fill-rule=\"evenodd\" fill-opacity=\"1\" stroke=\"#000000\" stroke-opacity=\"1\" stroke-width=\"3.2\"/>\n",
       "<circle clip-path=\"url(#clip662)\" cx=\"632.15\" cy=\"940.168\" r=\"7\" fill=\"#009af9\" fill-rule=\"evenodd\" fill-opacity=\"1\" stroke=\"#000000\" stroke-opacity=\"1\" stroke-width=\"3.2\"/>\n",
       "<circle clip-path=\"url(#clip662)\" cx=\"509.205\" cy=\"928.781\" r=\"7\" fill=\"#009af9\" fill-rule=\"evenodd\" fill-opacity=\"1\" stroke=\"#000000\" stroke-opacity=\"1\" stroke-width=\"3.2\"/>\n",
       "<circle clip-path=\"url(#clip662)\" cx=\"632.15\" cy=\"917.395\" r=\"7\" fill=\"#009af9\" fill-rule=\"evenodd\" fill-opacity=\"1\" stroke=\"#000000\" stroke-opacity=\"1\" stroke-width=\"3.2\"/>\n",
       "<circle clip-path=\"url(#clip662)\" cx=\"693.622\" cy=\"917.395\" r=\"7\" fill=\"#009af9\" fill-rule=\"evenodd\" fill-opacity=\"1\" stroke=\"#000000\" stroke-opacity=\"1\" stroke-width=\"3.2\"/>\n",
       "<circle clip-path=\"url(#clip662)\" cx=\"509.205\" cy=\"906.008\" r=\"7\" fill=\"#009af9\" fill-rule=\"evenodd\" fill-opacity=\"1\" stroke=\"#000000\" stroke-opacity=\"1\" stroke-width=\"3.2\"/>\n",
       "<circle clip-path=\"url(#clip662)\" cx=\"570.677\" cy=\"906.008\" r=\"7\" fill=\"#009af9\" fill-rule=\"evenodd\" fill-opacity=\"1\" stroke=\"#000000\" stroke-opacity=\"1\" stroke-width=\"3.2\"/>\n",
       "<circle clip-path=\"url(#clip662)\" cx=\"447.733\" cy=\"894.622\" r=\"7\" fill=\"#009af9\" fill-rule=\"evenodd\" fill-opacity=\"1\" stroke=\"#000000\" stroke-opacity=\"1\" stroke-width=\"3.2\"/>\n",
       "<circle clip-path=\"url(#clip662)\" cx=\"509.205\" cy=\"894.622\" r=\"7\" fill=\"#009af9\" fill-rule=\"evenodd\" fill-opacity=\"1\" stroke=\"#000000\" stroke-opacity=\"1\" stroke-width=\"3.2\"/>\n",
       "<circle clip-path=\"url(#clip662)\" cx=\"570.677\" cy=\"894.622\" r=\"7\" fill=\"#009af9\" fill-rule=\"evenodd\" fill-opacity=\"1\" stroke=\"#000000\" stroke-opacity=\"1\" stroke-width=\"3.2\"/>\n",
       "<circle clip-path=\"url(#clip662)\" cx=\"324.789\" cy=\"883.236\" r=\"7\" fill=\"#009af9\" fill-rule=\"evenodd\" fill-opacity=\"1\" stroke=\"#000000\" stroke-opacity=\"1\" stroke-width=\"3.2\"/>\n",
       "<circle clip-path=\"url(#clip662)\" cx=\"386.261\" cy=\"883.236\" r=\"7\" fill=\"#009af9\" fill-rule=\"evenodd\" fill-opacity=\"1\" stroke=\"#000000\" stroke-opacity=\"1\" stroke-width=\"3.2\"/>\n",
       "<circle clip-path=\"url(#clip662)\" cx=\"509.205\" cy=\"883.236\" r=\"7\" fill=\"#009af9\" fill-rule=\"evenodd\" fill-opacity=\"1\" stroke=\"#000000\" stroke-opacity=\"1\" stroke-width=\"3.2\"/>\n",
       "<circle clip-path=\"url(#clip662)\" cx=\"570.677\" cy=\"883.236\" r=\"7\" fill=\"#009af9\" fill-rule=\"evenodd\" fill-opacity=\"1\" stroke=\"#000000\" stroke-opacity=\"1\" stroke-width=\"3.2\"/>\n",
       "<circle clip-path=\"url(#clip662)\" cx=\"632.15\" cy=\"883.236\" r=\"7\" fill=\"#009af9\" fill-rule=\"evenodd\" fill-opacity=\"1\" stroke=\"#000000\" stroke-opacity=\"1\" stroke-width=\"3.2\"/>\n",
       "<circle clip-path=\"url(#clip662)\" cx=\"386.261\" cy=\"871.849\" r=\"7\" fill=\"#009af9\" fill-rule=\"evenodd\" fill-opacity=\"1\" stroke=\"#000000\" stroke-opacity=\"1\" stroke-width=\"3.2\"/>\n",
       "<circle clip-path=\"url(#clip662)\" cx=\"447.733\" cy=\"871.849\" r=\"7\" fill=\"#009af9\" fill-rule=\"evenodd\" fill-opacity=\"1\" stroke=\"#000000\" stroke-opacity=\"1\" stroke-width=\"3.2\"/>\n",
       "<circle clip-path=\"url(#clip662)\" cx=\"509.205\" cy=\"871.849\" r=\"7\" fill=\"#009af9\" fill-rule=\"evenodd\" fill-opacity=\"1\" stroke=\"#000000\" stroke-opacity=\"1\" stroke-width=\"3.2\"/>\n",
       "<circle clip-path=\"url(#clip662)\" cx=\"324.789\" cy=\"860.463\" r=\"7\" fill=\"#009af9\" fill-rule=\"evenodd\" fill-opacity=\"1\" stroke=\"#000000\" stroke-opacity=\"1\" stroke-width=\"3.2\"/>\n",
       "<circle clip-path=\"url(#clip662)\" cx=\"386.261\" cy=\"860.463\" r=\"7\" fill=\"#009af9\" fill-rule=\"evenodd\" fill-opacity=\"1\" stroke=\"#000000\" stroke-opacity=\"1\" stroke-width=\"3.2\"/>\n",
       "<circle clip-path=\"url(#clip662)\" cx=\"447.733\" cy=\"860.463\" r=\"7\" fill=\"#009af9\" fill-rule=\"evenodd\" fill-opacity=\"1\" stroke=\"#000000\" stroke-opacity=\"1\" stroke-width=\"3.2\"/>\n",
       "<circle clip-path=\"url(#clip662)\" cx=\"570.677\" cy=\"860.463\" r=\"7\" fill=\"#009af9\" fill-rule=\"evenodd\" fill-opacity=\"1\" stroke=\"#000000\" stroke-opacity=\"1\" stroke-width=\"3.2\"/>\n",
       "<circle clip-path=\"url(#clip662)\" cx=\"324.789\" cy=\"849.076\" r=\"7\" fill=\"#009af9\" fill-rule=\"evenodd\" fill-opacity=\"1\" stroke=\"#000000\" stroke-opacity=\"1\" stroke-width=\"3.2\"/>\n",
       "<circle clip-path=\"url(#clip662)\" cx=\"447.733\" cy=\"849.076\" r=\"7\" fill=\"#009af9\" fill-rule=\"evenodd\" fill-opacity=\"1\" stroke=\"#000000\" stroke-opacity=\"1\" stroke-width=\"3.2\"/>\n",
       "<circle clip-path=\"url(#clip662)\" cx=\"509.205\" cy=\"849.076\" r=\"7\" fill=\"#009af9\" fill-rule=\"evenodd\" fill-opacity=\"1\" stroke=\"#000000\" stroke-opacity=\"1\" stroke-width=\"3.2\"/>\n",
       "<circle clip-path=\"url(#clip662)\" cx=\"386.261\" cy=\"837.69\" r=\"7\" fill=\"#009af9\" fill-rule=\"evenodd\" fill-opacity=\"1\" stroke=\"#000000\" stroke-opacity=\"1\" stroke-width=\"3.2\"/>\n",
       "<circle clip-path=\"url(#clip662)\" cx=\"447.733\" cy=\"837.69\" r=\"7\" fill=\"#009af9\" fill-rule=\"evenodd\" fill-opacity=\"1\" stroke=\"#000000\" stroke-opacity=\"1\" stroke-width=\"3.2\"/>\n",
       "<circle clip-path=\"url(#clip662)\" cx=\"263.316\" cy=\"826.303\" r=\"7\" fill=\"#009af9\" fill-rule=\"evenodd\" fill-opacity=\"1\" stroke=\"#000000\" stroke-opacity=\"1\" stroke-width=\"3.2\"/>\n",
       "<circle clip-path=\"url(#clip662)\" cx=\"324.789\" cy=\"826.303\" r=\"7\" fill=\"#009af9\" fill-rule=\"evenodd\" fill-opacity=\"1\" stroke=\"#000000\" stroke-opacity=\"1\" stroke-width=\"3.2\"/>\n",
       "<circle clip-path=\"url(#clip662)\" cx=\"447.733\" cy=\"814.917\" r=\"7\" fill=\"#009af9\" fill-rule=\"evenodd\" fill-opacity=\"1\" stroke=\"#000000\" stroke-opacity=\"1\" stroke-width=\"3.2\"/>\n",
       "<circle clip-path=\"url(#clip662)\" cx=\"386.261\" cy=\"803.531\" r=\"7\" fill=\"#009af9\" fill-rule=\"evenodd\" fill-opacity=\"1\" stroke=\"#000000\" stroke-opacity=\"1\" stroke-width=\"3.2\"/>\n",
       "<circle clip-path=\"url(#clip662)\" cx=\"509.205\" cy=\"792.144\" r=\"7\" fill=\"#009af9\" fill-rule=\"evenodd\" fill-opacity=\"1\" stroke=\"#000000\" stroke-opacity=\"1\" stroke-width=\"3.2\"/>\n",
       "<circle clip-path=\"url(#clip662)\" cx=\"324.789\" cy=\"769.371\" r=\"7\" fill=\"#009af9\" fill-rule=\"evenodd\" fill-opacity=\"1\" stroke=\"#000000\" stroke-opacity=\"1\" stroke-width=\"3.2\"/>\n",
       "<circle clip-path=\"url(#clip662)\" cx=\"509.205\" cy=\"769.371\" r=\"7\" fill=\"#009af9\" fill-rule=\"evenodd\" fill-opacity=\"1\" stroke=\"#000000\" stroke-opacity=\"1\" stroke-width=\"3.2\"/>\n",
       "<circle clip-path=\"url(#clip662)\" cx=\"263.316\" cy=\"757.985\" r=\"7\" fill=\"#009af9\" fill-rule=\"evenodd\" fill-opacity=\"1\" stroke=\"#000000\" stroke-opacity=\"1\" stroke-width=\"3.2\"/>\n",
       "<circle clip-path=\"url(#clip662)\" cx=\"447.733\" cy=\"757.985\" r=\"7\" fill=\"#009af9\" fill-rule=\"evenodd\" fill-opacity=\"1\" stroke=\"#000000\" stroke-opacity=\"1\" stroke-width=\"3.2\"/>\n",
       "<circle clip-path=\"url(#clip662)\" cx=\"509.205\" cy=\"757.985\" r=\"7\" fill=\"#009af9\" fill-rule=\"evenodd\" fill-opacity=\"1\" stroke=\"#000000\" stroke-opacity=\"1\" stroke-width=\"3.2\"/>\n",
       "<circle clip-path=\"url(#clip662)\" cx=\"386.261\" cy=\"746.598\" r=\"7\" fill=\"#009af9\" fill-rule=\"evenodd\" fill-opacity=\"1\" stroke=\"#000000\" stroke-opacity=\"1\" stroke-width=\"3.2\"/>\n",
       "<circle clip-path=\"url(#clip662)\" cx=\"447.733\" cy=\"746.598\" r=\"7\" fill=\"#009af9\" fill-rule=\"evenodd\" fill-opacity=\"1\" stroke=\"#000000\" stroke-opacity=\"1\" stroke-width=\"3.2\"/>\n",
       "<circle clip-path=\"url(#clip662)\" cx=\"263.316\" cy=\"735.212\" r=\"7\" fill=\"#009af9\" fill-rule=\"evenodd\" fill-opacity=\"1\" stroke=\"#000000\" stroke-opacity=\"1\" stroke-width=\"3.2\"/>\n",
       "<circle clip-path=\"url(#clip662)\" cx=\"324.789\" cy=\"735.212\" r=\"7\" fill=\"#009af9\" fill-rule=\"evenodd\" fill-opacity=\"1\" stroke=\"#000000\" stroke-opacity=\"1\" stroke-width=\"3.2\"/>\n",
       "<circle clip-path=\"url(#clip662)\" cx=\"447.733\" cy=\"735.212\" r=\"7\" fill=\"#009af9\" fill-rule=\"evenodd\" fill-opacity=\"1\" stroke=\"#000000\" stroke-opacity=\"1\" stroke-width=\"3.2\"/>\n",
       "<circle clip-path=\"url(#clip662)\" cx=\"509.205\" cy=\"735.212\" r=\"7\" fill=\"#009af9\" fill-rule=\"evenodd\" fill-opacity=\"1\" stroke=\"#000000\" stroke-opacity=\"1\" stroke-width=\"3.2\"/>\n",
       "<circle clip-path=\"url(#clip662)\" cx=\"386.261\" cy=\"723.826\" r=\"7\" fill=\"#009af9\" fill-rule=\"evenodd\" fill-opacity=\"1\" stroke=\"#000000\" stroke-opacity=\"1\" stroke-width=\"3.2\"/>\n",
       "<circle clip-path=\"url(#clip662)\" cx=\"447.733\" cy=\"723.826\" r=\"7\" fill=\"#009af9\" fill-rule=\"evenodd\" fill-opacity=\"1\" stroke=\"#000000\" stroke-opacity=\"1\" stroke-width=\"3.2\"/>\n",
       "<circle clip-path=\"url(#clip662)\" cx=\"509.205\" cy=\"723.826\" r=\"7\" fill=\"#009af9\" fill-rule=\"evenodd\" fill-opacity=\"1\" stroke=\"#000000\" stroke-opacity=\"1\" stroke-width=\"3.2\"/>\n",
       "<circle clip-path=\"url(#clip662)\" cx=\"263.316\" cy=\"712.439\" r=\"7\" fill=\"#009af9\" fill-rule=\"evenodd\" fill-opacity=\"1\" stroke=\"#000000\" stroke-opacity=\"1\" stroke-width=\"3.2\"/>\n",
       "<circle clip-path=\"url(#clip662)\" cx=\"324.789\" cy=\"712.439\" r=\"7\" fill=\"#009af9\" fill-rule=\"evenodd\" fill-opacity=\"1\" stroke=\"#000000\" stroke-opacity=\"1\" stroke-width=\"3.2\"/>\n",
       "<circle clip-path=\"url(#clip662)\" cx=\"386.261\" cy=\"712.439\" r=\"7\" fill=\"#009af9\" fill-rule=\"evenodd\" fill-opacity=\"1\" stroke=\"#000000\" stroke-opacity=\"1\" stroke-width=\"3.2\"/>\n",
       "<circle clip-path=\"url(#clip662)\" cx=\"263.316\" cy=\"701.053\" r=\"7\" fill=\"#009af9\" fill-rule=\"evenodd\" fill-opacity=\"1\" stroke=\"#000000\" stroke-opacity=\"1\" stroke-width=\"3.2\"/>\n",
       "<circle clip-path=\"url(#clip662)\" cx=\"324.789\" cy=\"701.053\" r=\"7\" fill=\"#009af9\" fill-rule=\"evenodd\" fill-opacity=\"1\" stroke=\"#000000\" stroke-opacity=\"1\" stroke-width=\"3.2\"/>\n",
       "<circle clip-path=\"url(#clip662)\" cx=\"386.261\" cy=\"701.053\" r=\"7\" fill=\"#009af9\" fill-rule=\"evenodd\" fill-opacity=\"1\" stroke=\"#000000\" stroke-opacity=\"1\" stroke-width=\"3.2\"/>\n",
       "<circle clip-path=\"url(#clip662)\" cx=\"447.733\" cy=\"701.053\" r=\"7\" fill=\"#009af9\" fill-rule=\"evenodd\" fill-opacity=\"1\" stroke=\"#000000\" stroke-opacity=\"1\" stroke-width=\"3.2\"/>\n",
       "<circle clip-path=\"url(#clip662)\" cx=\"509.205\" cy=\"701.053\" r=\"7\" fill=\"#009af9\" fill-rule=\"evenodd\" fill-opacity=\"1\" stroke=\"#000000\" stroke-opacity=\"1\" stroke-width=\"3.2\"/>\n",
       "<circle clip-path=\"url(#clip662)\" cx=\"324.789\" cy=\"689.666\" r=\"7\" fill=\"#009af9\" fill-rule=\"evenodd\" fill-opacity=\"1\" stroke=\"#000000\" stroke-opacity=\"1\" stroke-width=\"3.2\"/>\n",
       "<circle clip-path=\"url(#clip662)\" cx=\"386.261\" cy=\"689.666\" r=\"7\" fill=\"#009af9\" fill-rule=\"evenodd\" fill-opacity=\"1\" stroke=\"#000000\" stroke-opacity=\"1\" stroke-width=\"3.2\"/>\n",
       "<circle clip-path=\"url(#clip662)\" cx=\"447.733\" cy=\"689.666\" r=\"7\" fill=\"#009af9\" fill-rule=\"evenodd\" fill-opacity=\"1\" stroke=\"#000000\" stroke-opacity=\"1\" stroke-width=\"3.2\"/>\n",
       "<circle clip-path=\"url(#clip662)\" cx=\"263.316\" cy=\"678.28\" r=\"7\" fill=\"#009af9\" fill-rule=\"evenodd\" fill-opacity=\"1\" stroke=\"#000000\" stroke-opacity=\"1\" stroke-width=\"3.2\"/>\n",
       "<circle clip-path=\"url(#clip662)\" cx=\"324.789\" cy=\"678.28\" r=\"7\" fill=\"#009af9\" fill-rule=\"evenodd\" fill-opacity=\"1\" stroke=\"#000000\" stroke-opacity=\"1\" stroke-width=\"3.2\"/>\n",
       "<circle clip-path=\"url(#clip662)\" cx=\"386.261\" cy=\"678.28\" r=\"7\" fill=\"#009af9\" fill-rule=\"evenodd\" fill-opacity=\"1\" stroke=\"#000000\" stroke-opacity=\"1\" stroke-width=\"3.2\"/>\n",
       "<circle clip-path=\"url(#clip662)\" cx=\"509.205\" cy=\"678.28\" r=\"7\" fill=\"#009af9\" fill-rule=\"evenodd\" fill-opacity=\"1\" stroke=\"#000000\" stroke-opacity=\"1\" stroke-width=\"3.2\"/>\n",
       "<circle clip-path=\"url(#clip662)\" cx=\"447.733\" cy=\"666.893\" r=\"7\" fill=\"#009af9\" fill-rule=\"evenodd\" fill-opacity=\"1\" stroke=\"#000000\" stroke-opacity=\"1\" stroke-width=\"3.2\"/>\n",
       "<circle clip-path=\"url(#clip662)\" cx=\"386.261\" cy=\"655.507\" r=\"7\" fill=\"#009af9\" fill-rule=\"evenodd\" fill-opacity=\"1\" stroke=\"#000000\" stroke-opacity=\"1\" stroke-width=\"3.2\"/>\n",
       "<circle clip-path=\"url(#clip662)\" cx=\"263.316\" cy=\"644.121\" r=\"7\" fill=\"#009af9\" fill-rule=\"evenodd\" fill-opacity=\"1\" stroke=\"#000000\" stroke-opacity=\"1\" stroke-width=\"3.2\"/>\n",
       "<circle clip-path=\"url(#clip662)\" cx=\"324.789\" cy=\"644.121\" r=\"7\" fill=\"#009af9\" fill-rule=\"evenodd\" fill-opacity=\"1\" stroke=\"#000000\" stroke-opacity=\"1\" stroke-width=\"3.2\"/>\n",
       "<circle clip-path=\"url(#clip662)\" cx=\"509.205\" cy=\"644.121\" r=\"7\" fill=\"#009af9\" fill-rule=\"evenodd\" fill-opacity=\"1\" stroke=\"#000000\" stroke-opacity=\"1\" stroke-width=\"3.2\"/>\n",
       "<circle clip-path=\"url(#clip662)\" cx=\"570.677\" cy=\"621.348\" r=\"7\" fill=\"#009af9\" fill-rule=\"evenodd\" fill-opacity=\"1\" stroke=\"#000000\" stroke-opacity=\"1\" stroke-width=\"3.2\"/>\n",
       "<circle clip-path=\"url(#clip662)\" cx=\"509.205\" cy=\"609.961\" r=\"7\" fill=\"#009af9\" fill-rule=\"evenodd\" fill-opacity=\"1\" stroke=\"#000000\" stroke-opacity=\"1\" stroke-width=\"3.2\"/>\n",
       "<circle clip-path=\"url(#clip662)\" cx=\"447.733\" cy=\"598.575\" r=\"7\" fill=\"#009af9\" fill-rule=\"evenodd\" fill-opacity=\"1\" stroke=\"#000000\" stroke-opacity=\"1\" stroke-width=\"3.2\"/>\n",
       "<circle clip-path=\"url(#clip662)\" cx=\"324.789\" cy=\"587.188\" r=\"7\" fill=\"#009af9\" fill-rule=\"evenodd\" fill-opacity=\"1\" stroke=\"#000000\" stroke-opacity=\"1\" stroke-width=\"3.2\"/>\n",
       "<circle clip-path=\"url(#clip662)\" cx=\"509.205\" cy=\"587.188\" r=\"7\" fill=\"#009af9\" fill-rule=\"evenodd\" fill-opacity=\"1\" stroke=\"#000000\" stroke-opacity=\"1\" stroke-width=\"3.2\"/>\n",
       "<circle clip-path=\"url(#clip662)\" cx=\"570.677\" cy=\"587.188\" r=\"7\" fill=\"#009af9\" fill-rule=\"evenodd\" fill-opacity=\"1\" stroke=\"#000000\" stroke-opacity=\"1\" stroke-width=\"3.2\"/>\n",
       "<circle clip-path=\"url(#clip662)\" cx=\"447.733\" cy=\"575.802\" r=\"7\" fill=\"#009af9\" fill-rule=\"evenodd\" fill-opacity=\"1\" stroke=\"#000000\" stroke-opacity=\"1\" stroke-width=\"3.2\"/>\n",
       "<circle clip-path=\"url(#clip662)\" cx=\"509.205\" cy=\"575.802\" r=\"7\" fill=\"#009af9\" fill-rule=\"evenodd\" fill-opacity=\"1\" stroke=\"#000000\" stroke-opacity=\"1\" stroke-width=\"3.2\"/>\n",
       "<circle clip-path=\"url(#clip662)\" cx=\"386.261\" cy=\"564.416\" r=\"7\" fill=\"#009af9\" fill-rule=\"evenodd\" fill-opacity=\"1\" stroke=\"#000000\" stroke-opacity=\"1\" stroke-width=\"3.2\"/>\n",
       "<circle clip-path=\"url(#clip662)\" cx=\"447.733\" cy=\"564.416\" r=\"7\" fill=\"#009af9\" fill-rule=\"evenodd\" fill-opacity=\"1\" stroke=\"#000000\" stroke-opacity=\"1\" stroke-width=\"3.2\"/>\n",
       "<circle clip-path=\"url(#clip662)\" cx=\"570.677\" cy=\"564.416\" r=\"7\" fill=\"#009af9\" fill-rule=\"evenodd\" fill-opacity=\"1\" stroke=\"#000000\" stroke-opacity=\"1\" stroke-width=\"3.2\"/>\n",
       "<circle clip-path=\"url(#clip662)\" cx=\"632.15\" cy=\"564.416\" r=\"7\" fill=\"#009af9\" fill-rule=\"evenodd\" fill-opacity=\"1\" stroke=\"#000000\" stroke-opacity=\"1\" stroke-width=\"3.2\"/>\n",
       "<circle clip-path=\"url(#clip662)\" cx=\"693.622\" cy=\"564.416\" r=\"7\" fill=\"#009af9\" fill-rule=\"evenodd\" fill-opacity=\"1\" stroke=\"#000000\" stroke-opacity=\"1\" stroke-width=\"3.2\"/>\n",
       "<circle clip-path=\"url(#clip662)\" cx=\"509.205\" cy=\"553.029\" r=\"7\" fill=\"#009af9\" fill-rule=\"evenodd\" fill-opacity=\"1\" stroke=\"#000000\" stroke-opacity=\"1\" stroke-width=\"3.2\"/>\n",
       "<circle clip-path=\"url(#clip662)\" cx=\"570.677\" cy=\"553.029\" r=\"7\" fill=\"#009af9\" fill-rule=\"evenodd\" fill-opacity=\"1\" stroke=\"#000000\" stroke-opacity=\"1\" stroke-width=\"3.2\"/>\n",
       "<circle clip-path=\"url(#clip662)\" cx=\"632.15\" cy=\"553.029\" r=\"7\" fill=\"#009af9\" fill-rule=\"evenodd\" fill-opacity=\"1\" stroke=\"#000000\" stroke-opacity=\"1\" stroke-width=\"3.2\"/>\n",
       "<circle clip-path=\"url(#clip662)\" cx=\"447.733\" cy=\"541.643\" r=\"7\" fill=\"#009af9\" fill-rule=\"evenodd\" fill-opacity=\"1\" stroke=\"#000000\" stroke-opacity=\"1\" stroke-width=\"3.2\"/>\n",
       "<circle clip-path=\"url(#clip662)\" cx=\"509.205\" cy=\"541.643\" r=\"7\" fill=\"#009af9\" fill-rule=\"evenodd\" fill-opacity=\"1\" stroke=\"#000000\" stroke-opacity=\"1\" stroke-width=\"3.2\"/>\n",
       "<circle clip-path=\"url(#clip662)\" cx=\"570.677\" cy=\"541.643\" r=\"7\" fill=\"#009af9\" fill-rule=\"evenodd\" fill-opacity=\"1\" stroke=\"#000000\" stroke-opacity=\"1\" stroke-width=\"3.2\"/>\n",
       "<circle clip-path=\"url(#clip662)\" cx=\"632.15\" cy=\"541.643\" r=\"7\" fill=\"#009af9\" fill-rule=\"evenodd\" fill-opacity=\"1\" stroke=\"#000000\" stroke-opacity=\"1\" stroke-width=\"3.2\"/>\n",
       "<circle clip-path=\"url(#clip662)\" cx=\"693.622\" cy=\"541.643\" r=\"7\" fill=\"#009af9\" fill-rule=\"evenodd\" fill-opacity=\"1\" stroke=\"#000000\" stroke-opacity=\"1\" stroke-width=\"3.2\"/>\n",
       "<circle clip-path=\"url(#clip662)\" cx=\"447.733\" cy=\"530.256\" r=\"7\" fill=\"#009af9\" fill-rule=\"evenodd\" fill-opacity=\"1\" stroke=\"#000000\" stroke-opacity=\"1\" stroke-width=\"3.2\"/>\n",
       "<circle clip-path=\"url(#clip662)\" cx=\"509.205\" cy=\"530.256\" r=\"7\" fill=\"#009af9\" fill-rule=\"evenodd\" fill-opacity=\"1\" stroke=\"#000000\" stroke-opacity=\"1\" stroke-width=\"3.2\"/>\n",
       "<circle clip-path=\"url(#clip662)\" cx=\"570.677\" cy=\"530.256\" r=\"7\" fill=\"#009af9\" fill-rule=\"evenodd\" fill-opacity=\"1\" stroke=\"#000000\" stroke-opacity=\"1\" stroke-width=\"3.2\"/>\n",
       "<circle clip-path=\"url(#clip662)\" cx=\"632.15\" cy=\"530.256\" r=\"7\" fill=\"#009af9\" fill-rule=\"evenodd\" fill-opacity=\"1\" stroke=\"#000000\" stroke-opacity=\"1\" stroke-width=\"3.2\"/>\n",
       "<circle clip-path=\"url(#clip662)\" cx=\"693.622\" cy=\"530.256\" r=\"7\" fill=\"#009af9\" fill-rule=\"evenodd\" fill-opacity=\"1\" stroke=\"#000000\" stroke-opacity=\"1\" stroke-width=\"3.2\"/>\n",
       "<circle clip-path=\"url(#clip662)\" cx=\"509.205\" cy=\"518.87\" r=\"7\" fill=\"#009af9\" fill-rule=\"evenodd\" fill-opacity=\"1\" stroke=\"#000000\" stroke-opacity=\"1\" stroke-width=\"3.2\"/>\n",
       "<circle clip-path=\"url(#clip662)\" cx=\"570.677\" cy=\"518.87\" r=\"7\" fill=\"#009af9\" fill-rule=\"evenodd\" fill-opacity=\"1\" stroke=\"#000000\" stroke-opacity=\"1\" stroke-width=\"3.2\"/>\n",
       "<circle clip-path=\"url(#clip662)\" cx=\"447.733\" cy=\"507.483\" r=\"7\" fill=\"#009af9\" fill-rule=\"evenodd\" fill-opacity=\"1\" stroke=\"#000000\" stroke-opacity=\"1\" stroke-width=\"3.2\"/>\n",
       "<circle clip-path=\"url(#clip662)\" cx=\"509.205\" cy=\"507.483\" r=\"7\" fill=\"#009af9\" fill-rule=\"evenodd\" fill-opacity=\"1\" stroke=\"#000000\" stroke-opacity=\"1\" stroke-width=\"3.2\"/>\n",
       "<circle clip-path=\"url(#clip662)\" cx=\"632.15\" cy=\"507.483\" r=\"7\" fill=\"#009af9\" fill-rule=\"evenodd\" fill-opacity=\"1\" stroke=\"#000000\" stroke-opacity=\"1\" stroke-width=\"3.2\"/>\n",
       "<circle clip-path=\"url(#clip662)\" cx=\"693.622\" cy=\"507.483\" r=\"7\" fill=\"#009af9\" fill-rule=\"evenodd\" fill-opacity=\"1\" stroke=\"#000000\" stroke-opacity=\"1\" stroke-width=\"3.2\"/>\n",
       "<circle clip-path=\"url(#clip662)\" cx=\"570.677\" cy=\"496.097\" r=\"7\" fill=\"#009af9\" fill-rule=\"evenodd\" fill-opacity=\"1\" stroke=\"#000000\" stroke-opacity=\"1\" stroke-width=\"3.2\"/>\n",
       "<circle clip-path=\"url(#clip662)\" cx=\"632.15\" cy=\"496.097\" r=\"7\" fill=\"#009af9\" fill-rule=\"evenodd\" fill-opacity=\"1\" stroke=\"#000000\" stroke-opacity=\"1\" stroke-width=\"3.2\"/>\n",
       "<circle clip-path=\"url(#clip662)\" cx=\"509.205\" cy=\"484.711\" r=\"7\" fill=\"#009af9\" fill-rule=\"evenodd\" fill-opacity=\"1\" stroke=\"#000000\" stroke-opacity=\"1\" stroke-width=\"3.2\"/>\n",
       "<circle clip-path=\"url(#clip662)\" cx=\"570.677\" cy=\"484.711\" r=\"7\" fill=\"#009af9\" fill-rule=\"evenodd\" fill-opacity=\"1\" stroke=\"#000000\" stroke-opacity=\"1\" stroke-width=\"3.2\"/>\n",
       "<circle clip-path=\"url(#clip662)\" cx=\"755.094\" cy=\"484.711\" r=\"7\" fill=\"#009af9\" fill-rule=\"evenodd\" fill-opacity=\"1\" stroke=\"#000000\" stroke-opacity=\"1\" stroke-width=\"3.2\"/>\n",
       "<circle clip-path=\"url(#clip662)\" cx=\"693.622\" cy=\"473.324\" r=\"7\" fill=\"#009af9\" fill-rule=\"evenodd\" fill-opacity=\"1\" stroke=\"#000000\" stroke-opacity=\"1\" stroke-width=\"3.2\"/>\n",
       "<circle clip-path=\"url(#clip662)\" cx=\"632.15\" cy=\"461.938\" r=\"7\" fill=\"#009af9\" fill-rule=\"evenodd\" fill-opacity=\"1\" stroke=\"#000000\" stroke-opacity=\"1\" stroke-width=\"3.2\"/>\n",
       "<circle clip-path=\"url(#clip662)\" cx=\"878.038\" cy=\"427.778\" r=\"7\" fill=\"#009af9\" fill-rule=\"evenodd\" fill-opacity=\"1\" stroke=\"#000000\" stroke-opacity=\"1\" stroke-width=\"3.2\"/>\n",
       "<circle clip-path=\"url(#clip662)\" cx=\"816.566\" cy=\"416.392\" r=\"7\" fill=\"#009af9\" fill-rule=\"evenodd\" fill-opacity=\"1\" stroke=\"#000000\" stroke-opacity=\"1\" stroke-width=\"3.2\"/>\n",
       "<circle clip-path=\"url(#clip662)\" cx=\"755.094\" cy=\"405.006\" r=\"7\" fill=\"#009af9\" fill-rule=\"evenodd\" fill-opacity=\"1\" stroke=\"#000000\" stroke-opacity=\"1\" stroke-width=\"3.2\"/>\n",
       "<circle clip-path=\"url(#clip662)\" cx=\"939.51\" cy=\"405.006\" r=\"7\" fill=\"#009af9\" fill-rule=\"evenodd\" fill-opacity=\"1\" stroke=\"#000000\" stroke-opacity=\"1\" stroke-width=\"3.2\"/>\n",
       "<circle clip-path=\"url(#clip662)\" cx=\"816.566\" cy=\"393.619\" r=\"7\" fill=\"#009af9\" fill-rule=\"evenodd\" fill-opacity=\"1\" stroke=\"#000000\" stroke-opacity=\"1\" stroke-width=\"3.2\"/>\n",
       "<circle clip-path=\"url(#clip662)\" cx=\"878.038\" cy=\"393.619\" r=\"7\" fill=\"#009af9\" fill-rule=\"evenodd\" fill-opacity=\"1\" stroke=\"#000000\" stroke-opacity=\"1\" stroke-width=\"3.2\"/>\n",
       "<circle clip-path=\"url(#clip662)\" cx=\"1000.98\" cy=\"393.619\" r=\"7\" fill=\"#009af9\" fill-rule=\"evenodd\" fill-opacity=\"1\" stroke=\"#000000\" stroke-opacity=\"1\" stroke-width=\"3.2\"/>\n",
       "<circle clip-path=\"url(#clip662)\" cx=\"755.094\" cy=\"382.233\" r=\"7\" fill=\"#009af9\" fill-rule=\"evenodd\" fill-opacity=\"1\" stroke=\"#000000\" stroke-opacity=\"1\" stroke-width=\"3.2\"/>\n",
       "<circle clip-path=\"url(#clip662)\" cx=\"816.566\" cy=\"382.233\" r=\"7\" fill=\"#009af9\" fill-rule=\"evenodd\" fill-opacity=\"1\" stroke=\"#000000\" stroke-opacity=\"1\" stroke-width=\"3.2\"/>\n",
       "<circle clip-path=\"url(#clip662)\" cx=\"939.51\" cy=\"382.233\" r=\"7\" fill=\"#009af9\" fill-rule=\"evenodd\" fill-opacity=\"1\" stroke=\"#000000\" stroke-opacity=\"1\" stroke-width=\"3.2\"/>\n",
       "<circle clip-path=\"url(#clip662)\" cx=\"1000.98\" cy=\"382.233\" r=\"7\" fill=\"#009af9\" fill-rule=\"evenodd\" fill-opacity=\"1\" stroke=\"#000000\" stroke-opacity=\"1\" stroke-width=\"3.2\"/>\n",
       "<circle clip-path=\"url(#clip662)\" cx=\"1062.45\" cy=\"382.233\" r=\"7\" fill=\"#009af9\" fill-rule=\"evenodd\" fill-opacity=\"1\" stroke=\"#000000\" stroke-opacity=\"1\" stroke-width=\"3.2\"/>\n",
       "<circle clip-path=\"url(#clip662)\" cx=\"878.038\" cy=\"370.846\" r=\"7\" fill=\"#009af9\" fill-rule=\"evenodd\" fill-opacity=\"1\" stroke=\"#000000\" stroke-opacity=\"1\" stroke-width=\"3.2\"/>\n",
       "<circle clip-path=\"url(#clip662)\" cx=\"939.51\" cy=\"370.846\" r=\"7\" fill=\"#009af9\" fill-rule=\"evenodd\" fill-opacity=\"1\" stroke=\"#000000\" stroke-opacity=\"1\" stroke-width=\"3.2\"/>\n",
       "<circle clip-path=\"url(#clip662)\" cx=\"1000.98\" cy=\"370.846\" r=\"7\" fill=\"#009af9\" fill-rule=\"evenodd\" fill-opacity=\"1\" stroke=\"#000000\" stroke-opacity=\"1\" stroke-width=\"3.2\"/>\n",
       "<circle clip-path=\"url(#clip662)\" cx=\"1062.45\" cy=\"370.846\" r=\"7\" fill=\"#009af9\" fill-rule=\"evenodd\" fill-opacity=\"1\" stroke=\"#000000\" stroke-opacity=\"1\" stroke-width=\"3.2\"/>\n",
       "<circle clip-path=\"url(#clip662)\" cx=\"816.566\" cy=\"359.46\" r=\"7\" fill=\"#009af9\" fill-rule=\"evenodd\" fill-opacity=\"1\" stroke=\"#000000\" stroke-opacity=\"1\" stroke-width=\"3.2\"/>\n",
       "<circle clip-path=\"url(#clip662)\" cx=\"878.038\" cy=\"359.46\" r=\"7\" fill=\"#009af9\" fill-rule=\"evenodd\" fill-opacity=\"1\" stroke=\"#000000\" stroke-opacity=\"1\" stroke-width=\"3.2\"/>\n",
       "<circle clip-path=\"url(#clip662)\" cx=\"939.51\" cy=\"359.46\" r=\"7\" fill=\"#009af9\" fill-rule=\"evenodd\" fill-opacity=\"1\" stroke=\"#000000\" stroke-opacity=\"1\" stroke-width=\"3.2\"/>\n",
       "<circle clip-path=\"url(#clip662)\" cx=\"1000.98\" cy=\"359.46\" r=\"7\" fill=\"#009af9\" fill-rule=\"evenodd\" fill-opacity=\"1\" stroke=\"#000000\" stroke-opacity=\"1\" stroke-width=\"3.2\"/>\n",
       "<circle clip-path=\"url(#clip662)\" cx=\"1062.45\" cy=\"359.46\" r=\"7\" fill=\"#009af9\" fill-rule=\"evenodd\" fill-opacity=\"1\" stroke=\"#000000\" stroke-opacity=\"1\" stroke-width=\"3.2\"/>\n",
       "<circle clip-path=\"url(#clip662)\" cx=\"1123.93\" cy=\"359.46\" r=\"7\" fill=\"#009af9\" fill-rule=\"evenodd\" fill-opacity=\"1\" stroke=\"#000000\" stroke-opacity=\"1\" stroke-width=\"3.2\"/>\n",
       "<circle clip-path=\"url(#clip662)\" cx=\"939.51\" cy=\"348.073\" r=\"7\" fill=\"#009af9\" fill-rule=\"evenodd\" fill-opacity=\"1\" stroke=\"#000000\" stroke-opacity=\"1\" stroke-width=\"3.2\"/>\n",
       "<circle clip-path=\"url(#clip662)\" cx=\"1000.98\" cy=\"348.073\" r=\"7\" fill=\"#009af9\" fill-rule=\"evenodd\" fill-opacity=\"1\" stroke=\"#000000\" stroke-opacity=\"1\" stroke-width=\"3.2\"/>\n",
       "<circle clip-path=\"url(#clip662)\" cx=\"1062.45\" cy=\"348.073\" r=\"7\" fill=\"#009af9\" fill-rule=\"evenodd\" fill-opacity=\"1\" stroke=\"#000000\" stroke-opacity=\"1\" stroke-width=\"3.2\"/>\n",
       "<circle clip-path=\"url(#clip662)\" cx=\"878.038\" cy=\"336.687\" r=\"7\" fill=\"#009af9\" fill-rule=\"evenodd\" fill-opacity=\"1\" stroke=\"#000000\" stroke-opacity=\"1\" stroke-width=\"3.2\"/>\n",
       "<circle clip-path=\"url(#clip662)\" cx=\"939.51\" cy=\"336.687\" r=\"7\" fill=\"#009af9\" fill-rule=\"evenodd\" fill-opacity=\"1\" stroke=\"#000000\" stroke-opacity=\"1\" stroke-width=\"3.2\"/>\n",
       "<circle clip-path=\"url(#clip662)\" cx=\"1000.98\" cy=\"336.687\" r=\"7\" fill=\"#009af9\" fill-rule=\"evenodd\" fill-opacity=\"1\" stroke=\"#000000\" stroke-opacity=\"1\" stroke-width=\"3.2\"/>\n",
       "<circle clip-path=\"url(#clip662)\" cx=\"1123.93\" cy=\"336.687\" r=\"7\" fill=\"#009af9\" fill-rule=\"evenodd\" fill-opacity=\"1\" stroke=\"#000000\" stroke-opacity=\"1\" stroke-width=\"3.2\"/>\n",
       "<circle clip-path=\"url(#clip662)\" cx=\"1185.4\" cy=\"336.687\" r=\"7\" fill=\"#009af9\" fill-rule=\"evenodd\" fill-opacity=\"1\" stroke=\"#000000\" stroke-opacity=\"1\" stroke-width=\"3.2\"/>\n",
       "<circle clip-path=\"url(#clip662)\" cx=\"1062.45\" cy=\"325.301\" r=\"7\" fill=\"#009af9\" fill-rule=\"evenodd\" fill-opacity=\"1\" stroke=\"#000000\" stroke-opacity=\"1\" stroke-width=\"3.2\"/>\n",
       "<circle clip-path=\"url(#clip662)\" cx=\"1123.93\" cy=\"325.301\" r=\"7\" fill=\"#009af9\" fill-rule=\"evenodd\" fill-opacity=\"1\" stroke=\"#000000\" stroke-opacity=\"1\" stroke-width=\"3.2\"/>\n",
       "<circle clip-path=\"url(#clip662)\" cx=\"1000.98\" cy=\"313.914\" r=\"7\" fill=\"#009af9\" fill-rule=\"evenodd\" fill-opacity=\"1\" stroke=\"#000000\" stroke-opacity=\"1\" stroke-width=\"3.2\"/>\n",
       "<circle clip-path=\"url(#clip662)\" cx=\"1062.45\" cy=\"313.914\" r=\"7\" fill=\"#009af9\" fill-rule=\"evenodd\" fill-opacity=\"1\" stroke=\"#000000\" stroke-opacity=\"1\" stroke-width=\"3.2\"/>\n",
       "<circle clip-path=\"url(#clip662)\" cx=\"1246.87\" cy=\"313.914\" r=\"7\" fill=\"#009af9\" fill-rule=\"evenodd\" fill-opacity=\"1\" stroke=\"#000000\" stroke-opacity=\"1\" stroke-width=\"3.2\"/>\n",
       "<circle clip-path=\"url(#clip662)\" cx=\"1185.4\" cy=\"302.528\" r=\"7\" fill=\"#009af9\" fill-rule=\"evenodd\" fill-opacity=\"1\" stroke=\"#000000\" stroke-opacity=\"1\" stroke-width=\"3.2\"/>\n",
       "<circle clip-path=\"url(#clip662)\" cx=\"1246.87\" cy=\"302.528\" r=\"7\" fill=\"#009af9\" fill-rule=\"evenodd\" fill-opacity=\"1\" stroke=\"#000000\" stroke-opacity=\"1\" stroke-width=\"3.2\"/>\n",
       "<circle clip-path=\"url(#clip662)\" cx=\"1123.93\" cy=\"291.141\" r=\"7\" fill=\"#009af9\" fill-rule=\"evenodd\" fill-opacity=\"1\" stroke=\"#000000\" stroke-opacity=\"1\" stroke-width=\"3.2\"/>\n",
       "<circle clip-path=\"url(#clip662)\" cx=\"1185.4\" cy=\"291.141\" r=\"7\" fill=\"#009af9\" fill-rule=\"evenodd\" fill-opacity=\"1\" stroke=\"#000000\" stroke-opacity=\"1\" stroke-width=\"3.2\"/>\n",
       "<circle clip-path=\"url(#clip662)\" cx=\"1369.82\" cy=\"291.141\" r=\"7\" fill=\"#009af9\" fill-rule=\"evenodd\" fill-opacity=\"1\" stroke=\"#000000\" stroke-opacity=\"1\" stroke-width=\"3.2\"/>\n",
       "<circle clip-path=\"url(#clip662)\" cx=\"1308.34\" cy=\"279.755\" r=\"7\" fill=\"#009af9\" fill-rule=\"evenodd\" fill-opacity=\"1\" stroke=\"#000000\" stroke-opacity=\"1\" stroke-width=\"3.2\"/>\n",
       "<circle clip-path=\"url(#clip662)\" cx=\"1246.87\" cy=\"268.368\" r=\"7\" fill=\"#009af9\" fill-rule=\"evenodd\" fill-opacity=\"1\" stroke=\"#000000\" stroke-opacity=\"1\" stroke-width=\"3.2\"/>\n",
       "<circle clip-path=\"url(#clip662)\" cx=\"1554.23\" cy=\"245.596\" r=\"7\" fill=\"#009af9\" fill-rule=\"evenodd\" fill-opacity=\"1\" stroke=\"#000000\" stroke-opacity=\"1\" stroke-width=\"3.2\"/>\n",
       "<circle clip-path=\"url(#clip662)\" cx=\"1492.76\" cy=\"234.209\" r=\"7\" fill=\"#009af9\" fill-rule=\"evenodd\" fill-opacity=\"1\" stroke=\"#000000\" stroke-opacity=\"1\" stroke-width=\"3.2\"/>\n",
       "<circle clip-path=\"url(#clip662)\" cx=\"1431.29\" cy=\"222.823\" r=\"7\" fill=\"#009af9\" fill-rule=\"evenodd\" fill-opacity=\"1\" stroke=\"#000000\" stroke-opacity=\"1\" stroke-width=\"3.2\"/>\n",
       "<circle clip-path=\"url(#clip662)\" cx=\"1615.7\" cy=\"222.823\" r=\"7\" fill=\"#009af9\" fill-rule=\"evenodd\" fill-opacity=\"1\" stroke=\"#000000\" stroke-opacity=\"1\" stroke-width=\"3.2\"/>\n",
       "<circle clip-path=\"url(#clip662)\" cx=\"1677.18\" cy=\"222.823\" r=\"7\" fill=\"#009af9\" fill-rule=\"evenodd\" fill-opacity=\"1\" stroke=\"#000000\" stroke-opacity=\"1\" stroke-width=\"3.2\"/>\n",
       "<circle clip-path=\"url(#clip662)\" cx=\"1554.23\" cy=\"211.436\" r=\"7\" fill=\"#009af9\" fill-rule=\"evenodd\" fill-opacity=\"1\" stroke=\"#000000\" stroke-opacity=\"1\" stroke-width=\"3.2\"/>\n",
       "<circle clip-path=\"url(#clip662)\" cx=\"1615.7\" cy=\"211.436\" r=\"7\" fill=\"#009af9\" fill-rule=\"evenodd\" fill-opacity=\"1\" stroke=\"#000000\" stroke-opacity=\"1\" stroke-width=\"3.2\"/>\n",
       "<circle clip-path=\"url(#clip662)\" cx=\"1738.65\" cy=\"211.436\" r=\"7\" fill=\"#009af9\" fill-rule=\"evenodd\" fill-opacity=\"1\" stroke=\"#000000\" stroke-opacity=\"1\" stroke-width=\"3.2\"/>\n",
       "<circle clip-path=\"url(#clip662)\" cx=\"1492.76\" cy=\"200.05\" r=\"7\" fill=\"#009af9\" fill-rule=\"evenodd\" fill-opacity=\"1\" stroke=\"#000000\" stroke-opacity=\"1\" stroke-width=\"3.2\"/>\n",
       "<circle clip-path=\"url(#clip662)\" cx=\"1554.23\" cy=\"200.05\" r=\"7\" fill=\"#009af9\" fill-rule=\"evenodd\" fill-opacity=\"1\" stroke=\"#000000\" stroke-opacity=\"1\" stroke-width=\"3.2\"/>\n",
       "<circle clip-path=\"url(#clip662)\" cx=\"1677.18\" cy=\"200.05\" r=\"7\" fill=\"#009af9\" fill-rule=\"evenodd\" fill-opacity=\"1\" stroke=\"#000000\" stroke-opacity=\"1\" stroke-width=\"3.2\"/>\n",
       "<circle clip-path=\"url(#clip662)\" cx=\"1738.65\" cy=\"200.05\" r=\"7\" fill=\"#009af9\" fill-rule=\"evenodd\" fill-opacity=\"1\" stroke=\"#000000\" stroke-opacity=\"1\" stroke-width=\"3.2\"/>\n",
       "<circle clip-path=\"url(#clip662)\" cx=\"1615.7\" cy=\"188.664\" r=\"7\" fill=\"#009af9\" fill-rule=\"evenodd\" fill-opacity=\"1\" stroke=\"#000000\" stroke-opacity=\"1\" stroke-width=\"3.2\"/>\n",
       "<circle clip-path=\"url(#clip662)\" cx=\"1677.18\" cy=\"188.664\" r=\"7\" fill=\"#009af9\" fill-rule=\"evenodd\" fill-opacity=\"1\" stroke=\"#000000\" stroke-opacity=\"1\" stroke-width=\"3.2\"/>\n",
       "<circle clip-path=\"url(#clip662)\" cx=\"1738.65\" cy=\"188.664\" r=\"7\" fill=\"#009af9\" fill-rule=\"evenodd\" fill-opacity=\"1\" stroke=\"#000000\" stroke-opacity=\"1\" stroke-width=\"3.2\"/>\n",
       "<circle clip-path=\"url(#clip662)\" cx=\"1800.12\" cy=\"188.664\" r=\"7\" fill=\"#009af9\" fill-rule=\"evenodd\" fill-opacity=\"1\" stroke=\"#000000\" stroke-opacity=\"1\" stroke-width=\"3.2\"/>\n",
       "<circle clip-path=\"url(#clip662)\" cx=\"1861.59\" cy=\"188.664\" r=\"7\" fill=\"#009af9\" fill-rule=\"evenodd\" fill-opacity=\"1\" stroke=\"#000000\" stroke-opacity=\"1\" stroke-width=\"3.2\"/>\n",
       "<circle clip-path=\"url(#clip662)\" cx=\"1923.07\" cy=\"188.664\" r=\"7\" fill=\"#009af9\" fill-rule=\"evenodd\" fill-opacity=\"1\" stroke=\"#000000\" stroke-opacity=\"1\" stroke-width=\"3.2\"/>\n",
       "<circle clip-path=\"url(#clip662)\" cx=\"1677.18\" cy=\"177.277\" r=\"7\" fill=\"#009af9\" fill-rule=\"evenodd\" fill-opacity=\"1\" stroke=\"#000000\" stroke-opacity=\"1\" stroke-width=\"3.2\"/>\n",
       "<circle clip-path=\"url(#clip662)\" cx=\"1738.65\" cy=\"177.277\" r=\"7\" fill=\"#009af9\" fill-rule=\"evenodd\" fill-opacity=\"1\" stroke=\"#000000\" stroke-opacity=\"1\" stroke-width=\"3.2\"/>\n",
       "<circle clip-path=\"url(#clip662)\" cx=\"1800.12\" cy=\"177.277\" r=\"7\" fill=\"#009af9\" fill-rule=\"evenodd\" fill-opacity=\"1\" stroke=\"#000000\" stroke-opacity=\"1\" stroke-width=\"3.2\"/>\n",
       "<circle clip-path=\"url(#clip662)\" cx=\"1861.59\" cy=\"177.277\" r=\"7\" fill=\"#009af9\" fill-rule=\"evenodd\" fill-opacity=\"1\" stroke=\"#000000\" stroke-opacity=\"1\" stroke-width=\"3.2\"/>\n",
       "<circle clip-path=\"url(#clip662)\" cx=\"1738.65\" cy=\"165.891\" r=\"7\" fill=\"#009af9\" fill-rule=\"evenodd\" fill-opacity=\"1\" stroke=\"#000000\" stroke-opacity=\"1\" stroke-width=\"3.2\"/>\n",
       "<circle clip-path=\"url(#clip662)\" cx=\"1800.12\" cy=\"165.891\" r=\"7\" fill=\"#009af9\" fill-rule=\"evenodd\" fill-opacity=\"1\" stroke=\"#000000\" stroke-opacity=\"1\" stroke-width=\"3.2\"/>\n",
       "<circle clip-path=\"url(#clip662)\" cx=\"1861.59\" cy=\"165.891\" r=\"7\" fill=\"#009af9\" fill-rule=\"evenodd\" fill-opacity=\"1\" stroke=\"#000000\" stroke-opacity=\"1\" stroke-width=\"3.2\"/>\n",
       "<circle clip-path=\"url(#clip662)\" cx=\"1923.07\" cy=\"165.891\" r=\"7\" fill=\"#009af9\" fill-rule=\"evenodd\" fill-opacity=\"1\" stroke=\"#000000\" stroke-opacity=\"1\" stroke-width=\"3.2\"/>\n",
       "<circle clip-path=\"url(#clip662)\" cx=\"1984.54\" cy=\"165.891\" r=\"7\" fill=\"#009af9\" fill-rule=\"evenodd\" fill-opacity=\"1\" stroke=\"#000000\" stroke-opacity=\"1\" stroke-width=\"3.2\"/>\n",
       "<circle clip-path=\"url(#clip662)\" cx=\"2046.01\" cy=\"165.891\" r=\"7\" fill=\"#009af9\" fill-rule=\"evenodd\" fill-opacity=\"1\" stroke=\"#000000\" stroke-opacity=\"1\" stroke-width=\"3.2\"/>\n",
       "<circle clip-path=\"url(#clip662)\" cx=\"1800.12\" cy=\"154.504\" r=\"7\" fill=\"#009af9\" fill-rule=\"evenodd\" fill-opacity=\"1\" stroke=\"#000000\" stroke-opacity=\"1\" stroke-width=\"3.2\"/>\n",
       "<circle clip-path=\"url(#clip662)\" cx=\"1861.59\" cy=\"154.504\" r=\"7\" fill=\"#009af9\" fill-rule=\"evenodd\" fill-opacity=\"1\" stroke=\"#000000\" stroke-opacity=\"1\" stroke-width=\"3.2\"/>\n",
       "<circle clip-path=\"url(#clip662)\" cx=\"1923.07\" cy=\"154.504\" r=\"7\" fill=\"#009af9\" fill-rule=\"evenodd\" fill-opacity=\"1\" stroke=\"#000000\" stroke-opacity=\"1\" stroke-width=\"3.2\"/>\n",
       "<circle clip-path=\"url(#clip662)\" cx=\"1984.54\" cy=\"154.504\" r=\"7\" fill=\"#009af9\" fill-rule=\"evenodd\" fill-opacity=\"1\" stroke=\"#000000\" stroke-opacity=\"1\" stroke-width=\"3.2\"/>\n",
       "<circle clip-path=\"url(#clip662)\" cx=\"2046.01\" cy=\"154.504\" r=\"7\" fill=\"#009af9\" fill-rule=\"evenodd\" fill-opacity=\"1\" stroke=\"#000000\" stroke-opacity=\"1\" stroke-width=\"3.2\"/>\n",
       "<circle clip-path=\"url(#clip662)\" cx=\"1800.12\" cy=\"143.118\" r=\"7\" fill=\"#009af9\" fill-rule=\"evenodd\" fill-opacity=\"1\" stroke=\"#000000\" stroke-opacity=\"1\" stroke-width=\"3.2\"/>\n",
       "<circle clip-path=\"url(#clip662)\" cx=\"1861.59\" cy=\"143.118\" r=\"7\" fill=\"#009af9\" fill-rule=\"evenodd\" fill-opacity=\"1\" stroke=\"#000000\" stroke-opacity=\"1\" stroke-width=\"3.2\"/>\n",
       "<circle clip-path=\"url(#clip662)\" cx=\"1923.07\" cy=\"143.118\" r=\"7\" fill=\"#009af9\" fill-rule=\"evenodd\" fill-opacity=\"1\" stroke=\"#000000\" stroke-opacity=\"1\" stroke-width=\"3.2\"/>\n",
       "<circle clip-path=\"url(#clip662)\" cx=\"1984.54\" cy=\"143.118\" r=\"7\" fill=\"#009af9\" fill-rule=\"evenodd\" fill-opacity=\"1\" stroke=\"#000000\" stroke-opacity=\"1\" stroke-width=\"3.2\"/>\n",
       "<circle clip-path=\"url(#clip662)\" cx=\"2046.01\" cy=\"143.118\" r=\"7\" fill=\"#009af9\" fill-rule=\"evenodd\" fill-opacity=\"1\" stroke=\"#000000\" stroke-opacity=\"1\" stroke-width=\"3.2\"/>\n",
       "<circle clip-path=\"url(#clip662)\" cx=\"2107.48\" cy=\"143.118\" r=\"7\" fill=\"#009af9\" fill-rule=\"evenodd\" fill-opacity=\"1\" stroke=\"#000000\" stroke-opacity=\"1\" stroke-width=\"3.2\"/>\n",
       "<circle clip-path=\"url(#clip662)\" cx=\"1984.54\" cy=\"131.731\" r=\"7\" fill=\"#009af9\" fill-rule=\"evenodd\" fill-opacity=\"1\" stroke=\"#000000\" stroke-opacity=\"1\" stroke-width=\"3.2\"/>\n",
       "<circle clip-path=\"url(#clip662)\" cx=\"2046.01\" cy=\"131.731\" r=\"7\" fill=\"#009af9\" fill-rule=\"evenodd\" fill-opacity=\"1\" stroke=\"#000000\" stroke-opacity=\"1\" stroke-width=\"3.2\"/>\n",
       "<circle clip-path=\"url(#clip662)\" cx=\"2168.95\" cy=\"131.731\" r=\"7\" fill=\"#009af9\" fill-rule=\"evenodd\" fill-opacity=\"1\" stroke=\"#000000\" stroke-opacity=\"1\" stroke-width=\"3.2\"/>\n",
       "<circle clip-path=\"url(#clip662)\" cx=\"2230.43\" cy=\"131.731\" r=\"7\" fill=\"#009af9\" fill-rule=\"evenodd\" fill-opacity=\"1\" stroke=\"#000000\" stroke-opacity=\"1\" stroke-width=\"3.2\"/>\n",
       "<circle clip-path=\"url(#clip662)\" cx=\"1984.54\" cy=\"120.345\" r=\"7\" fill=\"#009af9\" fill-rule=\"evenodd\" fill-opacity=\"1\" stroke=\"#000000\" stroke-opacity=\"1\" stroke-width=\"3.2\"/>\n",
       "<circle clip-path=\"url(#clip662)\" cx=\"2107.48\" cy=\"120.345\" r=\"7\" fill=\"#009af9\" fill-rule=\"evenodd\" fill-opacity=\"1\" stroke=\"#000000\" stroke-opacity=\"1\" stroke-width=\"3.2\"/>\n",
       "<circle clip-path=\"url(#clip662)\" cx=\"2168.95\" cy=\"120.345\" r=\"7\" fill=\"#009af9\" fill-rule=\"evenodd\" fill-opacity=\"1\" stroke=\"#000000\" stroke-opacity=\"1\" stroke-width=\"3.2\"/>\n",
       "<circle clip-path=\"url(#clip662)\" cx=\"2107.48\" cy=\"108.959\" r=\"7\" fill=\"#009af9\" fill-rule=\"evenodd\" fill-opacity=\"1\" stroke=\"#000000\" stroke-opacity=\"1\" stroke-width=\"3.2\"/>\n",
       "<circle clip-path=\"url(#clip662)\" cx=\"2291.9\" cy=\"108.959\" r=\"7\" fill=\"#009af9\" fill-rule=\"evenodd\" fill-opacity=\"1\" stroke=\"#000000\" stroke-opacity=\"1\" stroke-width=\"3.2\"/>\n",
       "<circle clip-path=\"url(#clip662)\" cx=\"2291.9\" cy=\"97.5721\" r=\"7\" fill=\"#009af9\" fill-rule=\"evenodd\" fill-opacity=\"1\" stroke=\"#000000\" stroke-opacity=\"1\" stroke-width=\"3.2\"/>\n",
       "<circle clip-path=\"url(#clip662)\" cx=\"2230.43\" cy=\"86.1857\" r=\"7\" fill=\"#009af9\" fill-rule=\"evenodd\" fill-opacity=\"1\" stroke=\"#000000\" stroke-opacity=\"1\" stroke-width=\"3.2\"/>\n",
       "</svg>\n"
      ]
     },
     "execution_count": 62,
     "metadata": {},
     "output_type": "execute_result"
    }
   ],
   "source": [
    "scatter(x, y, markersize=2, xlabel=\"v₀ (m/s)\", ylabel=\"θ₀ (°)\", label=\"\")"
   ]
  },
  {
   "cell_type": "code",
   "execution_count": null,
   "metadata": {},
   "outputs": [],
   "source": []
  }
 ],
 "metadata": {
  "@webio": {
   "lastCommId": null,
   "lastKernelId": null
  },
  "kernelspec": {
   "display_name": "Julia 1.3.1",
   "language": "julia",
   "name": "julia-1.3"
  },
  "language_info": {
   "file_extension": ".jl",
   "mimetype": "application/julia",
   "name": "julia",
   "version": "1.3.1"
  }
 },
 "nbformat": 4,
 "nbformat_minor": 4
}
